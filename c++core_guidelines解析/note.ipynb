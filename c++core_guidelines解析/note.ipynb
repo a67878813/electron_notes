{
 "cells": [
  {
   "cell_type": "code",
   "execution_count": null,
   "metadata": {},
   "outputs": [],
   "source": []
  },
  {
   "cell_type": "markdown",
   "metadata": {},
   "source": [
    "# 代码表达思想\n",
    "表明返回类型 ， 表明不修改对象；\n",
    "使用std算法\n",
    "如\n",
    "auto it = std::find(begin(v),end(v),val);\n",
    "\n",
    "而不是 for\n",
    "int index = -1；\n",
    "佛如（interestingi；i《v.size();++i）{\n",
    "    if（vi[i] == val){\n",
    "      index =i;\n",
    "      break;  \n",
    "    }\n",
    "}"
   ]
  },
  {
   "cell_type": "markdown",
   "metadata": {},
   "source": [
    "# 使用ISO 标注你的C++ 代码\n",
    "文档需要描述实际的行为\n",
    "不要出现未定义行为，\n",
    "当必须使用未ISO化扩展时，可用稳定的接口封装"
   ]
  },
  {
   "cell_type": "markdown",
   "metadata": {},
   "source": [
    "# 表达意图\n",
    "for (const auto& v:vec){...}  //不修改容器元素，\n",
    "\n",
    "for (auto& v:vec){...} //可修改元素\n",
    "\n",
    "std::for_each(std::execution::par, vec, [](auto v) {...});          //并行*std::execution::par*执行，无顺序要求\n",
    "\n",
    "文档应说明代码做了什么，不是怎么做。\n",
    "\n"
   ]
  },
  {
   "cell_type": "markdown",
   "metadata": {},
   "source": [
    "program应当是静态类型安全的\n",
    "\n",
    "编译器知道数据的类型，可以检测到类型错误\n",
    "\n",
    "对于 union cast 数组退化、范围错误、窄化转换，有相应办法\n",
    "\n",
    "c++17后 std::variant 可替代union\n",
    "\n",
    "基于template的代码减少cast的需要；\n",
    "\n",
    "当使用C array调用函数时，就会发生数组退化。\n",
    "函数需要使用指向数组第一个元素的指针，另加数组的长度。\n",
    "这意味着，从一个类型丰富的C array开始，，以类型差的数组首项指针结束。\n",
    "c++20开始解决：\n",
    "std::span\n",
    "std::span 可以自动推算出CArray大小，也可以防止范围错误的发生\n",
    "\n",
    "窄化是对算数值的有精度损失的隐式转换。\n",
    "int i1(2.14);\n",
    "int i2 = 3.14;\n",
    "\n",
    "如果使用{}初始化语法，编译器可以检测到*窄化转换*；\n",
    "int i1{3.14};\n",
    "int i2 = {3.14};\n",
    "\n"
   ]
  },
  {
   "cell_type": "markdown",
   "metadata": {},
   "source": [
    "# 有限选择编译时期检查\n",
    "\n",
    "C++11开始支持：\n",
    "\n",
    "static_assert\n",
    "\n",
    "编译器可以对\n",
    "static_assert(size(int)>=4) 表达式进行求值，并可产生编译错误。\n",
    "类型特征（type traits） 库允许程序员表达丰富的条件，\n",
    "例如\n",
    "static_assert(std::is_integral<T>::value) \n",
    "\n",
    "当static_assert中的表达式求值为faluse 时，编译器会输出一个可读的错误信息\n",
    "\n"
   ]
  },
  {
   "cell_type": "markdown",
   "metadata": {},
   "source": [
    "## 其他事项应在运行期检查\n",
    "\n",
    "dynamic_cast 可以安全的将类的*指针*和*引用*沿着继承层次结构进行：向上、向下、侧向转换。\n",
    "如果转型失败,\n",
    "对于指针，得到nullptr;\n",
    "对于引用，得到std::bad_cast 异常"
   ]
  },
  {
   "cell_type": "markdown",
   "metadata": {},
   "source": [
    "## 今早识别运行期错误\n",
    "\n",
    "管理好指针和CArray，检查范围。\n",
    "检查cast\n",
    "尽量避免转换，\n",
    "避免窄化的*转换*及*输入*"
   ]
  },
  {
   "cell_type": "markdown",
   "metadata": {},
   "source": [
    "## 不要卸扣任何资源\n",
    "\n",
    "资源泄露对于长期运行的程序尤其致命。资源可以是*内存*、*文件句柄*、*套接字*。\n",
    "处理资源的惯用法时RAII。\n",
    "RAII时Resource Acquisition Is Initialization 的缩写。资源获取即初始化。\n",
    "本质上意味着你在用户定义类型的*构造函数*中获取资源，在*析构函数*中释放资源。\n",
    "通过使对象成为一个有作用于的对象，C++ 在运行时会自动招呼道资源的生存期。\n",
    "\n",
    "C++ 大量使用RAII： 锁负责处理互斥量，\n",
    "智能指针负责处理原始内存，\n",
    "STL的容器负责处理底层元素。\n"
   ]
  },
  {
   "cell_type": "markdown",
   "metadata": {},
   "source": [
    "## 不要浪费时间和空间\n",
    "\n",
    "如下函数：\n",
    "void lower(std::string s) {\n",
    "    for (unsigned int i = 0;i<=std::strlen(s.data());++i){\n",
    "        s[i] =std::tolower(s[i]);\n",
    "    }\n",
    "}\n",
    "\n",
    "使用stl算法 std::transform\n",
    "std::transform(s.begin(),s.end(),s.begin(),\n",
    "    [](char c){return std::tolower(c);  });\n",
    "// 算法自动确定了字符串的大小。不需要指定长度。\n",
    "\n",
    "\n",
    "例子2：\n",
    "为一个用户定义的主句类型生命*拷贝语义*（**拷贝构造**函数，和**拷贝赋值**运算符），\n",
    "会*抑制*自动定义的*移动语义*（**移动构造函数**和**移动赋值运算符**）.\n",
    "\n",
    "最终，编译器永远用不了*廉价*的*移动语义*，而只能使用代价高昂的拷贝语义。\n",
    "\n",
    "struct S{\n",
    "    std::string s_;\n",
    "    S(std::string s): s_(s) {}  //**拷贝构造函数**\n",
    "    S(const S& rhs): s_(rhs.s_){}  //**拷贝构造函数**\n",
    "    s& operator =(const S& rhs) {s_ =rhs.s_;return *this;}  //**拷贝赋值**运算符\n",
    "\n",
    "\n",
    "}\n",
    "S s1;\n",
    "S s2 = std::move(s1); // 此处实际行为为*拷贝*，不能从s1.s_移动"
   ]
  },
  {
   "cell_type": "markdown",
   "metadata": {},
   "source": [
    "## 移动构造函数\n",
    "定义一个空的*构造函数方法*，该方法采用一个*对类类型的右值引用*作为参数，如以下示例所示：\n",
    "\n",
    "MemoryBlock(MemoryBlock&& other)\n",
    "   : _data(nullptr)\n",
    "   , _length(0)\n",
    "{\n",
    "    *移动构造函数中，将源对象中的类数据成员添加到要构造的对象：*\n",
    "_data = other._data;\n",
    "_length = other._length;\n",
    "\n",
    " *将源对象的数据成员分配给默认值。 这可以防止析构函数多次释放资源（如内存）:*\n",
    " other._data = nullptr;\n",
    "other._length = 0;\n",
    "}"
   ]
  },
  {
   "cell_type": "markdown",
   "metadata": {},
   "source": [
    "## 移动赋值运算符\n",
    "定义一个空的赋值运算符，该运算符采用一个*对类类型的右值引用*作为参数并返回一个对类类型的引用，如以下示例所示：\n",
    "\n",
    "MemoryBlock& operator=(MemoryBlock&& other)\n",
    "{\n",
    "*在移动赋值运算符中，如果尝试将对象赋给自身，则添加不执行运算的条件语句。*\n",
    "if (this != &other)\n",
    "{\n",
    "    在条件语句中，从  *被赋值*   对象中释放所有资源（如内存\n",
    "\n",
    "    //以下示例 将 *被赋值* 的对象中释放_data成员\n",
    "    // Free the existing resource.\n",
    "    delete[] _data;\n",
    "\n",
    "\n",
    "    *将数据成员从源对象转移到要构造的对象*\n",
    "\n",
    "    // Copy the data pointer and its length from the\n",
    "    // source object    .\n",
    "    _data = other._data;\n",
    "    _length = other._length;\n",
    "\n",
    "    // Release the data pointer from the source object so that\n",
    "    // the destructor does not free the memory multiple times.\n",
    "    other._data = nullptr;\n",
    "    other._length = 0;\n",
    "\n",
    "    *返回对当前对象的引用*\n",
    "    return *this;\n",
    "}\n",
    "\n",
    "}\n",
    "\n",
    "## 若要防止资源泄漏，请始终释放移动赋值运算符中的资源（如内存、文件句柄和套接字）。\n",
    "\n",
    "## 若要防止不可恢复的资源损坏，请正确处理移动赋值运算符中的自我赋值。"
   ]
  },
  {
   "cell_type": "markdown",
   "metadata": {},
   "source": [
    "如果为你的类\n",
    "*同时提供了移动构造函数和移动赋值运算符*\n",
    "，则可以编写*移动构造函数*来调用**移动赋值运算符**，从而消除冗余代码。 以下示例显示了调用移动赋值运算符的移动构造函数的修改后的版本：\n",
    "\n",
    "// Move constructor.\n",
    "MemoryBlock(MemoryBlock&& other) noexcept\n",
    "   : _data(nullptr)\n",
    "   , _length(0)\n",
    "{\n",
    "   *this = std::move(other); //__调用移动赋值运算符__\n",
    "}\n",
    "\n",
    "//*std::move 函数将左值 other 转换为右值。*\n",
    "*括号内为左值，直接写为右值*\n",
    "*this = other   //类型不匹配\n",
    "*this = &other //不行吗？？为何显示调用std::move// 不能正确调用移动赋值运算符吗？\n"
   ]
  },
  {
   "cell_type": "markdown",
   "metadata": {},
   "source": [
    "## const 优先\n",
    "使用常量时，代码更容易验证。\n",
    "常量有更高的优化潜力，\n",
    "常量在*并发程序*中有很大优势。\n",
    "\n",
    "不可变数据在设计上是没有*数据竞争*的。"
   ]
  },
  {
   "cell_type": "markdown",
   "metadata": {},
   "source": [
    "## 封装杂乱的构建\n",
    "混乱的代码往往是低级代码，易于隐藏错误，出问题。\n",
    "\n",
    "尽量使用STL中的高级构建（容器、算法）\n",
    "\n",
    "把杂乱的代码封装到一个自定义类型、函数中。"
   ]
  },
  {
   "cell_type": "markdown",
   "metadata": {},
   "source": [
    "## 使用辅助工具\n",
    "使用静态分析工具、并发工具、测试工具自动完成*验证步骤*。"
   ]
  },
  {
   "cell_type": "markdown",
   "metadata": {},
   "source": [
    "## 使用设计良好、文档齐全、支持良好的库\n",
    "c++STL、 、Guidelines支持库\n",
    "Boost库\n",
    "\n"
   ]
  },
  {
   "cell_type": "markdown",
   "metadata": {},
   "source": []
  }
 ],
 "metadata": {
  "language_info": {
   "name": "python"
  }
 },
 "nbformat": 4,
 "nbformat_minor": 2
}
