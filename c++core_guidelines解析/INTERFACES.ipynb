{
 "cells": [
  {
   "cell_type": "code",
   "execution_count": null,
   "metadata": {},
   "outputs": [],
   "source": []
  },
  {
   "cell_type": "markdown",
   "metadata": {},
   "source": [
    "## 避免非const的全局变量\n",
    "\n",
    "全局比那辆会在函数中注入隐藏的依赖。\n",
    "*依赖*不是接口的一部分。\n",
    "\n",
    "int glob{2011};\n",
    "\n",
    "int multiply(int fac){\n",
    "    glob *=glob;\n",
    "    return glob* fac;\n",
    "}"
   ]
  }
 ],
 "metadata": {
  "language_info": {
   "name": "python"
  }
 },
 "nbformat": 4,
 "nbformat_minor": 2
}
