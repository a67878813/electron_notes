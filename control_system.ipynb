{
 "cells": [
  {
   "cell_type": "markdown",
   "metadata": {},
   "source": [
    "## 控制\n"
   ]
  },
  {
   "cell_type": "markdown",
   "metadata": {},
   "source": [
    "\n",
    "前馈控制器：\n",
    "    重力补偿等，到达大概位置|速度\n",
    "\n",
    "    追踪目标q_r(t)\n",
    "\n",
    "    使用逆动力模型推算系统输入 u(t),使系统追到q_r(t)附近的  q_r^*(t)\n",
    "\n",
    "    之后靠反馈控制器 处理误差\n",
    "\n",
    "    e(t) = q_r(t) -  q_r^*(t)\n",
    "\n"
   ]
  },
  {
   "cell_type": "markdown",
   "metadata": {},
   "source": [
    "    \n",
    "反馈控制器：\n",
    "\n",
    "处理剩余误差、扰动。\n",
    "\n",
    "常见PID控制器，滑模控制器（P随时间变化的PD控制器）\n",
    "\n",
    "是误差的函数\n",
    "\n",
    "$$  \\Delta u(t)  = f(e  , \\dot e   , \\ddot e) $$"
   ]
  },
  {
   "cell_type": "markdown",
   "metadata": {},
   "source": [
    "PID 控制器的误差的函数为\n",
    "\n",
    "$$   \\Delta u(t)  = K_p e + K_i  \\int e \\mathrm{d}t + K_d \\dot e $$"
   ]
  },
  {
   "cell_type": "markdown",
   "metadata": {},
   "source": [
    "其中 *P控制器*\n",
    "$K_p e$\n",
    "可以理解为：\n",
    "\n",
    "目前机器人距离目标点还有一些误差， 误差越大，我们把输入正比例放大， 误差越小，输入正比例放小"
   ]
  },
  {
   "cell_type": "markdown",
   "metadata": {},
   "source": [
    "I 控制器 理解为 \n",
    "\n",
    "我们怎么调整P控制器，总无法到达目标，比如有一个外力刚好可以抵消掉 $K_p e$, 那么总会残留一些误差。\n",
    "\n",
    "我们把残留的误差积分起来，加到输入里。\n"
   ]
  },
  {
   "cell_type": "markdown",
   "metadata": {},
   "source": [
    "D 控制器 $K_d \\dot e$ 理解为：\n",
    "\n",
    "已在目标位置附近，不希望冲太猛，不然会在目标位置震动，\n",
    "\n",
    " (速度) 越大 --》误差减小越大， $\\dot e $ 越负向增大 ，$K_d \\dot e$ 越负，\n",
    "\n",
    " 起降速、稳定作用。\n",
    " \n",
    "\n"
   ]
  },
  {
   "cell_type": "markdown",
   "metadata": {},
   "source": [
    "例子：\n",
    "\n",
    "假设系统动力学模型为：\n",
    "\n",
    "$$ M \\ddot x(t) + D\\dot x (t) + K x(t) = H^T \\space U(t) $$\n",
    "\n",
    "$$ H^T \\space U(t)  = H^T (u(0) + \\Delta u(t)) $$"
   ]
  },
  {
   "cell_type": "markdown",
   "metadata": {},
   "source": [
    "需要追踪的轨迹为 \n",
    "\n",
    "$x_r(t)$\n",
    "\n",
    "定义:(轨迹差)\n",
    "\n",
    "$$ e(t) = x_r(t) - x(t) $$"
   ]
  },
  {
   "cell_type": "markdown",
   "metadata": {},
   "source": [
    "那么，我们可以算出 \n",
    "$x_r(t)$ \n",
    "下的前馈 \n",
    "$u(t)$\n",
    "\n",
    "$$u(t) = (H_T)^{-1}  (M \\ddot x(t) + D\\dot x (t) + K x(t))$$"
   ]
  },
  {
   "cell_type": "markdown",
   "metadata": {},
   "source": [
    "在这条轨迹上的真实的飞船动力学性能：\n",
    "\n",
    "难以建模或小\n",
    "\n",
    "$$ M \\ddot x(t) + D\\dot x (t) + K x(t)  +\\alpha (t )= H^T \\space U(t) $$\n"
   ]
  },
  {
   "cell_type": "markdown",
   "metadata": {},
   "source": [
    "整理：\n",
    "\n",
    "$$H_T \\space \\Delta u(t) = \\alpha(t)$$"
   ]
  },
  {
   "cell_type": "markdown",
   "metadata": {},
   "source": [
    "此时设计反馈控制器，使用PID:\n",
    "\n",
    "$$ \\Delta u(t) = (H_T)^{-1}  (K_p e + K_i  \\int e \\mathrm{d}t + K_d \\dot e )$$"
   ]
  },
  {
   "cell_type": "markdown",
   "metadata": {},
   "source": [
    "带入得：\n",
    "\n",
    "$$ \\alpha (t) = K_p e + K_i  \\int e \\mathrm{d}t + K_d \\dot e $$\n"
   ]
  },
  {
   "cell_type": "markdown",
   "metadata": {},
   "source": [
    "由于 $\\alpha (t) $ 是有界，bounded.\n",
    "\n",
    "所以总可以设计一个PID控制器的增益，使得 e(t) 收敛为0附近。其大小取决于  $\\alpha (t) $ 。\n",
    "\n"
   ]
  },
  {
   "cell_type": "markdown",
   "metadata": {},
   "source": [
    "相反，仅使用PID控制系统，那么\n",
    "\n",
    "$$K_p e + K_i  \\int e \\mathrm{d}t + K_d \\dot e = M \\ddot x(t) + D\\dot x (t) + K x(t)  +\\alpha (t )$$"
   ]
  },
  {
   "cell_type": "markdown",
   "metadata": {},
   "source": [
    "是无界的，所以e(t)  【轨迹差】 无法收敛到0.\n",
    "\n",
    "即，仅用PID控制器无法保证飞船可以追上该轨迹。\n",
    "\n"
   ]
  },
  {
   "cell_type": "markdown",
   "metadata": {},
   "source": [
    "### 适合只用PID控制器的系统特征\n",
    "\n",
    "1. 起始点在目标位置附近， 即e 较小，变化较慢的系统。\n",
    "\n",
    "那么 \n",
    "$$ M \\ddot x(t) + D\\dot x (t) + K x(t)  +\\alpha (t )  = H^T (u(0) + \\Delta u(t)) $$"
   ]
  },
  {
   "cell_type": "markdown",
   "metadata": {},
   "source": [
    "其中，由于系统变化较慢， 所以\n",
    "\n",
    "$\\ddot x_r(t) \\approx 0$\n",
    "\n",
    "$\\dot x_r(t) \\approx 0$\n",
    "\n",
    "由于在目标位置附近，所以\n",
    "\n",
    "$Kx_r(t) \\approx H^T u(0)$"
   ]
  },
  {
   "cell_type": "markdown",
   "metadata": {},
   "source": [
    "化简，仍可得：\n",
    "\n",
    "$$ \\alpha (t) = K_p e + K_i  \\int e \\mathrm{d}t + K_d \\dot e $$"
   ]
  },
  {
   "cell_type": "markdown",
   "metadata": {},
   "source": [
    "所以系统仍然可控。"
   ]
  },
  {
   "cell_type": "markdown",
   "metadata": {},
   "source": [
    "\n",
    "PID仅仅用于单输入，单输出系统。\n",
    "\n",
    "当遇到多输入，多输出系统时，如上例，H是一个矩阵，此时仍然需要用到模型中的H矩阵把多输入多输出系统控制器转化为PID控制器来设计。\n",
    "\n",
    "这里还是用到了模型信息，\n",
    "\n",
    "这也是为什么需要动力学模型的原因之一。\n",
    "\n"
   ]
  },
  {
   "cell_type": "markdown",
   "metadata": {},
   "source": []
  },
  {
   "cell_type": "markdown",
   "metadata": {},
   "source": [
    "### 定点控制\n",
    "\n",
    "目标：从一个位置移动到另一个位置，并保持稳定。\n",
    "\n",
    "主要关注最终位置的**精度**和**稳定性**。 通常不强调运动过程中的时间约束。\n",
    "\n",
    "如果有时间要求，时间约束通常是次要的。\n",
    "\n",
    "\n",
    "\n"
   ]
  },
  {
   "cell_type": "markdown",
   "metadata": {},
   "source": [
    "### 轨迹跟踪\n",
    "\n",
    "轨迹跟踪要求机器人精确地沿着预定的轨迹运动，步进需要**跟随路径上的位置** ， 还要满足**时间和速度**的要求。\n",
    "\n",
    "对整个运动过程的精确性和动态特性要求更高。\n",
    "\n"
   ]
  },
  {
   "cell_type": "markdown",
   "metadata": {},
   "source": [
    "### 逆运动学控制\n",
    "\n",
    "基与机器人动力学模型的**前馈控制方法**，通过动力学模型计算所需的关节力或力矩，实现机器人沿预定轨迹运动。\n",
    "\n",
    "通常用于复杂的机器人系统中，能够提供更高的控制精度。\n",
    "\n",
    "实际应用中通常与 **反馈控制** 结合。"
   ]
  },
  {
   "cell_type": "markdown",
   "metadata": {},
   "source": [
    "### 总结\n",
    "\n",
    "显示世界里大部分模型都是**非线性但连续|可导**, **前馈控制**负责把总误差压倒足够小，**反馈控制**再完成最后这段**近似线性**的部分。\n"
   ]
  },
  {
   "cell_type": "markdown",
   "metadata": {},
   "source": [
    "### 机器人动力学分析\n",
    "\n",
    "指哪打哪\n",
    "\n",
    "需要\n",
    "\n",
    "1. 驱动每个电机完成*角位移控制*\n",
    "\n",
    "对每个电机进行动力学建模：\n",
    "\n",
    "$$ \\tau = k_t I = J \\ddot \\theta $$\n",
    "\n",
    "其中 $K_t$  是电机的**转矩常数**\n",
    "\n",
    "I是电流， \n",
    "\n",
    "J是转子的**转动惯量**\n",
    "\n",
    "$\\ddot \\theta$ 是角加速度\n",
    "\n",
    "$\\tau$ 是**由电流引起的转矩**。\n",
    "\n"
   ]
  },
  {
   "cell_type": "markdown",
   "metadata": {},
   "source": [
    "2. 减速机动力学建模\n",
    "\n",
    "...\n",
    "\n"
   ]
  },
  {
   "cell_type": "markdown",
   "metadata": {},
   "source": [
    "3. 小扰动， pid处理\n",
    "\n",
    "\n",
    "4. 目标扰动建模\n",
    "...\n",
    "\n"
   ]
  },
  {
   "cell_type": "markdown",
   "metadata": {},
   "source": [
    "## 常见伺服启动器控制模式\n",
    "\n",
    "1. 外部脉冲位置控制\n",
    "2. 速度控制\n",
    "3. 力矩控制\n",
    "4. JOG 控制\n",
    "5. 全闭环位置控制（外接第二编码器）\n",
    "6. 混合控制： 位置力矩/位置速度/速度力矩\n",
    "\n",
    "\n",
    "\n",
    "伺服电机控制特性\n",
    "\n",
    "控制方式 IGBT SVPWM 正弦波控制\n",
    "\n",
    "编码器反馈方式 ： 总线式编码器 ，rs485协议\n",
    "\n",
    "归一化伺服参数PC 调试工具，使用刚性等参数，可快速实现伺服参数调整\n",
    "\n",
    "易用性功能一键自整定、单参数整定、超级跟随功能\n",
    "\n",
    "\n",
    "*陷波滤波器抑制机械共振*，支持三组陷波器,50Hz~4000Hz\n",
    "\n",
    "摆振抑制抑制末端振动\n",
    "\n",
    "DI/DO 设置可自由分配数字量输入/ 输出\n",
    "\n",
    "报警功能\n",
    "过压、欠压、过流、过载、过热、过速、主电源输入缺相、再生制动状态异常、\n",
    "位置偏差过大、编码器反馈错误、制动率过大、行程超限、EEPROM 错误等。\n",
    "\n",
    "调试软件\n",
    "通过Motion Studio 2 调试软件可以调节电流环、位置环、速度环的各个参\n",
    "数，更改输入输出信号有效电平和电机参数，并可以文件形式进行参数的\n",
    "导入导出，方便驱动器和不同电机或不同负载的匹配；监视在梯形波测试\n",
    "运行下速度、位置误差等波形。\n",
    "\n",
    "\n",
    "通讯功能\n",
    "支持USB：基于Modbus 协议（依据USB2.0 规格），可连接电脑进行参\n",
    "数设定和状态监控。\n",
    "L8P 支持RS485 总线通讯方式（RJ45 接口）, 基于Modbus 协议，最大32 轴。\n",
    "\n",
    "动态制动内置动态制动，有特殊派生型号去掉动态制动。\n",
    "\n",
    "\n",
    "位置比较输出支持42 点位置比较输出。\n",
    "黑匣子功能\n",
    "支持黑匣子功能，可以捕获预先设定条件前后的数据，配合Motion Studio 2 软件读取数据，以进一步分析。\n",
    "\n",
    "**适用负载惯量小于电机惯量的30 倍**。\n",
    "\n"
   ]
  },
  {
   "cell_type": "markdown",
   "metadata": {},
   "source": [
    "### 输入信号\n",
    "\n",
    "DI 点数：10 点（支持共阴和共阳2 种方式）\n",
    "可分配的输入信号：\n",
    "y 伺服使能输入（SRV-ON）\n",
    "y 警报清除（A-CLR）\n",
    "y 增益切换输入（GAIN）\n",
    "y 偏差计数器清除输入（CL）\n",
    "y 控制模式切换输入（C-MODE）\n",
    "y 转矩限制切换输入（TL-SEL）\n",
    "y 减振控制切换输入 1（VS-SEL1）\n",
    "y 减振控制切换输入 2（VS-SEL2）\n",
    "y 指令脉冲禁止输入（INH）\n",
    "y 内部指令速度选择 1输入（INTSPD1）\n",
    "y 内部指令速度选择 2输入（INTSPD2）\n",
    "y 内部指令速度选择 3输入（INTSPD3）\n",
    "y 指令分频倍频切换输入 1（DIV1）\n",
    "y 正向驱动禁止输入（POT）\n",
    "y 负向驱动禁止输入（NOT）\n",
    "y 零速箝位输入（ZEROSPD）\n",
    "y 速度指令符号输入（VC-SIGN）\n",
    "y 转矩指令符号输入（TC-SIGN）\n",
    "y 强制报警输入（E-STOP）"
   ]
  },
  {
   "cell_type": "markdown",
   "metadata": {},
   "source": [
    "PR 模式可分配的输入信号：\n",
    "y 路径触发 (CTRG)\n",
    "y 回零触发 (HOME)\n",
    "y 急停触发 (STP)\n",
    "y 路径 0~3（ADD0~ADD3）\n",
    "y 正向点动 (PJOG)\n",
    "y 反向点动 (NJOG)\n",
    "y 正限位 (PL)\n",
    "y 负限位 (NL)\n",
    "y 原点输入 (ORG)"
   ]
  },
  {
   "cell_type": "markdown",
   "metadata": {},
   "source": [
    "### 输出信号\n",
    "\n",
    "DO 点数：6 点（2 点单端输出，4 点双端输出）\n",
    "可分配的输出信号：\n",
    "y 伺服准备输出（SRDY）\n",
    "y 外部制动器解除信号（BRK-OFF）\n",
    "y 定位完成（INP1）\n",
    "y 速度到达输出（AT-SPEED）\n",
    "y 零速箝位检测输出（ZSP）\n",
    "y 报警输出（ALARM）\n",
    "y 速度一致输出（V-COIN）\n",
    "y 位置指令有无输出（P-CMD）\n",
    "y 速度限制中输出（V-LIMIT）\n",
    "y 速度指令有无输出（V-CMD）\n",
    "y 伺服使能开启状态输出（SRV-ST）\n",
    "y 正限位有效输出（POT-OUT）\n",
    "y 负限位有效输出（NOT-OUT）"
   ]
  },
  {
   "cell_type": "markdown",
   "metadata": {},
   "source": [
    "PR 模式可分配的输入信号\n",
    "\n",
    "y 指令完成（CMD-OK）\n",
    "y 路径完成 (PR-OK)\n",
    "y 回零完成 (HOME-OK)"
   ]
  },
  {
   "cell_type": "markdown",
   "metadata": {},
   "source": [
    "### 负载转动惯量\n",
    "\n",
    "负载转动惯量表示负载的惯量。负载*转动惯量越大，响应性越差*，过大可能会导致运动不稳定。伺服电机的允许负载转动惯量的大小受限。该值为大致标准，会因伺服电机的驱动条件而异。\n",
    "\n",
    "在超过允许负载转动惯量的情况下使用时，减速时会发生**过电压警报**。此外，伺服驱动器内置制动电阻时， 会发生“过载警报”。发生此类警报时，请采取以下任一措施：\n",
    "■ 减小转矩限制值。\n",
    "■ 减小减速曲率。\n",
    "■ 降低最高转速。\n",
    "■ 采取以上措施后仍无法解除警报时，需要外置制动电阻。\n",
    "\n"
   ]
  },
  {
   "cell_type": "markdown",
   "metadata": {},
   "source": [
    "### 使用环境\n",
    "\n",
    "使用温度：0℃ ~55℃（不冻结） 超过45℃请降额使用，每超1℃降额2%\n",
    "\n",
    "振动小于0.5g（4.9m/s2）10-60Hz（非连续运行）"
   ]
  },
  {
   "cell_type": "markdown",
   "metadata": {},
   "source": [
    "### 位置控制 \n",
    "    1. 最大输入脉冲频率 如 4Mhz, 500kHz  ,200kHz\n",
    "        电子齿轮比\n",
    "        转矩限制"
   ]
  },
  {
   "cell_type": "markdown",
   "metadata": {},
   "source": []
  },
  {
   "cell_type": "markdown",
   "metadata": {},
   "source": [
    "### 驱动器的连接\n",
    "\n",
    "使用TN/TT 电网电源，\n",
    "\n",
    "在输入电源侧加装电磁接触器。\n",
    "\n",
    "使用ALM（故障信号）切断主回路电源。\n",
    "\n",
    "连接保护接地PE段子。\n",
    "\n",
    "整个系统接地处理，否则可能导致**产品误动作**。\n",
    "\n",
    "切断电源后设备内部电容仍有残余电压，请至少**等待 5分钟**再进行接线等操作，否则可能\n",
    "导致触电。\n",
    "\n",
    "\n",
    "在垂直轴上使用伺服系统时，请遵守以下注意事项：\n",
    "\n",
    "设置安全装置以免工件在报警、碰撞限位等状态下**落下**。\n",
    "\n",
    "\n",
    "使用**电源滤波器**减小电磁干扰的影响"
   ]
  },
  {
   "cell_type": "markdown",
   "metadata": {},
   "source": [
    "### 抱闸电机接线注意事项\n",
    "\n",
    "■ 内置制动器的电机运转时，制动器可能会发出咔嚓声，功能上并无影响。\n",
    "■ 制动器线圈通电时 ( 保持制动器开放状态 )，在轴端等部位可能发生磁通泄漏。在电\n",
    "机附近使用磁性传感器等仪器时，请加以注意。\n",
    "■ 电机抱闸线缆长度需要充分考虑到线缆电阻导致的压降，抱闸工作需要保证输入电压\n",
    "能够保证在24V 左右，这样才能保证抱闸功能的正常使用。\n",
    "■ 抱闸禁止与其他用电器共用电源，防止因其他用电器工作，导致电压或电流降低，最\n",
    "终引起抱闸误动作。\n"
   ]
  },
  {
   "cell_type": "markdown",
   "metadata": {},
   "source": [
    "### 再生制动电阻选型及接线\n",
    "\n",
    "再生制动电阻作用\n",
    "当电机的力矩与旋转方向相反时（常见场景如减速、垂直轴下降等场景），此时能量会从\n",
    "负载反馈回驱动器。这时候的能量回馈首先由驱动器内的电容接收，使得电容的电压上升，\n",
    "当上升到一定电压值时，需要由再生电阻消耗多余的能量，否则会导致过电压。\n",
    "\n",
    "再生能量与多种因素相关，减小再生能量功率的措施有：\n",
    "*减小转动惯量*、\n",
    "*增加减速时间*、\n",
    "*减小负载转矩*、\n",
    "*降低最大转速*等。"
   ]
  },
  {
   "cell_type": "markdown",
   "metadata": {},
   "source": []
  },
  {
   "cell_type": "code",
   "execution_count": 21,
   "metadata": {},
   "outputs": [
    {
     "name": "stdout",
     "output_type": "stream",
     "text": [
      "产生的制动能量 = 131.34 J    ,En126.81465865562222\n",
      "所需回生电阻功率  Pr = \t108.491\n",
      "所需回生电阻功率 修正值 Pr = \t180.818\n"
     ]
    }
   ],
   "source": [
    "\n",
    "import numpy as np\n",
    "#转子惯量 10^-4 kg.m^2\n",
    "I_axis = 1.66 * 10**(-4)\n",
    "#负载惯量\n",
    "I_load = I_axis *  15 \n",
    "#再生转矩#负转矩\n",
    "\n",
    "#电容可吸收最大回生能量 Ec (J)  \n",
    "Ec_J = 22.85\n",
    "\n",
    "\n",
    "\n",
    "#电机运行参数\n",
    "#电机转矩\n",
    "current_torque = 0\n",
    "\n",
    "#电机转速 #rpm\n",
    "angle_speed = 3000\n",
    "\n",
    "\n",
    "\n",
    "\n",
    "#制动能量\n",
    "E1 = (I_load +I_axis  ) * angle_speed**2 / 182\n",
    "\n",
    "\n",
    "T = 2#s\n",
    "En =  (I_load +I_axis  ) * angle_speed**2  / ( 2*np.pi * 60 / T)\n",
    "print(f\"产生的制动能量 = {round(E1,2)} J    ,En{En}\")\n",
    "\n",
    "\n",
    "\n",
    "#再生电阻功率\n",
    "Pr = (E1-Ec_J)/ (0.5 * T)\n",
    "\n",
    "#恶劣环境 降频\n",
    "#\n",
    "safe_index = 1- 0.4\n",
    "print(f\"所需回生电阻功率  Pr = \\t{round(Pr,3)}\")\n",
    "print(f\"所需回生电阻功率 修正值 Pr = \\t{round(Pr / safe_index,3)}\")\n",
    "#再生电阻值需等于内置电阻值，否则需要增大\n",
    "\n"
   ]
  },
  {
   "cell_type": "code",
   "execution_count": 8,
   "metadata": {},
   "outputs": [
    {
     "data": {
      "text/plain": [
       "28.980891719745223"
      ]
     },
     "execution_count": 8,
     "metadata": {},
     "output_type": "execute_result"
    }
   ],
   "source": [
    "182/ (2*3.14)   #每分30次\n",
    "\n"
   ]
  },
  {
   "cell_type": "code",
   "execution_count": 9,
   "metadata": {},
   "outputs": [
    {
     "data": {
      "text/plain": [
       "188.49"
      ]
     },
     "execution_count": 9,
     "metadata": {},
     "output_type": "execute_result"
    }
   ],
   "source": [
    "2*3.1415 *60/2"
   ]
  },
  {
   "cell_type": "markdown",
   "metadata": {},
   "source": []
  },
  {
   "cell_type": "markdown",
   "metadata": {},
   "source": [
    "## 判断系统类型\n",
    "\n",
    "线性定常\n",
    "\n",
    "线性时变\n",
    "\n",
    "非线性\n",
    "\n",
    "\n",
    "$$C(t) = 2+ 3\\frac{\\rm{d} r(t)}{\\rm d(t)} + \\frac{\\rm{d}^2 r(t)}{\\rm{d} t^2} \\space\\text{非线性}$$\n",
    "$$C(t) = 4+ 5 r(t) \\space\\text{非线性}$$\n",
    "$$C(t) = r^2(t) \\space\\text{非线性}$$\n",
    "$$C(t) = 3r(t) + 5\\int_{-\\infty}^{t} r(\\tau) \\rm{d} \\tau \\space\\text{线性}$$\n",
    "$$\\frac{\\rm d ^2 C(t)}{\\rm{d} t^2} + 3\\frac{\\rm{d} C(t)}{\\rm {d} t} + 2C(t) = r(t) \\space\\text{线性}$$\n",
    "\n",
    "$$C(t) = 5+ r(t) + t \\frac{\\rm{d} r(t)}{\\rm{d} t}  \\space\\text{非线性}$$"
   ]
  },
  {
   "cell_type": "markdown",
   "metadata": {},
   "source": [
    "有常数项，不满足齐次性。\n",
    "积分、微分\n",
    "系数带t，有时变性。"
   ]
  },
  {
   "cell_type": "markdown",
   "metadata": {},
   "source": [
    "控制系统性能\n",
    "稳快准\n",
    "\n",
    "稳定性\n",
    "\n",
    "快速性（tp峰值， tr上升 ， ts调节， \\sigma 超调量）\n",
    "\n",
    "准确性 （e_ss 稳态误差)"
   ]
  },
  {
   "cell_type": "markdown",
   "metadata": {},
   "source": [
    "控制系统数学模型\n",
    "$$\\frac{\\rm d ^2 C(t)}{\\rm{d} t^2} + 3\\frac{\\rm{d} C(t)}{\\rm {d} t} + 2C(t) = r(t)$$"
   ]
  },
  {
   "cell_type": "markdown",
   "metadata": {},
   "source": [
    "例子\n",
    "给出微分方程\n",
    "\n",
    "$$RC\\frac{\\rm{d} U_c}{\\rm {d}t} + U_c = U_0 \\cdot 1(t)$$"
   ]
  },
  {
   "cell_type": "markdown",
   "metadata": {},
   "source": [
    "步骤： L变换， 求U(s) , 逆L变换。"
   ]
  },
  {
   "cell_type": "markdown",
   "metadata": {},
   "source": [
    "$$RC s \\cdot U_c(s) - RC\\cdot U_c(0) + U_c(s) = U_0 \\frac{1}{s} $$"
   ]
  },
  {
   "cell_type": "markdown",
   "metadata": {},
   "source": [
    "$$U_c(s) = \\frac{U_0}{s(RCs +1)} + \\frac{RC}{RCs+1}\\cdot U_c(0)         $$\n",
    "\n",
    "$$U_c(s) = \\frac{U_0}{s} - \\frac{1}{s+ \\frac{1}{RC} }\\cdot U_0 + \\frac{1}{s+ \\frac{1}{RC}}U_c(0)         $$"
   ]
  },
  {
   "cell_type": "markdown",
   "metadata": {},
   "source": [
    "$$Uc(t) = U_0(1 - e^{-\\frac{1}{RC}t}   ) + U_c(0) e^{-\\frac{1}{RC}t}     \\space \\{t\\geq 0\\}                 $$"
   ]
  },
  {
   "cell_type": "markdown",
   "metadata": {},
   "source": []
  },
  {
   "cell_type": "markdown",
   "metadata": {},
   "source": [
    "例子 给出传递函数\n",
    "\n",
    "$$G(s) = \\frac{C(s)}{R(s)}  =   \n",
    "\\frac{b_0 s^m+ b_1 s^{m-1} \\cdots + b_m}\n",
    "{1 s^n  + a_1 s^{n-1}  +\\cdots + a_n}\n",
    "\\space \\{ n\\geq m \\}\n",
    "$$\n",
    "\n",
    "分母次数高， 分子次数低。在物理上可实现。\n",
    "\n",
    "分母=0极点 ，分子=0 零点\n",
    "\n",
    "C(s) 输出\n",
    "\n",
    "R(s) 输入\n",
    "\n",
    "$s = \\sigma + j\\omega$\n",
    "拉氏变换所用的复变量"
   ]
  },
  {
   "cell_type": "markdown",
   "metadata": {},
   "source": []
  },
  {
   "cell_type": "markdown",
   "metadata": {},
   "source": [
    "要点：\n",
    "\n",
    "1. 传递函数是线性时不变系统的一种**动态数学模型**\n",
    "2. 只与系统本身结构有固安， 而与系统输入、输出**具体形式无关**。\n",
    "3. 是在**零初始条件**下定义的。 （相对静止）\n",
    "4. n\\geq m ， 且所有系数均为实数。\n",
    "5. 有局限性。只能表示**单输入、单输出**关系。 不反应输入变量和中间变量关系（中间过程都省略掉了）。\n"
   ]
  },
  {
   "cell_type": "markdown",
   "metadata": {},
   "source": [
    "传递函数常用表达形式\n",
    "\n",
    "零点极点表达式\n",
    "$$\n",
    "G(s) = \\frac\n",
    "{K^* \\prod_{j=1}^{m} (S - Z_j) }\n",
    "{\\prod_{i=1}^{n} (S - P_i)}\n",
    "$$\n",
    "\n",
    "$K^* $ 根轨迹增益。\n",
    "$Z_j$ 零点，\n",
    "$P_i$ 极点。"
   ]
  },
  {
   "cell_type": "markdown",
   "metadata": {},
   "source": [
    "时间常数表达式\n",
    "\n",
    "$$G(s)  =\n",
    "\\frac{K \\prod _{j=1}^{q} (\\Tau _{j} S + 1 )   \\prod _{j=p+1}^{m}  (\\Tau _j^2  S^2 + 2 g\\Tau _{j} S )                }\n",
    "{S^V \\prod _{i=1}^{q}(T_i S+1)   \\prod _{i=q+1}^{n-V} (T_i^2S^2  +2gT_iS+1  )   }\n",
    "$$      "
   ]
  },
  {
   "cell_type": "markdown",
   "metadata": {},
   "source": [
    "K 传递系数"
   ]
  },
  {
   "cell_type": "markdown",
   "metadata": {},
   "source": [
    "例子\n",
    "$$G(s)=\n",
    "\\frac\n",
    "{2(5s+1)}\n",
    "{S^2(2S+1)(3S+1)}\n",
    "$$"
   ]
  },
  {
   "cell_type": "markdown",
   "metadata": {},
   "source": [
    "典型环节的传递函数\n",
    "\n",
    "1. 比例\n",
    "\n",
    "K:     $G(s) = K$\n",
    "\n",
    "2. 积分\n",
    "\n",
    "$\n",
    "\\frac{\\rm d C(t)}{\\rm d t} = r(t)\n",
    "$\n",
    "\n",
    "$\n",
    "C (t) = \\int r(t)\\rm d t\n",
    "$\n",
    "\n",
    "$G(s) = 1/s$\n",
    "\n",
    "3. 微分\n",
    "\n",
    "$C(t) = \\frac{\\rm d r(t) }{\\rm d t}$\n",
    "\n",
    "$G(s) = S$"
   ]
  },
  {
   "cell_type": "markdown",
   "metadata": {},
   "source": [
    "4. 惯性环节：\n",
    "\n",
    "$ \\Tau \\frac{\\rm d C(t)}{\\rm d t} + C(t) = r(t) $\n",
    "\n",
    "$G(s) = \\frac{1}{TS +1}$"
   ]
  },
  {
   "cell_type": "markdown",
   "metadata": {},
   "source": [
    "5. 一阶微分环节\n",
    "\n",
    "$C(t) = T \\frac{\\rm d r(t)}{\\rm d t} + r(t)$\n",
    "\n",
    "$G(s) = \\Tau S +1$"
   ]
  },
  {
   "cell_type": "markdown",
   "metadata": {},
   "source": [
    "6. 二阶微分环节\n",
    "\n",
    "$G(s) = \\Tau ^2 S^2 +2\\tau g s + 1$"
   ]
  },
  {
   "cell_type": "markdown",
   "metadata": {},
   "source": [
    "7. 二阶 振幅\n",
    "\n",
    "$G(s) = \\frac{1}{\\Tau ^2 S^2  2gT S +1 }$"
   ]
  },
  {
   "cell_type": "markdown",
   "metadata": {},
   "source": [
    "8. 延迟环节\n",
    "$C(t) = r(t - \\tau)$\n",
    "\n",
    "$G(s) = e^{-\\tau S}$"
   ]
  },
  {
   "cell_type": "markdown",
   "metadata": {},
   "source": [
    "结构图变换原则\n",
    "1. 变换前后， 前向通道中，**传递函数乘积不变**。\n",
    "2. 变换前后回路中，**传递函数乘积不变**。"
   ]
  },
  {
   "cell_type": "markdown",
   "metadata": {},
   "source": [
    "串联， \n",
    "G_1(s) -> G_2(s)  ==>  G_1(s) \\cdot G_2(s)\n",
    "\n",
    "并联\n",
    "\n",
    "G_1(s)       ==>  G_1+G_2\n",
    "\n",
    "G_2(s) "
   ]
  },
  {
   "cell_type": "markdown",
   "metadata": {},
   "source": [
    "反馈环节*\n",
    "\n",
    "    Rs  --  -> G1(s)   --  --> C(s)\n",
    "\n",
    "        -|               |\n",
    "    \n",
    "        <--    H(s)   <--\n"
   ]
  },
  {
   "cell_type": "markdown",
   "metadata": {},
   "source": [
    "$C(s) = [R(s) - H(s)\\cdot C(s)]\\cdot G_1(s)    $\n",
    "\n",
    "$\n",
    "\\frac{C(s)}{R(s)} = \\frac{G_1}{1+ G_1 H}\n",
    "$\n",
    "\n",
    "$$= \\frac{前向通道}{1 + 前向通道 \\times 反馈} $$"
   ]
  },
  {
   "cell_type": "markdown",
   "metadata": {},
   "source": [
    "## 控制系统的时域分析法\n",
    "\n",
    "### 典型输入信号\n",
    "1. 阶跃响应\n",
    "\n",
    "2. 斜坡信号\n",
    "$r(t) = K t$\n",
    "3. 加速度信号\n",
    "$r(t)  = 1/2 Rt^2$"
   ]
  },
  {
   "cell_type": "markdown",
   "metadata": {},
   "source": [
    "4. 脉冲信号\n",
    "$\\delta (t)$\n",
    "\n",
    "$\\int _{-\\infty}^{\\infty} \\delta(t)\\rm{d} t =1$\n",
    "\n",
    "$\\frac{1}{\\xi}  * \\xi$\n",
    "\n",
    "$\\xi << 被控对象时间常数$\n",
    "\n",
    "5. 正弦信号\n",
    "$r(t) = A sin(\\omega t)$"
   ]
  },
  {
   "cell_type": "markdown",
   "metadata": {},
   "source": [
    "### L变换表\n",
    "\n",
    "\n",
    "$$\n",
    "\\begin{matrix}\n",
    "& 时域 &复频域  &  & \\\\\n",
    "&1  & \\frac{1}{S} &  &  \\\\\n",
    "\\\\\n",
    "&t  &\\frac{1}{S^2}  &  &  \\\\\n",
    "\\\\\n",
    "&\\frac{1}{2}t^2  & \\frac{1}{S^3}  &  &  \\\\\n",
    "\\\\\n",
    "&\\delta (t)  & 1 &  & \\\\\n",
    "\\\\\n",
    "& A \\sin(\\omega t) & \\frac{A\\omega}{S^2+\\omega^2}  &  & \\\\\n",
    "\\\\\n",
    "& e^{-nt} & \\frac{1}{S+n}  &  & \\\\\n",
    "&  &  &  & \n",
    "\n",
    "\\end{matrix}\n",
    "$$"
   ]
  },
  {
   "cell_type": "markdown",
   "metadata": {},
   "source": [
    "性能指标\n",
    "\n",
    "1. 上升时间tr\n",
    "2. 峰值时间tp\n",
    "3. 调节时间ts($\\pm 5\\% $,$\\pm 2\\% $)\n",
    "4. 超调量$\\sigma$\n",
    "\n",
    "$\\sigma = \\frac{C_{max} - C_{\\infty}}{C_{\\infty}} \\times 100 \\%$\n",
    "\n",
    "5. 稳态误差 \n",
    "\n",
    "$e_{ss} = \\lim _{t-> \\infty} e(t)$"
   ]
  },
  {
   "cell_type": "markdown",
   "metadata": {},
   "source": [
    "## 一阶系统的时域响应\n",
    "\n",
    "数学模型为一阶微分方程的控制系统\n",
    "\n",
    "$$\n",
    "\\Phi(s)= \\frac{C(S)}{R(S)} \n",
    "$$\n",
    "\n",
    "$$\\Phi(S) = \\frac{1}{TS+1}$$\n",
    "\n",
    "$$RC \\frac{d C(t)}{d t} + C(t) = r(t)$$\n",
    "\n",
    "$$C(S) = \\Phi(S) \\cdot R(S) = \\frac{1}{TS+1}\\cdot \\frac{1}{S} = \\frac{1}{S} - \\frac{1}{S+ \\frac{1}{T}}$$\n",
    "\n",
    "$$C(t) = 1 - e^{-\\frac{t}{T}    } , t\\geq0$$"
   ]
  },
  {
   "cell_type": "markdown",
   "metadata": {},
   "source": [
    "相关指标\n",
    "\n",
    "超调量 $\\sigma =0$,\n",
    "\n",
    "T值大小反应慢性， T越小，慢性越小，响应越快\n",
    "\n",
    "t=3T 时， C(t) = 95%\n",
    "\n",
    "t=4T 时， C(t) = 98.2%"
   ]
  },
  {
   "cell_type": "markdown",
   "metadata": {},
   "source": [
    "## 一阶系统单位脉冲响应\n",
    "\n",
    "$$C(S) = \\Phi(S) \\cdot R(S) = \\frac{1}{TS+1}  = \\frac{ \\frac{1}{T}  }{ S + \\frac{1}{T} }$$\n",
    "\n",
    "$$C(t) = \\frac{1}{T} e^{-\\frac{1}{T} t}  ,t\\geq 0 $$"
   ]
  },
  {
   "cell_type": "markdown",
   "metadata": {},
   "source": [
    "T 越小，响应时间越短，快速性越好\n",
    "\n",
    "单位脉冲响应是单位阶跃的**导数**， 而单位阶跃是单位脉冲的**积分**。"
   ]
  },
  {
   "cell_type": "markdown",
   "metadata": {},
   "source": [
    "## 一阶系统的单位斜坡信号\n",
    "\n",
    "$$C(S) = \\Phi(S) \\cdot R(S) = \\frac{1}{TS+1} \\cdot \\frac{1}{S^2} = \\frac{1}{S^2} - \\frac{T}{S} + \\frac{T^2}{TS+1}"
   ]
  },
  {
   "cell_type": "markdown",
   "metadata": {},
   "source": [
    "$$C(t) = (t-T) + T e^{-\\frac{t}{T}}$$"
   ]
  },
  {
   "cell_type": "markdown",
   "metadata": {},
   "source": [
    "$r(t) = t$\n",
    "\n",
    "$$e(t) = r(t) - C(t) = T - T e^{-\\frac{t}{T}}$$\n",
    "\n",
    "稳态误差为T。\n",
    "\n",
    "T 越小， e(t) 越小， 更准确。"
   ]
  },
  {
   "cell_type": "markdown",
   "metadata": {},
   "source": [
    "结论：\n",
    "\n",
    "系统对**输入信号导数**的响应， 等于对**该输入信号响应**的导数；\n",
    "\n",
    "系统对**输入信号积分**的响应，等于系统**对该输入响应**的积分；\n",
    "\n",
    "积分、微分可以*跨越*传递函数。(线性性质？？)"
   ]
  },
  {
   "cell_type": "markdown",
   "metadata": {},
   "source": [
    "## 二阶系统的时域响应\n",
    "\n",
    "$T^2 \\frac{d^2 C(t)}{dt^2}+ 2\\xi T \\frac{d C(t)}{dt} + C(t) = r(t)\n",
    "$"
   ]
  },
  {
   "cell_type": "markdown",
   "metadata": {},
   "source": [
    "$\\Phi(S) = \\frac{\\omega _n^2 }\n",
    "{S^2 + 2\\xi \\omega _n S + \\omega _n^2}\n",
    "$\n",
    "\n",
    "首1 形式  ，  $\\xi $阻尼比 ， $\\omega _n = 1/T$ 无阻尼自然震荡频率 \n",
    "\n"
   ]
  },
  {
   "cell_type": "markdown",
   "metadata": {},
   "source": [
    "D: 二阶系统闭环极点：\n",
    "\n",
    "$D(S) = S^2 + 2\\xi \\omega _n S + \\omega _n^2 = 0$\n",
    "\n",
    "$S_ {1,2}  =  -\\xi \\omega _n \\pm \\omega _n \\sqrt{\\xi^2 -1}$\n",
    "\n",
    "-------------"
   ]
  },
  {
   "cell_type": "markdown",
   "metadata": {},
   "source": [
    "极点位置分类：\n",
    "$S = \\sigma + j \\omega$"
   ]
  },
  {
   "cell_type": "markdown",
   "metadata": {},
   "source": [
    "$0<\\xi<1$ , （欠阻尼）一对负实部共轭复根 **\n",
    "\n",
    "$\\xi =1$ （临界阻尼，非震荡）, 两个相等负实根，  $S_1 = S_2 = -\\xi \\omega _n =  -\\omega _n$\n",
    "\n",
    "$\\xi > 1 $ (过阻尼，越大变化越慢，约小响应越快) , 两个不相等的负实根\n",
    "\n",
    "$\\xi = 0$ , (无阻尼，等幅震荡)两个共轭复根 ， $S_{1,2} = \\pm j\\omega _n$\n",
    "\n",
    "$-1< \\xi < 1$ ， 具有正实部共轭复根 ， 不稳定\n",
    "\n",
    "$\\xi < -1$ , 两个不相等正实根。 不稳定\n",
    "\n",
    "\n"
   ]
  },
  {
   "cell_type": "markdown",
   "metadata": {},
   "source": [
    "## 二阶系统的单位阶跃响应 **\n",
    "\n",
    "$\n",
    "C(S) = \\Phi(S) \\cdot R(S) = \n",
    "\\frac{\\omega _n^2 }\n",
    "{S^2 + 2\\xi \\omega _n S + \\omega _n^2} \n",
    "\\cdot \n",
    "\\frac{1}{S}\n",
    "$"
   ]
  },
  {
   "cell_type": "markdown",
   "metadata": {},
   "source": [
    "令 $\\omega _d = \\omega _ n\\sqrt{1-\\xi ^2}$  有阻尼的自然震荡频率\n",
    "\n",
    "$\\theta = \\arctan (\\frac{\\sqrt{1-\\xi^2}}{\\xi})$  阻尼角\n",
    "\n",
    "$\\sigma =  \\xi \\omega_n$ 衰减系数"
   ]
  },
  {
   "cell_type": "markdown",
   "metadata": {},
   "source": [
    "$$\n",
    "C(t) = 1- \\frac{1}{\\sqrt{1-\\xi^2}  }  e^{-\\xi \\omega_n t} \\sin (\\omega _{d} t + \\theta) \n",
    "$$"
   ]
  },
  {
   "cell_type": "markdown",
   "metadata": {},
   "source": [
    "当 $<0\\xi<1$ ：欠阻尼：\n",
    "二阶系统的单位阶跃响应为，具有震动衰减的正弦形式。\n",
    "\n",
    "$\\xi \\omega_n $ 越大， 后虚轴越远， 衰减的越快。"
   ]
  },
  {
   "cell_type": "code",
   "execution_count": 2,
   "metadata": {},
   "outputs": [
    {
     "name": "stdout",
     "output_type": "stream",
     "text": [
      "omega_d=49.575699692490474, = 7.89 Hz\n"
     ]
    },
    {
     "data": {
      "image/png": "[encoded data removed]",
      "text/plain": [
       "<Figure size 640x480 with 1 Axes>"
      ]
     },
     "metadata": {},
     "output_type": "display_data"
    }
   ],
   "source": [
    "import matplotlib.pyplot as plt\n",
    "import numpy as np\n",
    "def f(t):\n",
    "    return np.sin(t)#*np.sin(t) #* np.cos(2*np.pi*t)\n",
    "def g(t):\n",
    "    #return np.cos(2*t)*np.cos(t) + np.sin(t)*np.sin(t)\n",
    "    xi=0.13\n",
    "    omega_n = 50\n",
    "    omega_d = omega_n*np.sqrt(1-xi**2)\n",
    "    print(f\"omega_d={omega_d}, = {round(omega_d/(2*np.pi), 2)} Hz\")\n",
    "    theta = np.arctan( np.sqrt(1-xi**2) /xi )\n",
    "    #二阶阻尼震荡\n",
    "    return 1 - (1.0/np.sqrt(1 - xi**2))*np.exp(-1 * xi * omega_n * t) *np.sin(omega_d * t + theta  )\n",
    "xrange = np.pi* 2.0\n",
    "yrange = 2\n",
    "a = np.arange(0,xrange  , 0.002)\n",
    "\n",
    "cc = plt.subplot(1,1,1)# (行数， 列数，当前区域) \n",
    "plt.xticks(np.arange(-xrange,xrange,np.pi/2))\n",
    "cc.set_ylim(- yrange -0.1, yrange+0.1)\n",
    "#plt.yticks([-1,0,1])\n",
    "# _ = plt.yticks(ticks = [-1,0,1],ha = 'right')\n",
    "_ = plt.xticks(ticks = np.arange(0,xrange+0.1 ,np.pi/2), \\\n",
    "labels = ['0',r'$\\frac{1}{2}\\pi$',r'$\\pi$',r'$\\frac{3}{2}\\pi$',r'$2\\pi$'] \\\n",
    ")\n",
    "_=plt.grid(True, linestyle='-.')\n",
    "plt.plot(a,f(a),alpha=0.3)\n",
    "plt.plot(a,g(a),'g-',alpha=0.9)\n",
    "plt.show()"
   ]
  },
  {
   "cell_type": "markdown",
   "metadata": {},
   "source": [
    "#### $\\xi > 1 $ (过阻尼，越大变化越慢，约小响应越快) \n",
    "\n",
    "两个不相等的负实根\n",
    "$\\xi$ 越大，响应月满\n",
    "\n",
    "$ S_{1,2} = -\\xi \\omega _n \\pm  \\omega _n\\sqrt{\\xi ^2 -1}$\n",
    "\n",
    "令 $T_1 =-1/S_1$ ,   $T_2 =-1/S_2$\n",
    "\n",
    "$\n",
    "C(s) = \\Phi (S) \\cdot \\frac{1}{S}\n",
    "$\n",
    "\n",
    "$\n",
    "= \\frac{\\omega_n ^2}\n",
    "{(S+ \\frac{1}{T_1})  (S+ \\frac{1}{T_2})}\n",
    "\\cdot \\frac{1}{S}\n",
    "$\n",
    "\n",
    "$$\n",
    "C(t)= \n",
    "1+\n",
    "\\frac{e^{-\\frac{t}{T_1}}}\n",
    "{\\frac{T_2}{T_1} -1}\n",
    "\n",
    "+\n",
    "\n",
    "\\frac{e^{-\\frac{t}{T_2}}}\n",
    "{\\frac{T_1}{T_2} -1}\n",
    "\n",
    "\\space, t\\geq0\n",
    "$$\n"
   ]
  },
  {
   "cell_type": "markdown",
   "metadata": {},
   "source": []
  }
 ],
 "metadata": {
  "kernelspec": {
   "display_name": "base",
   "language": "python",
   "name": "python3"
  },
  "language_info": {
   "codemirror_mode": {
    "name": "ipython",
    "version": 3
   },
   "file_extension": ".py",
   "mimetype": "text/x-python",
   "name": "python",
   "nbconvert_exporter": "python",
   "pygments_lexer": "ipython3",
   "version": "3.11.5"
  }
 },
 "nbformat": 4,
 "nbformat_minor": 2
}
