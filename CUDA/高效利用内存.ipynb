{
 "cells": [
  {
   "cell_type": "code",
   "execution_count": null,
   "metadata": {},
   "outputs": [],
   "source": []
  },
  {
   "cell_type": "markdown",
   "metadata": {},
   "source": [
    "最小化 Host -> <- device 数据传输\n",
    "\n",
    "device 共享内存等价于用户管理的缓存\n",
    "\n",
    "1.将数据从device内存载入共享内存\n",
    "2.Block块内的每个线程，\n",
    "2.1数据从全局内存加载到共享内存\n",
    "2.2同步Block内的所有其他线程，（以便安全读取共享内存数据，可被其他线程写入）\n",
    "2.3在共享内存中处理数据\n",
    "2.4必要时再次同步，确保结果被update\n",
    "2.5将结果写入到Device 的全局内存中\n",
    "\n",
    "计算能力8.9 4090 最多配置99KB共享内存。\n",
    "\n",
    "\n",
    "\n",
    "\n"
   ]
  },
  {
   "cell_type": "markdown",
   "metadata": {},
   "source": [
    "方式2\n",
    "\n",
    "Host移动更多codes 到Device，\n",
    "尽管这样会使kernel函数在device上的并行程度降低，使用率降低。在Device的内存上可能会产生中间的数据结构，device会操作这个数据结构，\n",
    "这个数据结构可能被销毁，不被映射到主机、复制到host内存。\n",
    "\n"
   ]
  },
  {
   "cell_type": "markdown",
   "metadata": {},
   "source": [
    "方式3\n",
    "将多次小传输打包到单一大传输。\n",
    "\n"
   ]
  },
  {
   "cell_type": "markdown",
   "metadata": {},
   "source": [
    "方式4 \n",
    "使用PageHostMemory ，提高性能。\n",
    "\n",
    "当使用MappedMemory时，没必要分配Device内存，也无需显式复制数据。\n",
    "\n",
    "方式5 统一内存\n",
    "略，目前仅苹果。"
   ]
  },
  {
   "cell_type": "markdown",
   "metadata": {},
   "source": [
    "Device\n",
    "\n",
    "GlobalMemory\n",
    "\n",
    "对齐要求\n",
    "\n",
    "Shared Memory\n",
    "带宽更大，\n",
    "当访问bank冲突时，将并行访问变为顺序访问。降低吞吐量\n",
    "\n",
    "Constant Memory\n",
    "常量内存映射到Device上，缓存在常量缓存区内。\n",
    "\n",
    "\n",
    "Texture & surface memory\n",
    "对2dim定位有优化。\n"
   ]
  },
  {
   "cell_type": "markdown",
   "metadata": {},
   "source": [
    "高效指令Throughput\n",
    "\n",
    "最小化低吞吐量的算数指令。使用指令集而非常规函数，使用单精度而非双精度。\n",
    "\n",
    "__log2f\n",
    "exp2f \n",
    "__sinf\n",
    "__cosf\n",
    "\n",
    "__[u]mul24\n",
    "\n",
    "\n",
    "SIME video instructions \n",
    "vabsdiff2\n",
    "vabsdiff4\n",
    "\n",
    "math_functions.h\n",
    "device_functions.h\n",
    "通常来说的话，编译code时，比起编译选项-ftz=false，开启编译选项-ftz=true会有更高的性能（denormalized numbers are flushed to zero）。类似地，比起编译选项-prec-div=true，使用编译选项-prec-div=false（less precise division低精度的除）会有更高的性能。比起编译选项-prec-sqrt=true，使用编译选项-prec-sqrt=false(less precise square root低精度开方)会有更高的性能。nvcc用户手册更加详细的描述了这些编译选项。\n",
    "\n",
    "Single-Precision Floating-Point Division\n",
    "\n",
    "__fdividef(x,y)（见Intrinsic Functions）提供了更加快速的单精度浮点数除，比起除算子。\n",
    "\n",
    "\n",
    "Single-Precision Floating-Point Reciprocal Square Root\n",
    "\n",
    "要遵守标准IEEE-754的内容，编译器可以优化1.0/sqrtf()到rsqrtf()，当且仅当reciprocal 和 square root都是近似计算的。（像：-prec-div=false 和 -prec-sqrt=false），所以当满足条件是最好直接调用函数rsqrtf()。\n",
    "\n",
    "Single-Precision Floating-Point Square Root\n",
    "\n",
    "单精度浮点数开方，实现方式是Reciprocal Square Root，然后又跟了一个Reciprocal，而不是Reciprocal Square Root后面跟了一个乘积，所以能给出0或者infinity的准确结果。\n",
    "\n",
    "Sine and Cosine\n",
    "\n",
    "sinf(x), cosf(x), tanf(x)和sincosf(x)函数，和相应的双精度浮点数指令，消耗更大些，甚至消耗会更大当输入的参数数量级很大时。\n",
    "\n",
    "更准确的来说，参数规约的code（实现见Mathematical Functions），组合了两个code path，一个是fast path，另一个则是slow path。\n",
    "\n",
    "最小化控制流程指令  if switch \n",
    "\n",
    "减少指令数量\n",
    "restricted指针 synchronization Instruction优化同步点。"
   ]
  }
 ],
 "metadata": {
  "language_info": {
   "name": "python"
  }
 },
 "nbformat": 4,
 "nbformat_minor": 2
}
