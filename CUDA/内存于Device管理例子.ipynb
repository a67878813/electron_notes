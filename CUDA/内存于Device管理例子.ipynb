{
 "cells": [
  {
   "cell_type": "markdown",
   "metadata": {},
   "source": [
    "\n",
    "申请 \n",
    "  // Allocate the device input vector A\n",
    "  CUdeviceptr d_A;\n",
    "  checkCudaErrors(cuMemAlloc(&d_A, size));"
   ]
  },
  {
   "cell_type": "code",
   "execution_count": null,
   "metadata": {},
   "outputs": [],
   "source": [
    "\n",
    "  // Allocate the device input vector A\n",
    "  CUdeviceptr d_A;\n",
    "  checkCudaErrors(cuMemAlloc(&d_A, size));"
   ]
  },
  {
   "cell_type": "markdown",
   "metadata": {},
   "source": [
    "释放"
   ]
  },
  {
   "cell_type": "code",
   "execution_count": null,
   "metadata": {},
   "outputs": [],
   "source": [
    " // Free device global memory\n",
    " checkCudaErrors(cuMemFree(d_A));"
   ]
  }
 ],
 "metadata": {
  "language_info": {
   "name": "python"
  }
 },
 "nbformat": 4,
 "nbformat_minor": 2
}
