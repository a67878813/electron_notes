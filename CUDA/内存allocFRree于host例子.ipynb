{
 "cells": [
  {
   "cell_type": "code",
   "execution_count": null,
   "metadata": {},
   "outputs": [],
   "source": [
    " 申请\n",
    "  // Allocate the host input vector A\n",
    "  float *h_A = reinterpret_cast<float *>(malloc(size));"
   ]
  },
  {
   "cell_type": "markdown",
   "metadata": {},
   "source": [
    "释放"
   ]
  },
  {
   "cell_type": "code",
   "execution_count": null,
   "metadata": {},
   "outputs": [],
   "source": [
    "  // Free host memory\n",
    "  free(h_A);"
   ]
  },
  {
   "cell_type": "markdown",
   "metadata": {},
   "source": [
    "检查申请成功"
   ]
  },
  {
   "cell_type": "code",
   "execution_count": null,
   "metadata": {},
   "outputs": [],
   "source": [
    "  // Verify that allocations succeeded\n",
    "  if (h_A == NULL || h_B == NULL || h_C == NULL) {\n",
    "    fprintf(stderr, \"Failed to allocate host vectors!\\n\");\n",
    "    exit(EXIT_FAILURE);\n",
    "  }\n"
   ]
  },
  {
   "cell_type": "markdown",
   "metadata": {},
   "source": [
    "reinterpret_cast 为编译期行为，无二进制代码"
   ]
  }
 ],
 "metadata": {
  "language_info": {
   "name": "python"
  }
 },
 "nbformat": 4,
 "nbformat_minor": 2
}
