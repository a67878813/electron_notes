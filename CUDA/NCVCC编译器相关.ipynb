{
 "cells": [
  {
   "cell_type": "code",
   "execution_count": null,
   "metadata": {},
   "outputs": [],
   "source": []
  },
  {
   "cell_type": "markdown",
   "metadata": {},
   "source": [
    "## 编译流程\n",
    "CUDA编译阶段将源文件中包含C++ externed（cuda 相关代码）的内容变换到标准的C++代码，然后交给c++编译器进行进一步的编译和链接\n",
    "\n",
    "\n",
    "CUDA编译的工作原理如下：输入程序首先被设备编译器（nvcc）编译即在设备编译器（nvcc）预处理过程，并将CUDA相关代码（主要是核函数）编译为放置在fatbinary中的CUDA二进制（Cubin）和/或PTX中间代码，并将CUDA特定的C ++扩展转换为标准C ++构造合成嵌入fatbinary。输入程序再被主机端编译器编译即主机端的预处理，当两个预处理过程完成后，C ++主机编译器将fatbinary的嵌入合成到主机对象（库文件或可执行文件）。\n",
    "\n",
    "编译过程其实分两部分，一部分是主机端和普通c++一样的编译，另一部分是针对CUDA中扩展的C++程序的编译，设备端的编译最终的结果文件为fatbinary文件，GPU（的驱动）通过fatbinary文件来执行GPU功能。\n"
   ]
  }
 ],
 "metadata": {
  "language_info": {
   "name": "python"
  }
 },
 "nbformat": 4,
 "nbformat_minor": 2
}
