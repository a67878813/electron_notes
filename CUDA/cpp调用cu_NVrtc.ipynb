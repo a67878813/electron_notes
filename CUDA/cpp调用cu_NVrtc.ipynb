{
 "cells": [
  {
   "cell_type": "markdown",
   "metadata": {},
   "source": [
    "见vectorAdd.cpp\n",
    "\n"
   ]
  },
  {
   "cell_type": "code",
   "execution_count": null,
   "metadata": {},
   "outputs": [],
   "source": []
  },
  {
   "cell_type": "code",
   "execution_count": null,
   "metadata": {},
   "outputs": [],
   "source": [
    "char *cubin, *kernel_file;\n",
    "size_t cubinSize;\n",
    "\n",
    "kernel_file = sdkFindFilePath(\"vectorAdd_kernel.cu\", argv[0]);\n",
    "compileFileToCUBIN(kernel_file, argc, argv, &cubin, &cubinSize, 0);\n",
    "CUmodule module = loadCUBIN(cubin, argc, argv);"
   ]
  },
  {
   "cell_type": "code",
   "execution_count": null,
   "metadata": {},
   "outputs": [],
   "source": [
    "  CUmodule module = loadCUBIN(cubin, argc, argv);\n",
    "\n",
    "  CUfunction kernel_addr;\n",
    "  checkCudaErrors(cuModuleGetFunction(&kernel_addr, module, \"vectorAdd\"));"
   ]
  },
  {
   "cell_type": "code",
   "execution_count": null,
   "metadata": {},
   "outputs": [],
   "source": []
  },
  {
   "cell_type": "code",
   "execution_count": null,
   "metadata": {},
   "outputs": [],
   "source": [
    "\n",
    "  // Launch the Vector Add CUDA Kernel\n",
    "  int threadsPerBlock = 256;\n",
    "  int blocksPerGrid = (numElements + threadsPerBlock - 1) / threadsPerBlock;\n",
    "  printf(\"CUDA kernel launch with %d blocks of %d threads\\n\", blocksPerGrid,\n",
    "         threadsPerBlock);\n",
    "  dim3 cudaBlockSize(threadsPerBlock, 1, 1);\n",
    "  dim3 cudaGridSize(blocksPerGrid, 1, 1);\n",
    "\n",
    "  void *arr[] = {reinterpret_cast<void *>(&d_A), reinterpret_cast<void *>(&d_B),\n",
    "                 reinterpret_cast<void *>(&d_C),\n",
    "                 reinterpret_cast<void *>(&numElements)};\n",
    "  checkCudaErrors(cuLaunchKernel(kernel_addr, cudaGridSize.x, cudaGridSize.y,\n",
    "                                 cudaGridSize.z, /* grid dim */\n",
    "                                 cudaBlockSize.x, cudaBlockSize.y,\n",
    "                                 cudaBlockSize.z, /* block dim */\n",
    "                                 0, 0,            /* shared mem, stream */\n",
    "                                 &arr[0],         /* arguments */\n",
    "                                 0));\n",
    "  checkCudaErrors(cuCtxSynchronize());\n"
   ]
  },
  {
   "cell_type": "markdown",
   "metadata": {},
   "source": [
    " CUresult CUDAAPI \n",
    " cuLaunchKernel(CUfunction f,\n",
    "  unsigned int gridDimX,\n",
    "   unsigned int gridDimY, \n",
    "   unsigned int gridDimZ, \n",
    "   unsigned int blockDimX,\n",
    "    unsigned int blockDimY, \n",
    "    unsigned int blockDimZ,\n",
    "     unsigned int sharedMemBytes, \n",
    "     CUstream hStream, \n",
    "     void **kernelParams,  //arguments\n",
    "      void **extra);"
   ]
  }
 ],
 "metadata": {
  "language_info": {
   "name": "python"
  }
 },
 "nbformat": 4,
 "nbformat_minor": 2
}
