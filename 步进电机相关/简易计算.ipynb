{
 "cells": [
  {
   "cell_type": "markdown",
   "metadata": {},
   "source": [
    "一圈400脉冲\n",
    "\n"
   ]
  },
  {
   "cell_type": "code",
   "execution_count": 5,
   "metadata": {},
   "outputs": [
    {
     "name": "stdout",
     "output_type": "stream",
     "text": [
      "0.9   °\n"
     ]
    }
   ],
   "source": [
    "#步距角\n",
    "\n",
    "theta = 360 /400\n",
    "print(f\"{theta}° \")"
   ]
  },
  {
   "cell_type": "markdown",
   "metadata": {},
   "source": [
    "最小正脉宽/负脉宽 5us\n",
    "最大脉冲频率\n"
   ]
  },
  {
   "cell_type": "code",
   "execution_count": 12,
   "metadata": {},
   "outputs": [
    {
     "name": "stdout",
     "output_type": "stream",
     "text": [
      "最大脉冲频率\n",
      "100.00000000000001 kHz\n"
     ]
    }
   ],
   "source": [
    "\n",
    "T =  5*10**(-6) * 2\n",
    "f = 1/T\n",
    "print(f\"最大脉冲频率\\n{f/1000} kHz\")"
   ]
  },
  {
   "cell_type": "markdown",
   "metadata": {},
   "source": [
    "实测最大准确跟踪脉冲频率\n",
    "11.2-12kHz"
   ]
  },
  {
   "cell_type": "code",
   "execution_count": 19,
   "metadata": {},
   "outputs": [
    {
     "name": "stdout",
     "output_type": "stream",
     "text": [
      "30.0 r/s\n"
     ]
    }
   ],
   "source": [
    "#单步 0.9°/pulse\n",
    "print(f\"{12000/400} r/s\")"
   ]
  },
  {
   "cell_type": "markdown",
   "metadata": {},
   "source": []
  },
  {
   "cell_type": "code",
   "execution_count": null,
   "metadata": {},
   "outputs": [],
   "source": []
  },
  {
   "cell_type": "markdown",
   "metadata": {},
   "source": [
    "4步细分\n",
    "\n",
    "1600步/圈\n",
    "\n",
    "100kHz  正脉宽 5us\n",
    "\n",
    "60r/s"
   ]
  },
  {
   "cell_type": "code",
   "execution_count": 18,
   "metadata": {},
   "outputs": [
    {
     "name": "stdout",
     "output_type": "stream",
     "text": [
      "62.5\n"
     ]
    }
   ],
   "source": [
    "#0.225 °/pulse\n",
    "speed  = 100000/1600\n",
    "print(speed)"
   ]
  },
  {
   "cell_type": "code",
   "execution_count": 24,
   "metadata": {},
   "outputs": [
    {
     "name": "stdout",
     "output_type": "stream",
     "text": [
      "输出频率  983.04 khz\n"
     ]
    }
   ],
   "source": [
    "#编码器脉冲数\n",
    "speed = 60 # r/s\n",
    "pulse_per_ = 4096\n",
    "multiply_num = 4\n",
    "\n",
    "pulse_frequency = speed * pulse_per_* multiply_num / 1000\n",
    "print(f\"输出频率  {pulse_frequency} khz\")\n",
    "# "
   ]
  },
  {
   "cell_type": "markdown",
   "metadata": {},
   "source": [
    "编码器最高响应频率\n",
    "f_encode = 200000"
   ]
  },
  {
   "cell_type": "code",
   "execution_count": 37,
   "metadata": {},
   "outputs": [
    {
     "name": "stdout",
     "output_type": "stream",
     "text": [
      "最高响应转速  3000.0 r/min  50.0 r/s  \n"
     ]
    }
   ],
   "source": [
    "#编码器最高响应频率\n",
    "f_encoder = 100000\n",
    "encoder_div = 2000\n",
    "h_tracked_speed =  f_encoder/ encoder_div  *  60\n",
    "print(f\"最高响应转速  {h_tracked_speed} r/min  { h_tracked_speed/ 60} r/s  \")"
   ]
  },
  {
   "cell_type": "code",
   "execution_count": null,
   "metadata": {},
   "outputs": [],
   "source": [
    "\n",
    "\n"
   ]
  },
  {
   "cell_type": "markdown",
   "metadata": {},
   "source": [
    "限制条件\n",
    "\n",
    "最大跟踪转速\n",
    "\n",
    "最小分辨率\n",
    "\n"
   ]
  },
  {
   "cell_type": "markdown",
   "metadata": {},
   "source": [
    "电机参数 \n",
    "\n",
    "3200p/r 细分  原始400p/r   0.9°步进角"
   ]
  },
  {
   "cell_type": "code",
   "execution_count": 48,
   "metadata": {},
   "outputs": [
    {
     "name": "stdout",
     "output_type": "stream",
     "text": [
      " 最小分辨率 1' 19.102'' \n",
      "最高响应转速  1464.84375 r/min  24.4140625 r/s  \n",
      " 最大转速分辨率 \n"
     ]
    }
   ],
   "source": [
    "import math\n",
    "f_encoder = 100000\n",
    "encoder_div = 4096\n",
    "multy_num = 4\n",
    "\n",
    "min_div_degree = 360 / (encoder_div* multy_num) \n",
    "#min_div_degree = min_div_degree*2\n",
    "\n",
    "degree_m = int(min_div_degree*60)\n",
    "degree_s = (min_div_degree*60 - degree_m )*60\n",
    "print(f\" 最小分辨率 {degree_m}' {round(degree_s,3)}'' \")\n",
    "#编码器最高响应频率\n",
    "\n",
    "h_tracked_speed =  f_encoder/ encoder_div  *  60\n",
    "print(f\"最高响应转速  {h_tracked_speed} r/min  { h_tracked_speed/ 60} r/s  \")\n",
    "\n",
    "\n",
    "print(f\" 最大转速分辨率 \")"
   ]
  },
  {
   "cell_type": "code",
   "execution_count": 54,
   "metadata": {},
   "outputs": [
    {
     "data": {
      "image/png": "[encoded data removed]",
      "text/plain": [
       "<Figure size 640x480 with 1 Axes>"
      ]
     },
     "metadata": {},
     "output_type": "display_data"
    }
   ],
   "source": [
    "import matplotlib.pyplot as plt\n",
    "#滤波时间 单位us \n",
    "filter_time = 12500\n",
    "#ms\n",
    "#x 滤波时间\n",
    "#y 到位时间\n",
    "\n",
    "x = [0,0.25,0.5,0.75,1,2,2.5,5,7.5,10,12.5, 25.6]\n",
    "y = [3,3,3.5,4,4,5,5,    8,10,13,15, 25]\n",
    "\n",
    "point_size = 4\n",
    "\n",
    "plt.plot(x,y, marker ='o', ms = point_size, mec='black',mfc ='blue')\n",
    "plt.show()\n",
    "#到位信号\n",
    "\n",
    "\n"
   ]
  },
  {
   "cell_type": "code",
   "execution_count": null,
   "metadata": {},
   "outputs": [],
   "source": [
    "import matplotlib.pyplot as plt\n",
    "#滤波时间 单位us \n",
    "filter_time = 5000  #约慢速时7.5ms到位\n",
    "#ms\n",
    "#x 波形速度 0.1khz   3200细分（8细分）     400 p/r \n",
    "#y 到位时间\n",
    "#0滤波\n",
    "x = [0,0.25,0.5,0.75,1,2,2.5,5,7.5,10,12.5, 25.6]\n",
    "\n",
    "y = [3,3,3.5,4,4,5,5,8,10,13,15, 25]\n",
    "\n",
    "point_size = 4\n",
    "\n",
    "plt.plot(x,y, marker ='o', ms = point_size, mec='black',mfc ='blue')\n",
    "plt.show()\n",
    "#到位信号\n",
    "\n"
   ]
  },
  {
   "cell_type": "markdown",
   "metadata": {},
   "source": [
    "\n",
    "\n",
    "抗扰动时间设0\n",
    "\n",
    "滤波设 1000 约 7.5ms 慢速到位\n",
    "\n",
    "\n",
    "500Hz 1ms正波，噪声最小\n"
   ]
  }
 ],
 "metadata": {
  "kernelspec": {
   "display_name": "base",
   "language": "python",
   "name": "python3"
  },
  "language_info": {
   "codemirror_mode": {
    "name": "ipython",
    "version": 3
   },
   "file_extension": ".py",
   "mimetype": "text/x-python",
   "name": "python",
   "nbconvert_exporter": "python",
   "pygments_lexer": "ipython3",
   "version": "3.11.5"
  }
 },
 "nbformat": 4,
 "nbformat_minor": 2
}
