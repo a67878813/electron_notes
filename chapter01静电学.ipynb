{
 "cells": [
  {
   "cell_type": "code",
   "execution_count": null,
   "metadata": {},
   "outputs": [],
   "source": []
  },
  {
   "cell_type": "markdown",
   "metadata": {},
   "source": [
    "1.4 库仑定律\n",
    "描述静止状态的电荷之间的相互作用：力正比与电荷量的成及，反比于两个点和之间距离的平方\n",
    "\n",
    "矢量形式表示\n",
    "\n",
    "$$\\mathbf{F}_2 = k \\frac{q_1 q_2 \\hat{\\mathbf{r} }_{21 }  }         {r^2_{21}} $$"
   ]
  },
  {
   "cell_type": "markdown",
   "metadata": {},
   "source": [
    "$\\mathbf{F}_2 $ 指对第2个电荷的作用力\n",
    "\n",
    "$\\hat{\\mathbf{r}}_{21} $ 从第1个电荷指向第2个电荷的单位矢量"
   ]
  },
  {
   "cell_type": "markdown",
   "metadata": {},
   "source": [
    "电荷具有自身相关的轴向结构，不能仅仅用一个标量q来描述它。\n",
    "电子具自旋的性质。\n",
    "\n",
    "导致两个电子之间的作用力在静电排斥力（库伦力）的基础上要再加入磁力的影响。\n",
    "\n",
    "一般来讲，这种磁力确实不在两个粒子的连线方向上。它的大小跟距离的四次方成反比，并且在10^-10m的原子距离之间，库伦力比自旋所产生的磁力要强10^4倍。\n",
    "\n",
    "如果电荷移动的话，还会有另外的磁场力出现，因此，库伦定律仅仅局限于描述静止电荷。\n",
    "\n",
    "常量k值取决于单位。国际单位制{SI}, 米、kg、s，电荷库伦（C）。\n",
    " \n",
    "库伦的完整定义中包含磁力的影响。\n"
   ]
  },
  {
   "cell_type": "markdown",
   "metadata": {},
   "source": [
    "### 电荷系统的能量\n",
    "\n",
    "静电力是一种保守力。\n",
    "\n",
    "让一个电荷在电场里转圈，是不损失能量的。\n",
    "\n",
    "一切能量都是完全可相互转换的e\n"
   ]
  },
  {
   "cell_type": "markdown",
   "metadata": {},
   "source": [
    "$$W = \\int 受力 \\times 距离= \\int^{r_{12}}_{\\infty} (-\\frac{1}{4 \\pi \\epsilon_0} \\frac{q_1q_2}{r^2}              ),dr = \\frac{1}{4 \\pi \\epsilon_0}  \\frac{q_1q_2}{r}   = \\frac{1}{4 \\pi \\epsilon_0}  \\frac{q_1q_2}{r_{12}}     $$"
   ]
  },
  {
   "cell_type": "markdown",
   "metadata": {},
   "source": [
    "### 晶格中的电能\n",
    "\n",
    "氯化钠晶体， 约为 U= -0.87Ne^2/(4pi epsilon_0 a).\n",
    "\n",
    "负号代表了，如果把警惕分离成例子，外界必须对其做工。\n",
    "电能可以解释晶体的凝聚力，如果这是势能的全部内容，晶体将会崩塌，因为如果缩短所有的距离，电荷分布的是能将会明细那变得更低。"
   ]
  },
  {
   "cell_type": "markdown",
   "metadata": {},
   "source": [
    "$$\\frac{q_0 q_j  \\hat{\\mathbf{r} }_{0j} } {r^2_{0j}} $$"
   ]
  },
  {
   "cell_type": "markdown",
   "metadata": {},
   "source": [
    "## 电场\n",
    "空间固定分布的电荷组成的系统，将另外的电荷移到该空间，讨论原系统对新电荷的影响。\n",
    "\n",
    "对于坐标为（x,y,z）的电荷q_0 ,受到的作用力为：\n",
    "\n",
    "$$  \\mathbf{F} = \\frac{1}{4 \\pi \\epsilon_0}  \\sum _{j=1}^{N}  \\frac{q_0 q_j \\hat{\\mathbf{r}} _{0j}  } {r^2_{0j}}  $$\n",
    "\n",
    "用力$\\mathbf{F}$ 除q_0  ,就得到一个只和元系统中电荷的分布相关的关于(x,y,z)的矢函数。\n",
    "\n",
    "把这个关于空间的矢函数称为 电荷系产生的电场。用符号 $\\mathbf{E}$ 代表。"
   ]
  },
  {
   "cell_type": "markdown",
   "metadata": {},
   "source": [
    "定义一种电荷分布在点(x,y,z)处产生的电场 $\\mathbf{E}$:\n",
    "\n",
    "$$ \\mathbf{E} =  \\frac{1}{4 \\pi \\epsilon_0}  \\sum _{j=1}^{N}  \\frac{ q_j \\hat{\\mathbf{r}} _{0j}  } {r^2_{0j}}  $$"
   ]
  },
  {
   "cell_type": "markdown",
   "metadata": {},
   "source": [
    "电场的源为连续分布的电荷，求和运算替换为积分形式。\n",
    "$$  \\mathbf{E} (x, y, z)      = \\frac{1}{4 \\pi \\epsilon_0} \\int \\frac{ \\rho  (x^\\prime, y^\\prime, z^\\prime) \\space \\hat{\\mathbf{r}} \\mathrm{d}x^\\prime \\mathrm{d}y^\\prime \\mathrm{d}z^\\prime }{r^2}   $$"
   ]
  },
  {
   "cell_type": "markdown",
   "metadata": {},
   "source": [
    "因此，在(x,y,z)处，电荷q所受到的作用力为\n",
    "$$\\mathbf{F} = q \\mathbf{E}$$"
   ]
  },
  {
   "cell_type": "markdown",
   "metadata": {},
   "source": [
    "## 半球积分\n",
    "\n",
    "极坐标\n",
    "\n",
    "每个圆环的纵截面为边长为dr和rdtheta的矩形 ，面积为\n",
    "$ r\\mathrm{d}r \\mathrm{d} \\theta  $\n",
    "\n",
    "圆环半径为 $r\\sin\\theta$\n",
    "\n",
    "圆环体积为 $   r\\mathrm{d}r \\mathrm{d} \\theta  ( 2\\pi r \\sin\\theta  )$\n",
    "\n",
    "携带电荷量为 $\\rho (2 \\pi r^2 \\sin\\theta \\mathrm{d}r \\mathrm{d} \\theta )$ \n",
    "\n",
    "考虑圆环一小段，带有电荷量 dq。 他在球心产生的电场沿着这个小体积和球心的连线，指向上方，大小为\n",
    "\n",
    "$\\mathrm{d}q  /(4\\pi\\epsilon_0 r^2) $\n",
    "\n",
    "垂直方向的分量为 \n",
    "$\\mathrm{d}q \\cos\\theta /(4\\pi\\epsilon_0 r^2) $\n",
    "\n",
    "对整个圆环进行积分，电场为\n",
    "\n",
    "$$\\mathrm{d}E_y = \\frac  { \\rho (2 \\pi r^2 \\sin\\theta \\mathrm{d}r \\mathrm{d} \\theta ) }{(4\\pi\\epsilon_0 r^2)  } \\cos\\theta$$\n",
    "\n",
    "$$ \\frac  { \\rho\\sin\\theta \\cos\\theta \\mathrm{d}r \\mathrm{d} \\theta }       {2\\epsilon_0} $$\n",
    "\n",
    "\n"
   ]
  },
  {
   "cell_type": "markdown",
   "metadata": {},
   "source": [
    "对r theta 积分\n",
    "\n",
    "$$  E_y =\\int ^{R}_{0}  \\int ^{\\pi/2}_{0}  \\frac  { \\rho\\sin\\theta \\cos\\theta \\mathrm{d}r \\mathrm{d} \\theta }       {2\\epsilon_0}   $$\n",
    "\n",
    "$$  =  \\frac  { \\rho}       {2\\epsilon_0}  ( \\int ^{R}_{0}\\mathrm{d}r )  (\\int ^{\\pi/2}_{0} \\sin\\theta \\cos\\theta \\mathrm{d} \\theta)  $$"
   ]
  },
  {
   "cell_type": "markdown",
   "metadata": {},
   "source": [
    "$$=  \\frac  { \\rho}       {2\\epsilon_0}  R (\\int ^{\\pi/2}_{0} \\sin\\theta\\sin\\theta \\mathrm{d}\\sin\\theta ) $$\n",
    "$$=  \\frac  { \\rho}       {2\\epsilon_0}  R (\\frac{\\sin^2\\theta}{2}  \\bigg| _0^{\\pi/2} )$$\n",
    "\n",
    "$$=  \\frac  { \\rho R}       {4\\epsilon_0}  $$"
   ]
  },
  {
   "cell_type": "markdown",
   "metadata": {},
   "source": [
    "非竖直分量互相抵消。"
   ]
  },
  {
   "cell_type": "markdown",
   "metadata": {},
   "source": [
    "## 通量\n",
    "\n",
    "描述电场和源的关系。\n",
    "定义一个叫做通量的物理量。\n",
    "\n",
    "考虑空间中由一些电场，\n",
    "\n",
    "电场矢量点乘面积方向矢量= 通量\n",
    "\n",
    "类比于\n",
    "\n",
    "水流速度场 点乘面积方向的框， 点乘结果为通过这个框的水的 \n",
    "\n",
    "*流量率*  （流速/单位面积）（流量/单位面积/单位时间）（通量）"
   ]
  },
  {
   "cell_type": "markdown",
   "metadata": {},
   "source": [
    "矢量 $\\mathbf{a}_j$ , 小块的面积和方向\n",
    "\n",
    "矢量 $\\mathbf{E}_j $, 这个位置的电场矢量"
   ]
  },
  {
   "cell_type": "markdown",
   "metadata": {},
   "source": [
    "全部小块的通量加起来，通过整个表面的标量 $\\phi$\n",
    "\n",
    "$$\\phi = \\sum_{全部  j}{} \\mathbf{E}_{j} \\cdot \\mathbf{a}_{j}  $$"
   ]
  },
  {
   "cell_type": "markdown",
   "metadata": {},
   "source": [
    "积分式：(面积分)\n",
    "\n",
    "$$\\phi = \\int _{整个表面}{} \\mathbf{E} \\cdot \\mathrm{d}  {\\mathbf{a} }  $$ "
   ]
  },
  {
   "cell_type": "markdown",
   "metadata": {},
   "source": [
    "## 高斯定理\n",
    "\n",
    "通过任意闭合表面的电通量，也就是用 $\\int \\mathbf{E} \\cdot \\mathrm{d} \\mathbf{a}$ 对整个表面进行积分，其值等于 \n",
    "\n",
    "$ 1/ \\epsilon_0 $ 乘以表面锁包围的电荷的总量：\n",
    "\n",
    "$$ \\int \\mathbf{E} \\cdot \\mathrm{d}\\mathbf{a} = \\frac{1}{\\epsilon_0} \\sum_{i} q_i =  \\frac{1}{\\epsilon_0} \\int \\rho \\mathrm{d} v $$"
   ]
  },
  {
   "cell_type": "markdown",
   "metadata": {},
   "source": [
    "高斯定理可用于r平方反比关系，不满足球对称的场。\n"
   ]
  },
  {
   "cell_type": "markdown",
   "metadata": {},
   "source": [
    "### 球形对称分布的电场\n",
    "\n",
    "球形对称分布指：电荷密度$\\rho$ 仅仅取决于其道球心的半径。"
   ]
  },
  {
   "cell_type": "markdown",
   "metadata": {},
   "source": [
    "### 线电荷的电场\n",
    "\n",
    "$\\lambda$ 表示线电荷密度，单位为 $C/m$.\n",
    "电荷元dq对P点处贡献的电场的y分量为\n",
    "\n",
    "$$ \\mathrm{d} E_y = \\frac{\\mathrm{d}q}  {4 \\pi \\epsilon_0 R^2 \\cos\\theta}  =  \\frac{\\lambda \\mathrm{d}x}  {4 \\pi \\epsilon_0 R^2}  \\cos\\theta\n",
    "\n",
    "\n"
   ]
  },
  {
   "cell_type": "markdown",
   "metadata": {},
   "source": [
    "这里的theta指dq产生的电场方向和y方向的夹角。总y分量为\n",
    "\n",
    "$$ E_y = \\int \\mathrm{d}E_y = \\int_{-\\infty}^{\\infty} \\frac{\\lambda \\cos\\theta }  {4 \\pi \\epsilon_0 R^2 }  \\mathrm{d}x $$\n",
    "\n",
    "可知：\n",
    "\n",
    "$$ R= \\frac{r}{\\cos\\theta} $$\n",
    "\n",
    "$$ \\mathrm{d}x = R\\mathrm{d}\\theta/\\cos\\theta $$\n",
    "\n",
    "$$  \\mathrm{d}x =  r \\mathrm{d} \\theta / \\cos^2\\theta $$\n",
    "\n",
    "$$  $$\n"
   ]
  },
  {
   "cell_type": "markdown",
   "metadata": {},
   "source": [
    "保留theta，积分演化为\n",
    "\n",
    "$$ E_y = \\int_{-\\pi /2}^{\\pi /2}   \\frac{\\lambda \\cos\\theta\\mathrm{d}\\theta}  {4\\pi\\epsilon_0 r}$$\n"
   ]
  },
  {
   "cell_type": "markdown",
   "metadata": {},
   "source": [
    "$$ = \\frac{\\lambda }  {4\\pi\\epsilon_0 r}  (\\sin\\theta     \\bigg| _{-\\pi/2}^{\\pi/2} )$$\n",
    " -pi/2 , pi/2"
   ]
  },
  {
   "cell_type": "markdown",
   "metadata": {},
   "source": [
    "$$ = \\frac{\\lambda }  {4\\pi\\epsilon_0 r}\\int_{-\\pi /2}^{\\pi /2}  \\cos\\theta\\mathrm{d}\\theta$$"
   ]
  },
  {
   "cell_type": "markdown",
   "metadata": {},
   "source": [
    "$$ = \\frac{\\lambda }  {2\\pi\\epsilon_0 r} $$\n"
   ]
  },
  {
   "cell_type": "markdown",
   "metadata": {},
   "source": [
    "### 无限大带电平面的电场\n",
    "高斯定理\n",
    "\n",
    "电荷量 $\\sigma A$\n",
    "\n",
    "通量 $2A E_p$\n",
    "\n",
    "$$2AE_p = \\sigma A / \\epsilon_0 $$\n",
    "\n",
    "$$E_p = \\sigma / 2\\epsilon_0 $$\n"
   ]
  },
  {
   "cell_type": "markdown",
   "metadata": {},
   "source": []
  },
  {
   "cell_type": "markdown",
   "metadata": {},
   "source": [
    "### 电荷层的受力\n",
    "\n",
    "球体表面均匀分布密度为 $\\sigma$ 的电荷，\n",
    "\n",
    "球面外侧电场 \n",
    "\n",
    "$$ \\mathbf{E}= \\sigma / \\epsilon_0 $$\n",
    "\n",
    "球面内侧电场\n",
    "\n",
    " $$ \\mathbf{E}= 0 $$"
   ]
  },
  {
   "cell_type": "markdown",
   "metadata": {},
   "source": [
    "球表面电荷元 $\\mathrm{d}q$ 受力\n",
    "\n",
    "$$ \\mathrm{d} \\mathbf{F} =  \\mathbf{E} \\mathrm{d} q = \\mathbf{E}\\sigma  \\mathrm{d} \\mathbf{A} $$"
   ]
  },
  {
   "cell_type": "markdown",
   "metadata": {},
   "source": [
    "使用的E为内侧和外侧的**平均值**:\n",
    "\n",
    "$$ \\mathrm{d} \\mathbf{F} =   1/2 (\\sigma/\\epsilon_0 + 0)  \\sigma \\mathrm{d}A = \\frac{\\sigma^2 \\mathrm{d}A}{2\\epsilon_0}   $$"
   ]
  },
  {
   "cell_type": "markdown",
   "metadata": {},
   "source": []
  },
  {
   "cell_type": "code",
   "execution_count": 1,
   "metadata": {},
   "outputs": [
    {
     "data": {
      "text/plain": [
       "7.957747154594766e-08"
      ]
     },
     "execution_count": 1,
     "metadata": {},
     "output_type": "execute_result"
    }
   ],
   "source": [
    "#例子， 假设橡胶球体，半径0.1m，外表面均匀分布10^-8C 的负电荷。\n",
    "#面电荷密度为 \n",
    "import numpy as np\n",
    "r = 0.1\n",
    "sigma = 10**(-8) / (4* np.pi * r**2  )\n",
    "sigma"
   ]
  },
  {
   "cell_type": "code",
   "execution_count": 3,
   "metadata": {},
   "outputs": [
    {
     "data": {
      "text/plain": [
       "0.0003576109090606568"
      ]
     },
     "execution_count": 3,
     "metadata": {},
     "output_type": "execute_result"
    }
   ],
   "source": [
    "# E = dF/dA = \n",
    "epsilon_0 = 8.854*10**(-12)\n",
    "e = sigma**2 / 2/epsilon_0\n",
    "e  #N /m^2"
   ]
  },
  {
   "cell_type": "code",
   "execution_count": 5,
   "metadata": {},
   "outputs": [
    {
     "data": {
      "text/plain": [
       "3.576109090606568e-08"
      ]
     },
     "execution_count": 5,
     "metadata": {},
     "output_type": "execute_result"
    }
   ],
   "source": [
    "f1 = e* 0.01*0.01  #1cm^2 受力，指向外侧\n",
    "f1 #N"
   ]
  },
  {
   "cell_type": "markdown",
   "metadata": {},
   "source": [
    "传递路径：\n",
    "电子 受到其余电子向外的作用力（静电力），静电吸引吸附到橡胶分子上，橡胶分子又会吸附到临近的其他橡胶分子；\n",
    "如果用力推这个电子，力会用同样的方式传递到整个橡胶体；除非施加的力祖国大，使得电子从吸附的分子上被拉下来。\n",
    "但电场强度需要高几千倍。"
   ]
  },
  {
   "cell_type": "markdown",
   "metadata": {},
   "source": [
    "### 电场的能量\n",
    "假设带电球壳被轻微压缩，半径从r0压缩到小值。过程需克服静电力（sigma^2/2epsilon_0）做功\n",
    "\n",
    "总功U\n",
    "$$ \\mathrm{d}U = (4 \\pi r_0^2 ) (\\sigma^2 / 2\\epsilon_0) \\mathrm{d} r $$\n",
    "\n",
    "化简\n",
    "$$ \\mathrm{d}U = \\frac{2 \\pi r_0^2 \\sigma^2  } {\\epsilon_0}   \\mathrm{d} r $$\n",
    "\n",
    "电场之前为0的空间变成sigma/epsilon_0,消耗能量，\n",
    "使用 $\\sigma = \\epsilon_0 \\mathbf{E}$ 替换，得\n",
    "\n",
    "$$ \\mathrm{d}U = \\frac{\\epsilon_0 E^2  } {2}   4\\pi r_0^2  \\mathrm{d}r $$\n"
   ]
  },
  {
   "cell_type": "markdown",
   "metadata": {},
   "source": [
    "#"
   ]
  },
  {
   "cell_type": "markdown",
   "metadata": {},
   "source": [
    "定理：\n",
    "\n",
    "一个电荷系统的势能U，等于聚集这个电荷系统所要做的总功。\n",
    "可以采用电场强度计算，\n",
    "把每一个体积元dv的能量定为 $(\\epsilon_0E^2/2 )\\mathrm{d}v$ , 然后对所有有电场存在的体积元进行积分：\n",
    "\n",
    "$$ U = \\frac{\\epsilon_0}{2} \\int _{整个空间} E^2 \\mathrm{d}v$$\n",
    "\n",
    "其中 E^2 是标量 $E^2 \\equiv \\mathbf{E} \\cdot \\mathbf{E}  $"
   ]
  },
  {
   "cell_type": "markdown",
   "metadata": {},
   "source": [
    "例题 ： 均匀带电球的势能， 半径为R ，带电量为Q的均匀带电球的势能为？\n",
    "\n",
    "解：\n",
    "球外\n",
    "\n",
    "$$ E_r = Q/4\\pi \\epsilon_0 r^2 $$\n",
    "\n",
    "$$U_{ext} = \\frac{\\epsilon_0}{2} \\int _R ^\\infty (\\frac{Q}{4\\pi\\epsilon_0r^2})^2 4\\pi r^2 \\mathrm{d}r  $$\n",
    "\n",
    "$$U_{ext} = \\frac{Q^2}{8 \\pi \\epsilon_0} \\int _R ^\\infty (\\frac{1}{r^2})\\mathrm{d}r  $$"
   ]
  },
  {
   "cell_type": "markdown",
   "metadata": {},
   "source": [
    "$$U_{ext} = \\frac{Q^2}{8 \\pi \\epsilon_0} (-\\frac{1}{r} \\bigg| _R ^\\infty )   $$\n",
    "\n",
    "$$U_{ext} = \\frac{Q^2}{8 \\pi \\epsilon_0 R} $$"
   ]
  },
  {
   "cell_type": "markdown",
   "metadata": {},
   "source": [
    "球内：\n",
    "经计算\n",
    "  $$ E_{内r} = \\frac{Qr}{4\\pi\\epsilon_0 R^3} $$ "
   ]
  },
  {
   "cell_type": "markdown",
   "metadata": {},
   "source": [
    "因此，球内Uin为\n",
    "\n",
    "$$ U_{in} =  \\frac{\\epsilon_0}{2} \\int _0 ^R   (\\frac{Qr}{4\\pi\\epsilon_0 R^3} )^2  4\\pi r^2 \\mathrm{d}r $$\n",
    "\n",
    "$$ U_{in} = \\frac{Q^2}{8 \\pi \\epsilon_0 R^6}  \\int _0 ^R (r^4)\\mathrm{d}r $$\n",
    "\n",
    "$$ U_{in} = \\frac{Q^2}{8 \\pi \\epsilon_0 R^6}   (\\frac{1}{5}r^5   \\bigg| _0 ^R ) $$\n",
    "\n",
    "$$ U_{in} = \\frac{Q^2}{8 \\pi \\epsilon_0 R}   \\cdot \\frac{1}{5} $$"
   ]
  },
  {
   "cell_type": "markdown",
   "metadata": {},
   "source": [
    "可见，球内电场储存的能量仅为球外电场储存能量的1/5.\n",
    "\n",
    "总能量为 $(3/5) Q^2/(4\\pi\\epsilon_0 R)$.\n",
    "\n",
    "可看出，组装一个带电量为Q的均匀带电球的能量，是分开两个点电荷Q到距离R处能量的3/5 ."
   ]
  },
  {
   "cell_type": "markdown",
   "metadata": {},
   "source": []
  },
  {
   "cell_type": "code",
   "execution_count": null,
   "metadata": {},
   "outputs": [],
   "source": []
  }
 ],
 "metadata": {
  "kernelspec": {
   "display_name": "base",
   "language": "python",
   "name": "python3"
  },
  "language_info": {
   "codemirror_mode": {
    "name": "ipython",
    "version": 3
   },
   "file_extension": ".py",
   "mimetype": "text/x-python",
   "name": "python",
   "nbconvert_exporter": "python",
   "pygments_lexer": "ipython3",
   "version": "3.11.5"
  }
 },
 "nbformat": 4,
 "nbformat_minor": 2
}
