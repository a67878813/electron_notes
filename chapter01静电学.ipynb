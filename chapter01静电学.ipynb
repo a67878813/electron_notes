{
 "cells": [
  {
   "cell_type": "code",
   "execution_count": null,
   "metadata": {},
   "outputs": [],
   "source": []
  },
  {
   "cell_type": "markdown",
   "metadata": {},
   "source": [
    "1.4 库仑定律\n",
    "描述静止状态的电荷之间的相互作用：力正比与电荷量的成及，反比于两个点和之间距离的平方\n",
    "\n",
    "矢量形式表示\n",
    "\n",
    "$$\\mathbf{F}_2 = k \\frac{q_1 q_2 \\hat{\\mathbf{r} }_{21 }  }         {r^2_{21}} $$"
   ]
  },
  {
   "cell_type": "markdown",
   "metadata": {},
   "source": [
    "$\\mathbf{F}_2 $ 指对第2个电荷的作用力\n",
    "\n",
    "$\\hat{\\mathbf{r}}_{21} $ 从第1个电荷指向第2个电荷的单位矢量"
   ]
  },
  {
   "cell_type": "markdown",
   "metadata": {},
   "source": [
    "电荷具有自身相关的轴向结构，不能仅仅用一个标量q来描述它。\n",
    "电子具自旋的性质。\n",
    "\n",
    "导致两个电子之间的作用力在静电排斥力（库伦力）的基础上要再加入磁力的影响。\n",
    "\n",
    "一般来讲，这种磁力确实不在两个粒子的连线方向上。它的大小跟距离的四次方成反比，并且在10^-10m的原子距离之间，库伦力比自旋所产生的磁力要强10^4倍。\n",
    "\n",
    "如果电荷移动的话，还会有另外的磁场力出现，因此，库伦定律仅仅局限于描述静止电荷。\n",
    "\n",
    "常量k值取决于单位。国际单位制{SI}, 米、kg、s，电荷库伦（C）。\n",
    " \n",
    "库伦的完整定义中包含磁力的影响。\n"
   ]
  },
  {
   "cell_type": "markdown",
   "metadata": {},
   "source": [
    "### 电荷系统的能量\n",
    "\n",
    "静电力是一种保守力。\n",
    "\n",
    "让一个电荷在电场里转圈，是不损失能量的。\n",
    "\n",
    "一切能量都是完全可相互转换的e\n"
   ]
  },
  {
   "cell_type": "markdown",
   "metadata": {},
   "source": [
    "$$W = \\int 受力 \\times 距离= \\int^{r_{12}}_{\\infty} (-\\frac{1}{4 \\pi \\epsilon_0} \\frac{q_1q_2}{r^2}              ),dr = \\frac{1}{4 \\pi \\epsilon_0}  \\frac{q_1q_2}{r}   = \\frac{1}{4 \\pi \\epsilon_0}  \\frac{q_1q_2}{r_{12}}     $$"
   ]
  },
  {
   "cell_type": "markdown",
   "metadata": {},
   "source": [
    "### 离散势能\n",
    "\n",
    "$$ U = \\frac{1}{2} \\sum_{j=1}^{N} \\sum_{k\\neq j} \\frac{1}{4 \\pi \\epsilon_0} \\frac{q_j q_k}{r_{jk}}  $$"
   ]
  },
  {
   "cell_type": "markdown",
   "metadata": {},
   "source": [
    "### 晶格中的电能\n",
    "\n",
    "氯化钠晶体， 约为$$ U= -0.87Ne^2/(4\\pi \\epsilon_0 a)$$.\n",
    "\n",
    "负号代表了，如果把警惕分离成例子，外界必须对其做工。\n",
    "电能可以解释晶体的凝聚力，如果这是势能的全部内容，晶体将会崩塌，因为如果缩短所有的距离，电荷分布的是能将会明细那变得更低。"
   ]
  },
  {
   "cell_type": "markdown",
   "metadata": {},
   "source": [
    "$$\\frac{q_0 q_j  \\hat{\\mathbf{r} }_{0j} } {r^2_{0j}} $$"
   ]
  },
  {
   "cell_type": "markdown",
   "metadata": {},
   "source": [
    "## 电场\n",
    "空间固定分布的电荷组成的系统，将另外的电荷移到该空间，讨论原系统对新电荷的影响。\n",
    "\n",
    "对于坐标为（x,y,z）的电荷q_0 ,受到的作用力为：\n",
    "\n",
    "$$  \\mathbf{F} = \\frac{1}{4 \\pi \\epsilon_0}  \\sum _{j=1}^{N}  \\frac{q_0 q_j \\hat{\\mathbf{r}} _{0j}  } {r^2_{0j}}  $$\n",
    "\n",
    "用力$\\mathbf{F}$ 除q_0  ,就得到一个只和元系统中电荷的分布相关的关于(x,y,z)的矢函数。\n",
    "\n",
    "把这个关于空间的矢函数称为 电荷系产生的电场。用符号 $\\mathbf{E}$ 代表。"
   ]
  },
  {
   "cell_type": "markdown",
   "metadata": {},
   "source": [
    "定义一种电荷分布在点(x,y,z)处产生的电场 $\\mathbf{E}$:\n",
    "\n",
    "$$ \\mathbf{E} =  \\frac{1}{4 \\pi \\epsilon_0}  \\sum _{j=1}^{N}  \\frac{ q_j \\hat{\\mathbf{r}} _{0j}  } {r^2_{0j}}  $$"
   ]
  },
  {
   "cell_type": "markdown",
   "metadata": {},
   "source": [
    "电场的源为连续分布的电荷，求和运算替换为积分形式。\n",
    "$$  \\mathbf{E} (x, y, z)      = \\frac{1}{4 \\pi \\epsilon_0} \\int \\frac{ \\rho  (x^\\prime, y^\\prime, z^\\prime) \\space \\hat{\\mathbf{r}} \\mathrm{d}x^\\prime \\mathrm{d}y^\\prime \\mathrm{d}z^\\prime }{r^2}   $$"
   ]
  },
  {
   "cell_type": "markdown",
   "metadata": {},
   "source": [
    "因此，在(x,y,z)处，电荷q所受到的作用力为\n",
    "$$\\mathbf{F} = q \\mathbf{E}$$"
   ]
  },
  {
   "cell_type": "markdown",
   "metadata": {},
   "source": [
    "## 半球积分\n",
    "\n",
    "极坐标\n",
    "\n",
    "每个圆环的纵截面为边长为dr和rdtheta的矩形 ，面积为\n",
    "$ r\\mathrm{d}r \\mathrm{d} \\theta  $\n",
    "\n",
    "圆环半径为 $r\\sin\\theta$\n",
    "\n",
    "圆环体积为 $   r\\mathrm{d}r \\mathrm{d} \\theta  ( 2\\pi r \\sin\\theta  )$\n",
    "\n",
    "携带电荷量为 $\\rho (2 \\pi r^2 \\sin\\theta \\mathrm{d}r \\mathrm{d} \\theta )$ \n",
    "\n",
    "考虑圆环一小段，带有电荷量 dq。 他在球心产生的电场沿着这个小体积和球心的连线，指向上方，大小为\n",
    "\n",
    "$\\mathrm{d}q  /(4\\pi\\epsilon_0 r^2) $\n",
    "\n",
    "垂直方向的分量为 \n",
    "$\\mathrm{d}q \\cos\\theta /(4\\pi\\epsilon_0 r^2) $\n",
    "\n",
    "对整个圆环进行积分，电场为\n",
    "\n",
    "$$\\mathrm{d}E_y = \\frac  { \\rho (2 \\pi r^2 \\sin\\theta \\mathrm{d}r \\mathrm{d} \\theta ) }{(4\\pi\\epsilon_0 r^2)  } \\cos\\theta$$\n",
    "\n",
    "$$ \\frac  { \\rho\\sin\\theta \\cos\\theta \\mathrm{d}r \\mathrm{d} \\theta }       {2\\epsilon_0} $$\n",
    "\n",
    "\n"
   ]
  },
  {
   "cell_type": "markdown",
   "metadata": {},
   "source": [
    "对r theta 积分\n",
    "\n",
    "$$  E_y =\\int ^{R}_{0}  \\int ^{\\pi/2}_{0}  \\frac  { \\rho\\sin\\theta \\cos\\theta \\mathrm{d}r \\mathrm{d} \\theta }       {2\\epsilon_0}   $$\n",
    "\n",
    "$$  =  \\frac  { \\rho}       {2\\epsilon_0}  ( \\int ^{R}_{0}\\mathrm{d}r )  (\\int ^{\\pi/2}_{0} \\sin\\theta \\cos\\theta \\mathrm{d} \\theta)  $$"
   ]
  },
  {
   "cell_type": "markdown",
   "metadata": {},
   "source": [
    "$$=  \\frac  { \\rho}       {2\\epsilon_0}  R (\\int ^{\\pi/2}_{0} \\sin\\theta\\sin\\theta \\mathrm{d}\\sin\\theta ) $$\n",
    "$$=  \\frac  { \\rho}       {2\\epsilon_0}  R (\\frac{\\sin^2\\theta}{2}  \\bigg| _0^{\\pi/2} )$$\n",
    "\n",
    "$$=  \\frac  { \\rho R}       {4\\epsilon_0}  $$"
   ]
  },
  {
   "cell_type": "markdown",
   "metadata": {},
   "source": [
    "非竖直分量互相抵消。"
   ]
  },
  {
   "cell_type": "markdown",
   "metadata": {},
   "source": [
    "## 通量\n",
    "\n",
    "描述电场和源的关系。\n",
    "定义一个叫做通量的物理量。\n",
    "\n",
    "考虑空间中由一些电场，\n",
    "\n",
    "电场矢量点乘面积方向矢量= 通量\n",
    "\n",
    "类比于\n",
    "\n",
    "水流速度场 点乘面积方向的框， 点乘结果为通过这个框的水的 \n",
    "\n",
    "*流量率*  （流速/单位面积）（流量/单位面积/单位时间）（通量）"
   ]
  },
  {
   "cell_type": "markdown",
   "metadata": {},
   "source": [
    "矢量 $\\mathbf{a}_j$ , 小块的面积和方向\n",
    "\n",
    "矢量 $\\mathbf{E}_j $, 这个位置的电场矢量"
   ]
  },
  {
   "cell_type": "markdown",
   "metadata": {},
   "source": [
    "全部小块的通量加起来，通过整个表面的标量 $\\phi$\n",
    "\n",
    "$$\\phi = \\sum_{全部  j}{} \\mathbf{E}_{j} \\cdot \\mathbf{a}_{j}  $$"
   ]
  },
  {
   "cell_type": "markdown",
   "metadata": {},
   "source": [
    "积分式：(面积分)\n",
    "\n",
    "$$\\phi = \\int _{整个表面}{} \\mathbf{E} \\cdot \\mathrm{d}  {\\mathbf{a} }  $$ "
   ]
  },
  {
   "cell_type": "markdown",
   "metadata": {},
   "source": [
    "## 高斯定理\n",
    "\n",
    "通过任意闭合表面的电通量，也就是用 $\\int \\mathbf{E} \\cdot \\mathrm{d} \\mathbf{a}$ 对整个表面进行积分，其值等于 \n",
    "\n",
    "$ 1/ \\epsilon_0 $ 乘以表面锁包围的电荷的总量：\n",
    "\n",
    "$$ \\int \\mathbf{E} \\cdot \\mathrm{d}\\mathbf{a} = \\frac{1}{\\epsilon_0} \\sum_{i} q_i =  \\frac{1}{\\epsilon_0} \\int \\rho \\mathrm{d} v $$"
   ]
  },
  {
   "cell_type": "markdown",
   "metadata": {},
   "source": [
    "高斯定理可用于r平方反比关系，不满足球对称的场。\n"
   ]
  },
  {
   "cell_type": "markdown",
   "metadata": {},
   "source": [
    "### 球形对称分布的电场\n",
    "\n",
    "球形对称分布指：电荷密度$\\rho$ 仅仅取决于其道球心的半径。"
   ]
  },
  {
   "cell_type": "markdown",
   "metadata": {},
   "source": [
    "### 线电荷的电场\n",
    "\n",
    "$\\lambda$ 表示线电荷密度，单位为 $C/m$.\n",
    "电荷元dq对P点处贡献的电场的y分量为\n",
    "\n",
    "$$ \\mathrm{d} E_y = \\frac{\\mathrm{d}q}  {4 \\pi \\epsilon_0 R^2 \\cos\\theta}  =  \\frac{\\lambda \\mathrm{d}x}  {4 \\pi \\epsilon_0 R^2}  \\cos\\theta\n",
    "\n",
    "\n"
   ]
  },
  {
   "cell_type": "markdown",
   "metadata": {},
   "source": [
    "这里的theta指dq产生的电场方向和y方向的夹角。总y分量为\n",
    "\n",
    "$$ E_y = \\int \\mathrm{d}E_y = \\int_{-\\infty}^{\\infty} \\frac{\\lambda \\cos\\theta }  {4 \\pi \\epsilon_0 R^2 }  \\mathrm{d}x $$\n",
    "\n",
    "可知：\n",
    "\n",
    "$$ R= \\frac{r}{\\cos\\theta} $$\n",
    "\n",
    "$$ \\mathrm{d}x = R\\mathrm{d}\\theta/\\cos\\theta $$\n",
    "\n",
    "$$  \\mathrm{d}x =  r \\mathrm{d} \\theta / \\cos^2\\theta $$\n",
    "\n",
    "$$  $$\n"
   ]
  },
  {
   "cell_type": "markdown",
   "metadata": {},
   "source": [
    "保留theta，积分演化为\n",
    "\n",
    "$$ E_y = \\int_{-\\pi /2}^{\\pi /2}   \\frac{\\lambda \\cos\\theta\\mathrm{d}\\theta}  {4\\pi\\epsilon_0 r}$$\n"
   ]
  },
  {
   "cell_type": "markdown",
   "metadata": {},
   "source": [
    "$$ = \\frac{\\lambda }  {4\\pi\\epsilon_0 r}  (\\sin\\theta     \\bigg| _{-\\pi/2}^{\\pi/2} )$$\n",
    " -pi/2 , pi/2"
   ]
  },
  {
   "cell_type": "markdown",
   "metadata": {},
   "source": [
    "$$ = \\frac{\\lambda }  {4\\pi\\epsilon_0 r}\\int_{-\\pi /2}^{\\pi /2}  \\cos\\theta\\mathrm{d}\\theta$$"
   ]
  },
  {
   "cell_type": "markdown",
   "metadata": {},
   "source": [
    "$$ = \\frac{\\lambda }  {2\\pi\\epsilon_0 r} $$\n"
   ]
  },
  {
   "cell_type": "markdown",
   "metadata": {},
   "source": [
    "### 无限大带电平面的电场\n",
    "高斯定理\n",
    "\n",
    "电荷量 $\\sigma A$\n",
    "\n",
    "通量 $2A E_p$\n",
    "\n",
    "$$2AE_p = \\sigma A / \\epsilon_0 $$\n",
    "\n",
    "$$E_p = \\sigma / 2\\epsilon_0 $$\n"
   ]
  },
  {
   "cell_type": "markdown",
   "metadata": {},
   "source": [
    "### 电荷层的受力\n",
    "\n",
    "球体表面均匀分布密度为 $\\sigma$ 的电荷，\n",
    "\n",
    "球面外侧电场 \n",
    "\n",
    "$$ \\mathbf{E}= \\sigma / \\epsilon_0 $$\n",
    "\n",
    "球面内侧电场\n",
    "\n",
    " $$ \\mathbf{E}= 0 $$"
   ]
  },
  {
   "cell_type": "markdown",
   "metadata": {},
   "source": [
    "球表面电荷元 $\\mathrm{d}q$ 受力\n",
    "\n",
    "$$ \\mathrm{d} \\mathbf{F} =  \\mathbf{E} \\mathrm{d} q = \\mathbf{E}\\sigma  \\mathrm{d} \\mathbf{A} $$"
   ]
  },
  {
   "cell_type": "markdown",
   "metadata": {},
   "source": [
    "使用的E为内侧和外侧的**平均值**:\n",
    "\n",
    "$$ \\mathrm{d} \\mathbf{F} =   1/2 (\\sigma/\\epsilon_0 + 0)  \\sigma \\mathrm{d}A = \\frac{\\sigma^2 \\mathrm{d}A}{2\\epsilon_0}   $$"
   ]
  },
  {
   "cell_type": "markdown",
   "metadata": {},
   "source": []
  },
  {
   "cell_type": "code",
   "execution_count": 1,
   "metadata": {},
   "outputs": [
    {
     "data": {
      "text/plain": [
       "7.957747154594766e-08"
      ]
     },
     "execution_count": 1,
     "metadata": {},
     "output_type": "execute_result"
    }
   ],
   "source": [
    "#例子， 假设橡胶球体，半径0.1m，外表面均匀分布10^-8C 的负电荷。\n",
    "#面电荷密度为 \n",
    "import numpy as np\n",
    "r = 0.1\n",
    "sigma = 10**(-8) / (4* np.pi * r**2  )\n",
    "sigma"
   ]
  },
  {
   "cell_type": "code",
   "execution_count": 3,
   "metadata": {},
   "outputs": [
    {
     "data": {
      "text/plain": [
       "0.0003576109090606568"
      ]
     },
     "execution_count": 3,
     "metadata": {},
     "output_type": "execute_result"
    }
   ],
   "source": [
    "# E = dF/dA = \n",
    "epsilon_0 = 8.854*10**(-12)\n",
    "e = sigma**2 / 2/epsilon_0\n",
    "e  #N /m^2"
   ]
  },
  {
   "cell_type": "code",
   "execution_count": 5,
   "metadata": {},
   "outputs": [
    {
     "data": {
      "text/plain": [
       "3.576109090606568e-08"
      ]
     },
     "execution_count": 5,
     "metadata": {},
     "output_type": "execute_result"
    }
   ],
   "source": [
    "f1 = e* 0.01*0.01  #1cm^2 受力，指向外侧\n",
    "f1 #N"
   ]
  },
  {
   "cell_type": "markdown",
   "metadata": {},
   "source": [
    "传递路径：\n",
    "电子 受到其余电子向外的作用力（静电力），静电吸引吸附到橡胶分子上，橡胶分子又会吸附到临近的其他橡胶分子；\n",
    "如果用力推这个电子，力会用同样的方式传递到整个橡胶体；除非施加的力足够大，使得电子从吸附的分子上被拉下来。\n",
    "但电场强度需要高几千倍。"
   ]
  },
  {
   "cell_type": "markdown",
   "metadata": {},
   "source": [
    "### 电场的能量\n",
    "假设带电球壳被轻微压缩，半径从r0压缩到小值。过程需克服静电力（sigma^2/2epsilon_0）做功\n",
    "\n",
    "总功U\n",
    "$$ \\mathrm{d}U = (4 \\pi r_0^2 ) (\\sigma^2 / 2\\epsilon_0) \\mathrm{d} r $$\n",
    "\n",
    "化简\n",
    "$$ \\mathrm{d}U = \\frac{2 \\pi r_0^2 \\sigma^2  } {\\epsilon_0}   \\mathrm{d} r $$\n",
    "\n",
    "电场之前为0的空间变成sigma/epsilon_0,消耗能量，\n",
    "使用 $\\sigma = \\epsilon_0 \\mathbf{E}$ 替换，得\n",
    "\n",
    "$$ \\mathrm{d}U = \\frac{\\epsilon_0 E^2  } {2}   4\\pi r_0^2  \\mathrm{d}r $$\n"
   ]
  },
  {
   "cell_type": "markdown",
   "metadata": {},
   "source": [
    "#"
   ]
  },
  {
   "cell_type": "markdown",
   "metadata": {},
   "source": [
    "### 连续势能 （电场势能）\n",
    "\n",
    "一个电荷系统的势能U，等于聚集这个电荷系统所要做的总功。\n",
    "可以采用电场强度计算，\n",
    "把每一个体积元dv的能量定为 $(\\epsilon_0E^2/2 )\\mathrm{d}v$ , 然后对所有有电场存在的体积元进行积分：\n",
    "\n",
    "$$ U = \\frac{\\epsilon_0}{2} \\int _{整个空间} E^2 \\mathrm{d}v$$\n",
    "\n",
    "其中 E^2 是标量 $E^2 \\equiv \\mathbf{E} \\cdot \\mathbf{E}  $"
   ]
  },
  {
   "cell_type": "markdown",
   "metadata": {},
   "source": [
    "例题 ： 均匀带电球的势能， 半径为R ，带电量为Q的均匀带电球的势能为？\n",
    "\n",
    "解：\n",
    "球外\n",
    "\n",
    "$$ E_r = Q/4\\pi \\epsilon_0 r^2 $$\n",
    "\n",
    "$$U_{ext} = \\frac{\\epsilon_0}{2} \\int _R ^\\infty (\\frac{Q}{4\\pi\\epsilon_0r^2})^2 4\\pi r^2 \\mathrm{d}r  $$\n",
    "\n",
    "$$U_{ext} = \\frac{Q^2}{8 \\pi \\epsilon_0} \\int _R ^\\infty (\\frac{1}{r^2})\\mathrm{d}r  $$"
   ]
  },
  {
   "cell_type": "markdown",
   "metadata": {},
   "source": [
    "$$U_{ext} = \\frac{Q^2}{8 \\pi \\epsilon_0} (-\\frac{1}{r} \\bigg| _R ^\\infty )   $$\n",
    "\n",
    "$$U_{ext} = \\frac{Q^2}{8 \\pi \\epsilon_0 R} $$"
   ]
  },
  {
   "cell_type": "markdown",
   "metadata": {},
   "source": [
    "球内：  （均匀分布球内电场）\n",
    "经计算\n",
    "  $$ E_{内r} = \\frac{Qr}{4\\pi\\epsilon_0 R^3} $$ \n",
    "\n",
    "  $$ Q = (4 \\pi R^3 / 3)\\rho$$\n",
    "  $$E_{内} =  \\frac{\\rho r}{3 \\epsilon_0 }$$"
   ]
  },
  {
   "cell_type": "markdown",
   "metadata": {},
   "source": [
    "变r,对r积分。"
   ]
  },
  {
   "cell_type": "markdown",
   "metadata": {},
   "source": [
    "因此，球内Uin为\n",
    "\n",
    "$$ U_{in} =  \\frac{\\epsilon_0}{2} \\int _0 ^R   (\\frac{Qr}{4\\pi\\epsilon_0 R^3} )^2  4\\pi r^2 \\mathrm{d}r $$\n",
    "\n",
    "$$ U_{in} = \\frac{Q^2}{8 \\pi \\epsilon_0 R^6}  \\int _0 ^R (r^4)\\mathrm{d}r $$\n",
    "\n",
    "$$ U_{in} = \\frac{Q^2}{8 \\pi \\epsilon_0 R^6}   (\\frac{1}{5}r^5   \\bigg| _0 ^R ) $$\n",
    "\n",
    "$$ U_{in} = \\frac{Q^2}{8 \\pi \\epsilon_0 R}   \\cdot \\frac{1}{5} $$"
   ]
  },
  {
   "cell_type": "markdown",
   "metadata": {},
   "source": [
    "可见，球内电场储存的能量仅为球外电场储存能量的1/5.\n",
    "\n",
    "总能量为 $(3/5) Q^2/(4\\pi\\epsilon_0 R)$.\n",
    "\n",
    "可看出，组装一个带电量为Q的均匀带电球的能量，是分开两个点电荷Q到距离R处能量的3/5 ."
   ]
  },
  {
   "cell_type": "markdown",
   "metadata": {},
   "source": [
    "例子：环的震动\n",
    "均匀带电的半径为R的圆环，其电荷密度为lambda，带有整点q，质量为m的粒子放在环的中心，轻轻踢开该粒子。如果该粒子只能在环的平面内运动，证明该粒子将做简谐运动，试球其频率。\n",
    "流程：\n",
    "求出粒子在很小半径运动的势能，对整个环求积分，取导数的到力。\n",
    "需要余弦定理和泰勒级数。\n",
    "\n",
    "解：\n",
    "\n",
    "$$ \\frac{1} {\\sqrt{1+\\epsilon  }} \\approx  1- \\frac{\\epsilon}{2}  + \\frac{3\\epsilon^2}{8}$$"
   ]
  },
  {
   "cell_type": "markdown",
   "metadata": {},
   "source": [
    "考虑环上长度为 $R\\mathrm{d}\\theta$ 的一小段。根据余弦定理，点(r,0)到小段的距离为 $\\sqrt{R^2+r^2-2Rr\\cos\\theta}$"
   ]
  },
  {
   "cell_type": "markdown",
   "metadata": {},
   "source": [
    "电荷q关于r的势能U表达式为：（2倍半环）\n",
    "\n",
    "$$ U(r) =  2\\int_0^\\pi  \\frac{1}{4\\pi \\epsilon_0} \\frac{q(\\lambda R \\mathrm{d} \\theta)}{\\sqrt{R^2+r^2-2Rr\\cos\\theta}}  $$"
   ]
  },
  {
   "cell_type": "markdown",
   "metadata": {},
   "source": [
    "$$ =  \\frac{q\\lambda }{2\\pi \\epsilon_0} \\int_0^\\pi   \\frac{\\mathrm{d} \\theta}  {\\sqrt{1 +r^2/R^2-2(r/R)\\cos\\theta}}  $$"
   ]
  },
  {
   "cell_type": "markdown",
   "metadata": {},
   "source": [
    "利用已知泰勒级数 $\\epsilon \\equiv r^2/R^2-2(r/R)\\cos\\theta$ 带入，仅保留到 r^2 项"
   ]
  },
  {
   "cell_type": "markdown",
   "metadata": {},
   "source": [
    "利用 $\\int_0^\\pi \\cos\\theta$ 一阶积分为0 ，  $\\int_0^\\pi \\cos^2\\theta = 1/2$ "
   ]
  },
  {
   "cell_type": "markdown",
   "metadata": {},
   "source": [
    "$$ U(r) = \\frac{q\\lambda }{2\\pi \\epsilon_0} \\int_0^\\pi  [1+  \\frac{r^2}{2R^2}(3\\cos^2\\theta -1 )  ] \\mathrm{d} \\theta $$"
   ]
  },
  {
   "cell_type": "markdown",
   "metadata": {},
   "source": [
    "得 \n",
    "$$ U(r) = \\frac {q\\lambda}{2\\epsilon_0} +  \\frac{q\\lambda r^2} {8 \\epsilon_0 R^2}  $$"
   ]
  },
  {
   "cell_type": "markdown",
   "metadata": {},
   "source": [
    "于是电荷q受力为\n",
    "$$F(r) = \\frac{\\mathrm{d}U}{\\mathrm{d}r} = U^\\prime(r)= -\\frac{q\\lambda r}{4\\epsilon_0R^2}$$"
   ]
  },
  {
   "cell_type": "markdown",
   "metadata": {},
   "source": [
    "推测出 \n",
    "$$ m\\ddot r = -\\frac{q\\lambda r}{4\\epsilon_0R^2} $$"
   ]
  },
  {
   "cell_type": "markdown",
   "metadata": {},
   "source": [
    "\n",
    "运动方程\n",
    "$$ \\ddot r = -(\\frac{q\\lambda }{4\\epsilon_0 m R^2})  r $$"
   ]
  },
  {
   "cell_type": "markdown",
   "metadata": {},
   "source": [
    "角速度\n",
    "$$ \\omega = \\sqrt{\\frac{q\\lambda }{4\\epsilon_0 m R^2}}$$"
   ]
  },
  {
   "cell_type": "markdown",
   "metadata": {},
   "source": [
    "因电荷Q在环上，有\n",
    "$\\lambda = Q/(2\\pi R)$"
   ]
  },
  {
   "cell_type": "markdown",
   "metadata": {},
   "source": [
    "带入\n",
    "$$ \\omega = \\sqrt{\\frac{qQ }{8\\epsilon_0 m R^3}}$$"
   ]
  },
  {
   "cell_type": "markdown",
   "metadata": {},
   "source": [
    "若\n",
    "\n",
    "$r=0.1m $\n",
    "\n",
    "$m=0.01kg$\n",
    "\n",
    "$(q,Q = 1mC)$\n"
   ]
  },
  {
   "cell_type": "code",
   "execution_count": 28,
   "metadata": {},
   "outputs": [
    {
     "name": "stdout",
     "output_type": "stream",
     "text": [
      "21.19875283830185\n",
      "f = 3.3739 Hz\n",
      "T = 0.2964 s\n"
     ]
    }
   ],
   "source": [
    "import numpy as np\n",
    "R= 0.1\n",
    "m=0.01\n",
    "q = 1* 10**(-6)\n",
    "Q = 1* 10**(-6)\n",
    "epsilon_0 = 8.854*10**(-12)\n",
    "omega = np.sqrt(q*Q / (8 *math.pi* epsilon_0 *m *R**3) )\n",
    "\n",
    "print(omega)\n",
    "print(f\"f = {  round(  omega / (2 *math.pi  )  , 4) } Hz\")\n",
    "print(f\"T = {   round ( (2 *math.pi  )/ omega   ,4)} s\")\n"
   ]
  },
  {
   "cell_type": "markdown",
   "metadata": {},
   "source": [
    "得 \n",
    "$\\omega = 21 s^{-1}$"
   ]
  },
  {
   "cell_type": "code",
   "execution_count": 33,
   "metadata": {},
   "outputs": [
    {
     "name": "stdout",
     "output_type": "stream",
     "text": [
      "1.3047660265041068\n"
     ]
    }
   ],
   "source": [
    "print(1/(math.sqrt(2**(2/3) -1 )))"
   ]
  },
  {
   "cell_type": "markdown",
   "metadata": {},
   "source": [
    "## 均匀场\n",
    "\n",
    "2个半径为r得圆环，均匀带电，电荷分别为Q与-Q。 两环平行放置，相距为h。z为垂直轴。\n",
    "z = 0 为下面环的圆心。\n",
    "\n",
    "a)求Z轴电场强度表达式。\n",
    "\n",
    "b) 可以求出电场强度是关于z=h/2的偶函数，这意味着在该点的场有极值，该点的场相对而言是较均匀的，从该店起沿着z轴没有一阶变化，\n",
    "要使得场非常均匀，则r与h的关系？\n",
    "（2阶导数为0）\n",
    "\n",
    "\n",
    "\n"
   ]
  },
  {
   "cell_type": "markdown",
   "metadata": {},
   "source": [
    "解： 下方圆环z处， 电荷dQ产生的电场大小为dQ/ (4 pi e0 (r^2+z^2)  ),\n",
    "对称性得仅剩z向分量，cos（theta） = z/(r^2+z^2),\n",
    "\n",
    "积分后dQ变为Q ,底部环产生得电场为\n",
    "\n",
    "Ez = Qz/(4 pi e0 (r^2 + z^2 )^(3/2 )   )\n",
    "\n"
   ]
  },
  {
   "cell_type": "markdown",
   "metadata": {},
   "source": []
  },
  {
   "cell_type": "markdown",
   "metadata": {},
   "source": [
    "若把z换成h-z的话，电场值不会变化。 同样，若定义一个相对中点的坐标系z' = z- h/2 , \n",
    "替换后电场的值仍不会改变。因此电场是z'的偶函数。相对于z=h/2对称。"
   ]
  },
  {
   "cell_type": "markdown",
   "metadata": {},
   "source": [
    "sympy计算二阶导数"
   ]
  },
  {
   "cell_type": "code",
   "execution_count": 45,
   "metadata": {},
   "outputs": [],
   "source": [
    "from sympy import init_printing\n"
   ]
  },
  {
   "cell_type": "code",
   "execution_count": 115,
   "metadata": {},
   "outputs": [
    {
     "name": "stdout",
     "output_type": "stream",
     "text": [
      "15.0*z**3/(r**2 + z**2)**3.5 - 9.0*z/(r**2 + z**2)**2.5 + 15.0*(h - z)**3/(r**2 + (h - z)**2)**3.5 - 9.0*(h - z)/(r**2 + (h - z)**2)**2.5\n"
     ]
    },
    {
     "data": {
      "image/png": "[encoded data removed]",
      "text/latex": [
       "$\\displaystyle \\frac{15.0 z^{3}}{\\left(r^{2} + z^{2}\\right)^{3.5}} - \\frac{9.0 z}{\\left(r^{2} + z^{2}\\right)^{2.5}} + \\frac{15.0 \\left(h - z\\right)^{3}}{\\left(r^{2} + \\left(h - z\\right)^{2}\\right)^{3.5}} - \\frac{9.0 \\left(h - z\\right)}{\\left(r^{2} + \\left(h - z\\right)^{2}\\right)^{2.5}}$"
      ],
      "text/plain": [
       "                 -3.5                  -2.5                                -3.\n",
       "      3 ⎛ 2    2⎞             ⎛ 2    2⎞                   3 ⎛ 2          2⎞   \n",
       "15.0⋅z ⋅⎝r  + z ⎠     - 9.0⋅z⋅⎝r  + z ⎠     + 15.0⋅(h - z) ⋅⎝r  + (h - z) ⎠   \n",
       "\n",
       "5                              -2.5\n",
       "                ⎛ 2          2⎞    \n",
       "  - 9.0⋅(h - z)⋅⎝r  + (h - z) ⎠    "
      ]
     },
     "execution_count": 115,
     "metadata": {},
     "output_type": "execute_result"
    }
   ],
   "source": [
    "# scipy 求函数导数\n",
    "\n",
    "from sympy import diff\n",
    "from sympy import symbols\n",
    "\n",
    "def func(x):\n",
    "    return  (z/ ((r**2 + z**2)**(3/2)         ) +  (h-z)/(  (r**2 + (h-z)**2)**(3/2)  )  )\n",
    "z = symbols(\"z\")\n",
    "h = symbols(\"h\")\n",
    "r = symbols(\"r\")\n",
    "Q = symbols(\"Q\")\n",
    "pi = symbols(\"pi\")\n",
    "e0 = symbols(\"e0\")\n",
    "\n",
    "\n",
    "c = diff(func(z),z,2)\n",
    "\n",
    "print(c)\n",
    "c"
   ]
  },
  {
   "cell_type": "code",
   "execution_count": 116,
   "metadata": {},
   "outputs": [
    {
     "name": "stdout",
     "output_type": "stream",
     "text": [
      "\\frac{z}{\\left(r^{2} + z^{2}\\right)^{1.5}} + \\frac{h - z}{\\left(r^{2} + \\left(h - z\\right)^{2}\\right)^{1.5}}\n"
     ]
    }
   ],
   "source": [
    "print( latex(func(x)) )"
   ]
  },
  {
   "cell_type": "markdown",
   "metadata": {},
   "source": [
    "$$\\frac{z}{\\left(r^{2} + z^{2}\\right)^{1.5}} + \\frac{h - z}{\\left(r^{2} + \\left(h - z\\right)^{2}\\right)^{1.5}}$$"
   ]
  },
  {
   "cell_type": "code",
   "execution_count": 118,
   "metadata": {},
   "outputs": [
    {
     "name": "stdout",
     "output_type": "stream",
     "text": [
      "\\frac{15.0 z^{3}}{\\left(r^{2} + z^{2}\\right)^{3.5}} - \\frac{9.0 z}{\\left(r^{2} + z^{2}\\right)^{2.5}} + \\frac{15.0 \\left(h - z\\right)^{3}}{\\left(r^{2} + \\left(h - z\\right)^{2}\\right)^{3.5}} - \\frac{9.0 \\left(h - z\\right)}{\\left(r^{2} + \\left(h - z\\right)^{2}\\right)^{2.5}}\n"
     ]
    }
   ],
   "source": [
    "print( latex(c) )"
   ]
  },
  {
   "cell_type": "markdown",
   "metadata": {},
   "source": [
    "$$\\frac{15.0 z^{3}}{\\left(r^{2} + z^{2}\\right)^{3.5}} - \\frac{9.0 z}{\\left(r^{2} + z^{2}\\right)^{2.5}} + \\frac{15.0 \\left(h - z\\right)^{3}}{\\left(r^{2} + \\left(h - z\\right)^{2}\\right)^{3.5}} - \\frac{9.0 \\left(h - z\\right)}{\\left(r^{2} + \\left(h - z\\right)^{2}\\right)^{2.5}}$$"
   ]
  },
  {
   "cell_type": "markdown",
   "metadata": {},
   "source": [
    "中点二阶导数Ez''=0时，求得  r= h/sqrt(6)，图形为"
   ]
  },
  {
   "cell_type": "code",
   "execution_count": 126,
   "metadata": {},
   "outputs": [
    {
     "data": {
      "image/png": "[encoded data removed]",
      "text/plain": [
       "<Figure size 640x480 with 2 Axes>"
      ]
     },
     "metadata": {},
     "output_type": "display_data"
    }
   ],
   "source": [
    "import matplotlib.pyplot as plt\n",
    "import numpy as np\n",
    "\n",
    "h = math.pi\n",
    "r = h /(sqrt(6))\n",
    "yrange = 5\n",
    "def f(z):\n",
    "    #原函数\n",
    "\n",
    "    return  z/ ((r**2 + z**2)**(3/2)         ) +  (h-z)/(  (r**2 + (h-z)**2)**(3/2)  )  \n",
    "def g(z):\n",
    "    ##二阶导数\n",
    "\n",
    "    return 15.0*z**3/(r**2 + z**2)**3.5 - 9.0*z/(r**2 + z**2)**2.5 + 15.0*(h - z)**3/(r**2 + (h - z)**2)**3.5 - 9.0*(h - z)/(r**2 + (h - z)**2)**2.5\n",
    "\n",
    "xrange = np.pi* 2.0\n",
    "\n",
    "a = np.arange(-xrange ,xrange  , 0.08)\n",
    "\n",
    "cc = plt.subplot(2,1,1)# (行数， 列数，当前区域)\n",
    "plt.xticks(np.arange(-xrange,xrange,np.pi/2))\n",
    "cc.set_ylim(- yrange -0.1, yrange+0.1)\n",
    "#plt.yticks([-1,0,1])\n",
    "# _ = plt.yticks(ticks = [-1,0,1],ha = 'right')\n",
    "_ = plt.xticks(ticks = np.arange(0,xrange+0.1 ,np.pi/2), \\\n",
    "labels = ['0',r'$\\frac{1}{2}\\pi$',r'$\\pi$',r'$\\frac{3}{2}\\pi$',r'$2\\pi$'] \\\n",
    ")\n",
    "_=plt.grid(True, linestyle='-.')\n",
    "plt.plot(a,f(a)*(h**2))\n",
    "#Z 轴单位为 Q/(4 pi e0 h^2)\n",
    "#------------------\n",
    "\n",
    "cc2=plt.subplot(2,1,2)\n",
    "plt.xticks(np.arange(-xrange,xrange,np.pi/2))\n",
    "cc2.set_ylim(- yrange -0.1, yrange+0.1)\n",
    "_ = plt.xticks(ticks = np.arange(0,xrange+0.1 ,np.pi/2), \\\n",
    "labels = ['0',r'$\\frac{1}{2}\\pi$',r'$\\pi$',r'$\\frac{3}{2}\\pi$',r'$2\\pi$'] \\\n",
    ")\n",
    "_=plt.grid(True, linestyle='-')\n",
    "plt.plot(a,g(a)*(h**2),'g--')\n",
    "\n",
    "plt.show()\n",
    " "
   ]
  },
  {
   "cell_type": "markdown",
   "metadata": {},
   "source": [
    "当r << h时， 圆环附近的电场非常大，因为在距离大于r几倍的位置上看过去，圆环就像一个点电荷。"
   ]
  },
  {
   "cell_type": "code",
   "execution_count": 62,
   "metadata": {},
   "outputs": [
    {
     "name": "stdout",
     "output_type": "stream",
     "text": [
      "Integral((R*cos(x) - z)*sin(x)/(R**2 - 2*R*z*cos(x) + z**2)**1.5, x)\n"
     ]
    },
    {
     "data": {
      "image/png": "[encoded data removed]",
      "text/latex": [
       "$\\displaystyle \\int \\frac{\\left(R \\cos{\\left(x \\right)} - z\\right) \\sin{\\left(x \\right)}}{\\left(R^{2} - 2 R z \\cos{\\left(x \\right)} + z^{2}\\right)^{1.5}}\\, dx$"
      ],
      "text/plain": [
       "⌠                                                      \n",
       "⎮                                        -1.5          \n",
       "⎮                ⎛ 2                   2⎞              \n",
       "⎮ (R⋅cos(x) - z)⋅⎝R  - 2⋅R⋅z⋅cos(x) + z ⎠    ⋅sin(x) dx\n",
       "⌡                                                      "
      ]
     },
     "execution_count": 62,
     "metadata": {},
     "output_type": "execute_result"
    }
   ],
   "source": [
    "# scipy 求函数积分\n",
    "\n",
    "from sympy import diff\n",
    "from sympy import symbols\n",
    "from sympy import *\n",
    "def func(x):\n",
    "    return   (sin(x) * ( R * cos(x)- z ) / ( ( R**2 + z**2   - 2*R*z* cos(x)  )**(3/2)   )        ) \n",
    "z = symbols(\"z\")\n",
    "x = symbols(\"x\")\n",
    "h = symbols(\"h\")\n",
    "r = symbols(\"r\")\n",
    "R = symbols(\"R\")\n",
    "Q = symbols(\"Q\")\n",
    "pi = symbols(\"pi\")\n",
    "e0 = symbols(\"e0\")\n",
    "\n",
    "\n",
    "c = Integral(func(x),x)\n",
    "\n",
    "print(c)\n",
    "c\n",
    "\n"
   ]
  },
  {
   "cell_type": "markdown",
   "metadata": {},
   "source": [
    "### 平面上的孔\n",
    "\n",
    "无限平面，中开半径为R的孔，平面电荷密度sigma，L为穿心直线，ｚ为至圆心距离。\n",
    "\n",
    "求E(z)\n",
    "\n",
    "若m=1g, -q = -qp**8C , sigma = 10**-6  R = 0.1 m 求omega\n",
    "\n",
    "上述物体离孔心距离为z 时，从精致释放，当它穿过孔心时速度时多少？ 当z 很大，或R很小时， 速度可简化成什么形式？"
   ]
  },
  {
   "cell_type": "markdown",
   "metadata": {},
   "source": [
    "\n",
    "\n",
    "expr = (sin(x) * ( R * cos(x)- z ) / ( ( R**2 + z**2   - 2*R*z* cos(x)  )**(3/2)   )        ) "
   ]
  },
  {
   "cell_type": "code",
   "execution_count": 11,
   "metadata": {},
   "outputs": [
    {
     "name": "stdout",
     "output_type": "stream",
     "text": [
      "Integral(r*sigma*z/(2*e0*(r**2 + z**2)**1.5), (r, R, oo))\n"
     ]
    },
    {
     "data": {
      "text/latex": [
       "$\\displaystyle \\int\\limits_{R}^{\\infty} \\frac{r \\sigma z}{2 e_{0} \\left(r^{2} + z^{2}\\right)^{1.5}}\\, dr$"
      ],
      "text/plain": [
       "Integral(r*sigma*z/(2*e0*(r**2 + z**2)**1.5), (r, R, oo))"
      ]
     },
     "execution_count": 11,
     "metadata": {},
     "output_type": "execute_result"
    }
   ],
   "source": [
    "from sympy import symbols\n",
    "from sympy import *\n",
    "def func(r):\n",
    "    return   (2 * pi * sigma * z * r )/ (4* pi * e0 * (r**2 + z**2)**(3/2)) \n",
    "\n",
    "z = symbols(\"z\")\n",
    "x = symbols(\"x\")\n",
    "h = symbols(\"h\")\n",
    "r = symbols(\"r\")\n",
    "R = symbols(\"R\")\n",
    "Q = symbols(\"Q\")\n",
    "sigma = symbols(\"sigma\")\n",
    "pi = symbols(\"pi\")\n",
    "e0 = symbols(\"e0\")\n",
    "\n",
    "\n",
    "c = Integral(func(r),(r,R,oo))\n",
    "\n",
    "print(c)\n",
    "c"
   ]
  },
  {
   "cell_type": "markdown",
   "metadata": {},
   "source": [
    "integrate(func(r),(r,R,oo))"
   ]
  },
  {
   "cell_type": "code",
   "execution_count": 13,
   "metadata": {},
   "outputs": [
    {
     "data": {
      "text/latex": [
       "$\\displaystyle - \\frac{0.5 \\sigma}{e_{0} \\left(\\frac{r^{2}}{z^{2}} + 1\\right)^{0.5}}$"
      ],
      "text/plain": [
       "-0.5*sigma/(e0*(r**2/z**2 + 1)**0.5)"
      ]
     },
     "execution_count": 13,
     "metadata": {},
     "output_type": "execute_result"
    }
   ],
   "source": [
    "d =integrate(func(r),(r))\n",
    "d"
   ]
  },
  {
   "cell_type": "code",
   "execution_count": 12,
   "metadata": {},
   "outputs": [
    {
     "data": {
      "text/latex": [
       "$\\displaystyle \\frac{0.5 \\sigma}{e_{0} \\left(\\frac{R^{2}}{z^{2}} + 1\\right)^{0.5}}$"
      ],
      "text/plain": [
       "0.5*sigma/(e0*(R**2/z**2 + 1)**0.5)"
      ]
     },
     "execution_count": 12,
     "metadata": {},
     "output_type": "execute_result"
    }
   ],
   "source": [
    "d =integrate(func(r),(r,R,oo))\n",
    "d"
   ]
  },
  {
   "cell_type": "markdown",
   "metadata": {},
   "source": [
    "若z << R , 得到 $$E(z) = \\sigma z/ 2 \\epsilon_0 R $$ "
   ]
  },
  {
   "cell_type": "markdown",
   "metadata": {},
   "source": [
    "对电荷-q应用 F= ma 得\n",
    "$$  (-q)E = m \\ddot z  $$"
   ]
  },
  {
   "cell_type": "markdown",
   "metadata": {},
   "source": [
    "得\n",
    "$$ \\ddot z  = - ( \\frac{q \\sigma}{2 \\epsilon_0 m R})  z  $$"
   ]
  },
  {
   "cell_type": "markdown",
   "metadata": {},
   "source": [
    "此运动方程表征一个简谐运动，小震荡频率为\n",
    "\n",
    "$$ \\omega = \\sqrt{   \\frac{q \\sigma}{2 \\epsilon_0 m R} }$$"
   ]
  },
  {
   "cell_type": "markdown",
   "metadata": {},
   "source": [
    "带入给定参数，频率为 2.4/s"
   ]
  },
  {
   "cell_type": "code",
   "execution_count": 17,
   "metadata": {},
   "outputs": [
    {
     "name": "stdout",
     "output_type": "stream",
     "text": [
      "2.4\n",
      "f = 0.382 Hz\n",
      "T = 2.618 s\n"
     ]
    }
   ],
   "source": [
    "omega = 2.4\n",
    "print(omega)\n",
    "print(f\"f = {  round(  omega / (2 *math.pi  )  , 4) } Hz\")\n",
    "print(f\"T = {   round ( (2 *math.pi  )/ omega   ,4)} s\")"
   ]
  },
  {
   "cell_type": "markdown",
   "metadata": {},
   "source": [
    "带电粒子必须被束缚在直线L上，因为横向上不稳定平衡。"
   ]
  },
  {
   "cell_type": "markdown",
   "metadata": {},
   "source": [
    "势能积分 $U= - \\int  Fdz$ \n",
    "\n",
    "$F = -q E$\n",
    "\n",
    "$$U(z) = \\int_0^z  \\frac{q\\sigma z}{2 \\epsilon_0 \\sqrt{R^2 + z^2}}  \\mathrm{d}z $$"
   ]
  },
  {
   "cell_type": "markdown",
   "metadata": {},
   "source": [
    "***手动积不出来，只能靠计算机***"
   ]
  },
  {
   "cell_type": "code",
   "execution_count": 31,
   "metadata": {},
   "outputs": [
    {
     "name": "stdout",
     "output_type": "stream",
     "text": [
      "Integral(q*sigma*z/(2*e0*(R**2 + z**2)**0.5), (z, 0, z))\n"
     ]
    },
    {
     "data": {
      "text/latex": [
       "$\\displaystyle \\int\\limits_{0}^{z} \\frac{q \\sigma z}{2 e_{0} \\left(R^{2} + z^{2}\\right)^{0.5}}\\, dz$"
      ],
      "text/plain": [
       "Integral(q*sigma*z/(2*e0*(R**2 + z**2)**0.5), (z, 0, z))"
      ]
     },
     "execution_count": 31,
     "metadata": {},
     "output_type": "execute_result"
    }
   ],
   "source": [
    "from sympy import symbols\n",
    "from sympy import *\n",
    "def func(z):\n",
    "    return   (q* sigma * z)/ (2 * e0 * (R**2 + z**2)**(1/2)) \n",
    "\n",
    "z = symbols(\"z\")\n",
    "x = symbols(\"x\")\n",
    "h = symbols(\"h\")\n",
    "r = symbols(\"r\")\n",
    "R = symbols(\"R\")\n",
    "Q = symbols(\"Q\")\n",
    "q = symbols(\"q\")\n",
    "sigma = symbols(\"sigma\")\n",
    "pi = symbols(\"pi\")\n",
    "e0 = symbols(\"e0\")\n",
    "\n",
    "\n",
    "c = Integral(func(z),(z,0,z))\n",
    "\n",
    "print(c)\n",
    "c"
   ]
  },
  {
   "cell_type": "code",
   "execution_count": 32,
   "metadata": {},
   "outputs": [
    {
     "data": {
      "text/latex": [
       "$\\displaystyle \\frac{0.5 R^{1.0} q \\sigma \\left(1 + \\frac{z^{2}}{R^{2}}\\right)^{0.5}}{e_{0}}$"
      ],
      "text/plain": [
       "0.5*R**1.0*q*sigma*(1 + z**2/R**2)**0.5/e0"
      ]
     },
     "execution_count": 32,
     "metadata": {},
     "output_type": "execute_result"
    }
   ],
   "source": [
    "d =integrate(func(z),(z))\n",
    "d"
   ]
  },
  {
   "cell_type": "code",
   "execution_count": 33,
   "metadata": {},
   "outputs": [
    {
     "data": {
      "text/latex": [
       "$\\displaystyle \\frac{0.5 R^{1.0} q \\sigma \\left(1 + \\frac{z^{2}}{R^{2}}\\right)^{0.5}}{e_{0}}$"
      ],
      "text/plain": [
       "0.5*R**1.0*q*sigma*(1 + z**2/R**2)**0.5/e0"
      ]
     },
     "execution_count": 33,
     "metadata": {},
     "output_type": "execute_result"
    }
   ],
   "source": [
    "simplify(d)"
   ]
  },
  {
   "cell_type": "markdown",
   "metadata": {},
   "source": [
    "为何没化简？？"
   ]
  },
  {
   "cell_type": "code",
   "execution_count": 34,
   "metadata": {},
   "outputs": [
    {
     "data": {
      "text/latex": [
       "$\\displaystyle \\frac{0.5 R^{1.0} q \\sigma \\left(1 + \\frac{z^{2}}{R^{2}}\\right)^{0.5}}{e_{0}} - \\frac{0.5 R^{1.0} q \\sigma}{e_{0}}$"
      ],
      "text/plain": [
       "0.5*R**1.0*q*sigma*(1 + z**2/R**2)**0.5/e0 - 0.5*R**1.0*q*sigma/e0"
      ]
     },
     "execution_count": 34,
     "metadata": {},
     "output_type": "execute_result"
    }
   ],
   "source": [
    "d =integrate(func(z),(z,0,z) )\n",
    "d"
   ]
  },
  {
   "cell_type": "code",
   "execution_count": 42,
   "metadata": {},
   "outputs": [
    {
     "data": {
      "text/latex": [
       "$\\displaystyle \\frac{0.5 R^{1.0} q \\sigma \\left(\\left(1 + \\frac{z^{2}}{R^{2}}\\right)^{0.5} - 1\\right)}{e_{0}}$"
      ],
      "text/plain": [
       "0.5*R**1.0*q*sigma*((1 + z**2/R**2)**0.5 - 1)/e0"
      ]
     },
     "execution_count": 42,
     "metadata": {},
     "output_type": "execute_result"
    }
   ],
   "source": [
    "factor(d)"
   ]
  },
  {
   "cell_type": "markdown",
   "metadata": {},
   "source": [
    "$$U(z) = \\frac{q \\sigma}{2 \\epsilon_0}  (\\sqrt{R^2 + z^2}-R)$$"
   ]
  },
  {
   "cell_type": "markdown",
   "metadata": {},
   "source": [
    "能量守恒，孔中心处速度为 $$mv^2/2  = U(z)$$"
   ]
  },
  {
   "cell_type": "markdown",
   "metadata": {},
   "source": [
    "因此 $$v =\\sqrt{ \\frac{q\\sigma}{m\\epsilon_0} (\\sqrt{R^2+z^2})-R  } $$"
   ]
  },
  {
   "cell_type": "markdown",
   "metadata": {},
   "source": [
    "对于较大z ，$\\sqrt{R^2+z^2}- R$ 约为z\n",
    "\n",
    "$$v=\\sqrt{q \\sigma z / (2 m \\epsilon_0)}  $$"
   ]
  },
  {
   "cell_type": "code",
   "execution_count": null,
   "metadata": {},
   "outputs": [],
   "source": []
  },
  {
   "cell_type": "markdown",
   "metadata": {},
   "source": [
    "### 圆盘电通量\n",
    "积分算\n"
   ]
  },
  {
   "cell_type": "markdown",
   "metadata": {},
   "source": [
    "### 电子果冻的稳定平衡\n",
    "\n",
    "试想一个半径为a的球体内均匀地充满着负电荷，总量等于-2e。 在这个负电子云中埋入2个质子，并假定，除了这两个质子的位置，其余地方负电荷的分布是均匀的。要让这两个质子受到的力为0，应该在什么位置上（氢分子实际模型，围绕质子外面的电子不会坍缩的原因需要用量子力学解释）"
   ]
  },
  {
   "cell_type": "markdown",
   "metadata": {},
   "source": [
    "证明平衡稳定，也就是说，在任何方向的位移，将导致反向的力。"
   ]
  },
  {
   "cell_type": "markdown",
   "metadata": {},
   "source": [
    "解：\n",
    "\n",
    "质子的平衡位置：\n",
    "1. 沿着直径方向上分布，否则由另一个质子产生的力将不能平衡掉电子果冻产生的指向中心的力\n",
    "\n",
    "2. 它们在中心的两侧（并且是等半径的）否则更靠近中心的那个质子将受到径向指向内部的力\n",
    "\n",
    "3. 它们在电子果冻内部，否则位于球心的-2e电子的有效电荷量对质子的负向力将会比更远的+e质子的电荷力要大。"
   ]
  },
  {
   "cell_type": "markdown",
   "metadata": {},
   "source": [
    "为了证明平衡稳定，必须同时考虑径向和横向的分布。"
   ]
  },
  {
   "cell_type": "markdown",
   "metadata": {},
   "source": [
    "$$F_{吸} = \\frac{e\\rho r}{ 3 \\epsilon_0}$$\n",
    "\n",
    "$$F_{斥} = \\frac{e^2}{2 \\epsilon_0 r^2}$$"
   ]
  },
  {
   "cell_type": "markdown",
   "metadata": {},
   "source": [
    "径向移动，均会回到平衡位置"
   ]
  },
  {
   "cell_type": "markdown",
   "metadata": {},
   "source": [
    "横向移动：\n",
    "\n",
    "微小移动式，两个力的大小在小距离移动时的一阶变化都不会变。（毕达哥拉斯定理（勾股定理）的小距离的平方）。因此力的大小仍然与它们在平衡位置时是相等的。\n",
    "但是电子果冻的斜率是2倍，所以产生的横向分量的吸力是质子产生的斥力分量的2被。\n",
    "\n",
    "因此合力为负，所以质子被拉回到平衡点。因此横向平衡也是稳定的。\n",
    "\n"
   ]
  },
  {
   "cell_type": "markdown",
   "metadata": {},
   "source": [
    "若把球面形状的电子果冻替换成位于中心的负点电荷（q = -e/4）, 可证明，平衡在横向位移上仍然稳定，但在径向上不再稳定。\n",
    "\n",
    "**在真空空间，不存在稳定的静电平衡。**"
   ]
  },
  {
   "cell_type": "markdown",
   "metadata": {},
   "source": []
  },
  {
   "cell_type": "markdown",
   "metadata": {},
   "source": [
    "### 腔内均匀场\n",
    "\n",
    "电荷密度为 $\\rho$ 的球体中半径为r的地方，电场的大小只与半径r内部的电荷量有关。\n",
    "\n",
    "$$ E=\\frac{(4\\pi r^3/3)\\rho}{4\\pi\\epsilon_0 r^2} = \\frac{\\rho r }{3\\epsilon_0}$$"
   ]
  },
  {
   "cell_type": "markdown",
   "metadata": {},
   "source": [
    "矢量式：\n",
    "$$ \\mathbf{E} = \\frac{\\rho \\mathbf{r}}{3\\epsilon_0} $$"
   ]
  },
  {
   "cell_type": "markdown",
   "metadata": {},
   "source": [
    "空腔可看成由一个半径R2，体电荷密度 $\\rho$ 的球位于一个半径R1，体电荷密度 $\\rho$ 的大球内部结合成的。单独看小球，推论成立，大小为 $\\mathbf{E} = - \\rho \\mathbf{r} / 2\\epsilon_0$"
   ]
  },
  {
   "cell_type": "markdown",
   "metadata": {},
   "source": [
    "现在，考虑空腔内的任意一点，利用叠加原理，点上的电场是\n",
    "\n",
    "$$ \\mathbf{E} =  \\frac{\\rho \\mathbf{r_1}}{3\\epsilon_0}  - \\frac{\\rho \\mathbf{r_2}}{3\\epsilon_0} = \\frac{\\rho (\\mathbf{r_1 - r_2})}{3\\epsilon_0}   $$"
   ]
  },
  {
   "cell_type": "markdown",
   "metadata": {},
   "source": [
    "r1-r2 为大球球心指向空腔球心的矢量，这个结果和空腔内的位置无关。因此空腔内为均匀场。"
   ]
  },
  {
   "cell_type": "markdown",
   "metadata": {},
   "source": [
    "以上推论适用于低维拓扑计算中。\n",
    "\n",
    "例如，在无限长的带电圆柱体上挖出一个无限长的圆柱体空腔（轴线平行）。对长度为l的圆柱体使用高斯定理，在均匀带电的圆柱体内部半径为r的地方，电场大小\n",
    "\n",
    "$$ \\mathbf{E} = \\frac{\\pi r^2 l \\rho }{ 2\\pi r l \\epsilon_0} =  \\frac{\\rho r }{2 \\epsilon_0}$$"
   ]
  },
  {
   "cell_type": "markdown",
   "metadata": {},
   "source": [
    "因此，空腔电场E为\n",
    "$$  \\mathbf{E} =  \\frac{\\rho (\\mathbf{r_1 - r_2})}{2\\epsilon_0}    $$"
   ]
  },
  {
   "cell_type": "markdown",
   "metadata": {},
   "source": [
    "空腔内的电场是均匀的。"
   ]
  },
  {
   "cell_type": "markdown",
   "metadata": {},
   "source": [
    "再降低维度，可移动一个大平板上挖出一个小平板\n",
    "\n",
    "**这段没看懂**\n",
    "\n",
    "平板空腔内的电场均匀。"
   ]
  },
  {
   "cell_type": "markdown",
   "metadata": {},
   "source": [
    "### 将两个带点平板拉开\n",
    "\n",
    "两个面积为A的平板距离l， 平板电荷密度为 $\\sigma, -\\sigma$ , 将其中一块平板拉开x距离，需要做多少功。\n",
    "\n",
    "以下两种方法\n",
    "(a) 利用公式w = 力x 位移\n",
    "(b) 计算存储在电场中的能量的增量。\n"
   ]
  },
  {
   "cell_type": "markdown",
   "metadata": {},
   "source": [
    "解：\n",
    "\n",
    "(a)方法\n",
    "单位平面受力为\n",
    "$$F/A = \\sigma \\times \\sigma/2\\epsilon_0$$\n",
    "\n",
    "$$ F = \\sigma^2 A  /e\\epsilon_0$$\n",
    "\n",
    "做功为\n",
    "\n",
    "$$W  = \\sigma^2 A x /e\\epsilon_0$$"
   ]
  },
  {
   "cell_type": "markdown",
   "metadata": {},
   "source": [
    "解法B\n",
    "\n",
    "两平面之间的电场值为 $\\sigma/\\epsilon_0$ . (假设平面无限大) ，与距离无关。外面的电场为0 。\n",
    "\n",
    "在移动其中一个平面x距离的过程中，使得Ax的体积内的电场从0变成了 $\\sigma/\\epsilon_0$. 因此能量密度是 $\\epsilon_0 E^2 / 2$\n",
    "\n",
    "电场内能量增加\n",
    "\n",
    "$\\Delta U = \\frac{\\epsilon_0 E^2}{2} (Ax)$\n",
    "\n",
    "能量增量等于做功。\n"
   ]
  },
  {
   "cell_type": "markdown",
   "metadata": {},
   "source": [
    "$\\psi$"
   ]
  },
  {
   "cell_type": "markdown",
   "metadata": {},
   "source": [
    "### 能量密度推导\n",
    "\n",
    "$E_1 =  \\frac{e}{4 \\pi \\epsilon_0 r^2 }$\n",
    "\n",
    "$E_2 =  \\frac{e}{4 \\pi \\epsilon_0 R^2 }$\n"
   ]
  },
  {
   "cell_type": "markdown",
   "metadata": {},
   "source": [
    "$R = (r^2 + b ^2 - 2rb\\cos\\theta)^{1/2}  $"
   ]
  },
  {
   "cell_type": "markdown",
   "metadata": {},
   "source": [
    "$  \\mathbf{E}_1 \\cdot  \\mathbf{E}_2 = E_1 E_2\\cos\\psi$"
   ]
  },
  {
   "cell_type": "markdown",
   "metadata": {},
   "source": [
    "$\\cos\\psi = (r-b\\cos\\theta)/R$"
   ]
  },
  {
   "cell_type": "markdown",
   "metadata": {},
   "source": [
    "需要计算积分为\n",
    "$$\\epsilon_0 \\int \\mathbf{E}_1 \\cdot  \\mathbf{E}_2 \\mathrm{d}v$$"
   ]
  },
  {
   "cell_type": "markdown",
   "metadata": {},
   "source": [
    "$$ = \\epsilon_0 \\int E_1 E_2\\cos\\psi \\mathrm{d}v$$"
   ]
  },
  {
   "cell_type": "markdown",
   "metadata": {},
   "source": [
    "$$ = \\epsilon_0 \\int E_1 E_2\\cos\\psi \\mathrm{d}v$$"
   ]
  },
  {
   "cell_type": "markdown",
   "metadata": {},
   "source": [
    "球极坐标 \n",
    "$$ dv = r^2 \\sin \\theta dr d\\theta d\\phi $$"
   ]
  },
  {
   "cell_type": "markdown",
   "metadata": {},
   "source": [
    "theta(0-pi )后转一圈\n",
    "\n",
    "$$=\\epsilon_0 \\int_{0}^{2\\pi}  \\int_{0}^{\\pi}   \\int_{0}^{\\infty}  \\frac{e}{4 \\pi \\epsilon_0 r^2 }  \\frac{e}{4 \\pi \\epsilon_0 R^2 } \\frac{r-b\\cos\\theta}{R} r^2  \\sin\\theta \\mathrm{d}r \\mathrm{d}\\theta \\mathrm{d}\\phi $$"
   ]
  },
  {
   "cell_type": "markdown",
   "metadata": {},
   "source": [
    "$$= \\frac{(2\\pi)e^2}{16 \\pi^2 \\epsilon_0}   \\int_{0}^{\\pi}   \\int_{0}^{\\infty} \\frac{r-b\\cos\\theta}{(r^2 + b^2 - 2rb\\cos\\theta)^{3/2}   }\\mathrm{d}r   \\sin\\theta \\mathrm{d}\\theta $$"
   ]
  },
  {
   "cell_type": "markdown",
   "metadata": {},
   "source": [
    "**反过来求导都费劲，上计算机**"
   ]
  },
  {
   "cell_type": "code",
   "execution_count": 2,
   "metadata": {},
   "outputs": [
    {
     "name": "stdout",
     "output_type": "stream",
     "text": [
      "Integral((-b*cos(theta) + r)/(b**2 - 2*b*r*cos(theta) + r**2)**1.5, (r, 0, oo))\n"
     ]
    },
    {
     "data": {
      "text/latex": [
       "$\\displaystyle \\int\\limits_{0}^{\\infty} \\frac{- b \\cos{\\left(\\theta \\right)} + r}{\\left(b^{2} - 2 b r \\cos{\\left(\\theta \\right)} + r^{2}\\right)^{1.5}}\\, dr$"
      ],
      "text/plain": [
       "Integral((-b*cos(theta) + r)/(b**2 - 2*b*r*cos(theta) + r**2)**1.5, (r, 0, oo))"
      ]
     },
     "execution_count": 2,
     "metadata": {},
     "output_type": "execute_result"
    }
   ],
   "source": [
    "from sympy import symbols\n",
    "from sympy import *\n",
    "def func(z):\n",
    "    return   (r - b * cos(theta))/ (r**2 + b**2 - 2*r*b*cos(theta))**(3/2)\n",
    "\n",
    "\n",
    "r = symbols(\"r\")\n",
    "b = symbols(\"b\")\n",
    "Q = symbols(\"Q\")\n",
    "q = symbols(\"q\")\n",
    "sigma = symbols(\"sigma\")\n",
    "theta = symbols(\"theta\")\n",
    "pi = symbols(\"pi\")\n",
    "e0 = symbols(\"e0\")\n",
    "\n",
    "\n",
    "c = Integral(func(r),(r,0,oo))\n",
    "\n",
    "print(c)\n",
    "c"
   ]
  },
  {
   "cell_type": "code",
   "execution_count": 4,
   "metadata": {},
   "outputs": [
    {
     "data": {
      "text/latex": [
       "$\\displaystyle \\frac{1.0}{\\left(b^{2}\\right)^{0.5}}$"
      ],
      "text/plain": [
       "1.0/(b**2)**0.5"
      ]
     },
     "execution_count": 4,
     "metadata": {},
     "output_type": "execute_result"
    }
   ],
   "source": [
    "d =integrate(func(r),(r,0,oo) )\n",
    "d"
   ]
  },
  {
   "cell_type": "code",
   "execution_count": 5,
   "metadata": {},
   "outputs": [
    {
     "data": {
      "text/latex": [
       "$\\displaystyle - \\frac{1.0}{\\left(b^{2} - 2 b r \\cos{\\left(\\theta \\right)} + r^{2}\\right)^{0.5}}$"
      ],
      "text/plain": [
       "-1.0/(b**2 - 2*b*r*cos(theta) + r**2)**0.5"
      ]
     },
     "execution_count": 5,
     "metadata": {},
     "output_type": "execute_result"
    }
   ],
   "source": [
    "d =integrate(func(r),(r) )\n",
    "d"
   ]
  },
  {
   "cell_type": "code",
   "execution_count": 7,
   "metadata": {},
   "outputs": [
    {
     "name": "stdout",
     "output_type": "stream",
     "text": [
      "- \\frac{1.0}{\\left(b^{2} - 2 b r \\cos{\\left(\\theta \\right)} + r^{2}\\right)^{0.5}}\n"
     ]
    }
   ],
   "source": [
    "print(latex(d))"
   ]
  },
  {
   "cell_type": "markdown",
   "metadata": {},
   "source": [
    "解得：\n",
    "\n",
    "$$[- \\frac{1.0}{\\left(b^{2} - 2 b r \\cos{\\left(\\theta \\right)} + r^{2}\\right)^{0.5}}  \\Big|_{r=0}^{\\infty}  ]$$"
   ]
  },
  {
   "cell_type": "markdown",
   "metadata": {},
   "source": [
    "$$\\frac{e^2}{8 \\pi \\epsilon_0}   \\int_{0}^{\\pi} [- \\frac{1.0}{\\left(b^{2} - 2 b r \\cos{\\left(\\theta \\right)} + r^{2}\\right)^{0.5}}  \\Big|_{r=0}^{\\infty}  ]  \\sin\\theta \\mathrm{d}\\theta$$"
   ]
  },
  {
   "cell_type": "markdown",
   "metadata": {},
   "source": [
    "$$\\frac{e^2}{8 \\pi \\epsilon_0}   \\int_{0}^{\\pi} [ \\frac{1}{b}   ]  \\sin\\theta \\mathrm{d}\\theta$$"
   ]
  },
  {
   "cell_type": "markdown",
   "metadata": {},
   "source": [
    "$$  \\frac{e^2}{4 \\pi \\epsilon_0 b\n",
    "} $$"
   ]
  },
  {
   "cell_type": "markdown",
   "metadata": {},
   "source": [
    "好像很幸运，上面对r得积分式是一个完美得微分式。\n",
    "\n"
   ]
  },
  {
   "cell_type": "markdown",
   "metadata": {},
   "source": [
    "如果把关于小r的积分\n",
    "\n",
    "$$ \\int_{0}^{\\infty} \\frac{r-b\\cos\\theta}{(r^2 + b^2 - 2rb\\cos\\theta)^{3/2}   }\\mathrm{d}r $$"
   ]
  },
  {
   "cell_type": "markdown",
   "metadata": {},
   "source": [
    "改写成关于R的形式\n",
    "$$ \\int_{0}^{\\infty} \\frac{\\cos\\psi \\cdot R}{R^3   }\\mathrm{d}r $$"
   ]
  },
  {
   "cell_type": "markdown",
   "metadata": {},
   "source": [
    "图形上， 关于r的积分有以下关系\n",
    "$\\mathrm{d}R = \\mathrm{d}r \\cos\\psi$"
   ]
  },
  {
   "cell_type": "markdown",
   "metadata": {},
   "source": [
    "得 \n",
    "$$\\int_{0}^{\\infty} \\frac{\\cos\\psi}{R^2   }\\mathrm{d}r  $$"
   ]
  },
  {
   "cell_type": "markdown",
   "metadata": {},
   "source": [
    "$$\\int_{b}^{\\infty} \\frac{1}{R^2   }\\mathrm{d}R  $$"
   ]
  },
  {
   "cell_type": "markdown",
   "metadata": {},
   "source": [
    "得-1/R = 1/b, 与小r计算结果相同。"
   ]
  },
  {
   "cell_type": "markdown",
   "metadata": {},
   "source": [
    "结论：\n",
    "能量密度得推导\n",
    "\n",
    "积分中包含的能量为\n",
    "$$\\mathbf{E}^2 = (\\mathbf{E}_1 + \\mathbf{E}_2 +\\cdots + \\mathbf{E}_n)^2$$\n",
    "\n",
    "忽略 $\\mathbf{E}^2_i$ 项，因为这些项给出得是粒子自身得能量。\n",
    "\n",
    "每个交叉项 $\\mathbf{E}_i \\cdot \\mathbf{E}_j$ 都可以严格地按照上面的方式推导，因此都是 $e^2/4\\pi\\epsilon_0 r$, r为粒子i和粒子j之间得距离。"
   ]
  },
  {
   "cell_type": "markdown",
   "metadata": {},
   "source": []
  }
 ],
 "metadata": {
  "kernelspec": {
   "display_name": "base",
   "language": "python",
   "name": "python3"
  },
  "language_info": {
   "codemirror_mode": {
    "name": "ipython",
    "version": 3
   },
   "file_extension": ".py",
   "mimetype": "text/x-python",
   "name": "python",
   "nbconvert_exporter": "python",
   "pygments_lexer": "ipython3",
   "version": "3.11.5"
  }
 },
 "nbformat": 4,
 "nbformat_minor": 2
}
