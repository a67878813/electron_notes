{
 "cells": [
  {
   "cell_type": "code",
   "execution_count": 1,
   "metadata": {},
   "outputs": [
    {
     "name": "stdout",
     "output_type": "stream",
     "text": [
      "Vo_k表达式:\n",
      "[RC*(RC*Vi_k - 2*RC*Vi_k_minus_1 + RC*Vi_k_minus_2 + 2*RC*Vo_k_minus_1 - RC*Vo_k_minus_2 + 2*Ts*Vo_k_minus_1)/(RC**2 + 2*RC*Ts + Ts**2)]\n"
     ]
    }
   ],
   "source": [
    "from sympy import symbols, Eq, solve\n",
    "\n",
    "\n",
    "# 定义符号变量\n",
    "Vo_k, Vo_k_minus_1, Vo_k_minus_2 = symbols('Vo_k Vo_k_minus_1 Vo_k_minus_2')\n",
    "Vx_k, Vx_k_minus_1, Vx_k_minus_2 = symbols('Vx_k Vx_k_minus_1 Vx_k_minus_2')\n",
    "Vi_k, Vi_k_minus_1, Vi_k_minus_2 = symbols('Vi_k Vi_k_minus_1 Vi_k_minus_2')\n",
    "RC, Ts = symbols('RC Ts')\n",
    "\n",
    "# 定义方程组\n",
    "equations = [\n",
    "    Eq(RC * ( (Vx_k - Vo_k) - (Vx_k_minus_1 - Vo_k_minus_1) ) / Ts, Vo_k),\n",
    "    Eq(RC * ( (Vx_k_minus_1 - Vo_k_minus_1) - (Vx_k_minus_2 - Vo_k_minus_2) ) / Ts, Vo_k_minus_1),\n",
    "    Eq(RC * ( (Vi_k - Vx_k) - (Vi_k_minus_1 - Vx_k_minus_1) ) / Ts, Vx_k),\n",
    "    Eq(RC * ( (Vi_k_minus_1 - Vx_k_minus_1) - (Vi_k_minus_2 - Vx_k_minus_2) ) / Ts, Vx_k_minus_1)\n",
    "]\n",
    "\n",
    "# 解方程组，得到Vx_k_minus_1、Vx_k_minus_2和Vx_k（前三个公式）\n",
    "solutions_ab = solve(equations[:3], (Vx_k_minus_1, Vx_k_minus_2,Vx_k))\n",
    "\n",
    "# 将Vx_k_minus_1和Vx_k_minus_2 的解代入第四个方程\n",
    "equation_c = equations[3].subs(solutions_ab)\n",
    "\n",
    "# 解方程，得到 Vo_k 关于 Vo_k_minus_1、Vo_k_minus_2、Vi_k、Vii_k_minus_1、Vi_k_minus_2的表达式\n",
    "solution_c = solve(equation_c, Vo_k)\n",
    "\n",
    "# 打印结果\n",
    "print(\"Vo_k表达式:\")\n",
    "print(solution_c)\n"
   ]
  },
  {
   "cell_type": "code",
   "execution_count": 8,
   "metadata": {},
   "outputs": [
    {
     "data": {
      "text/latex": [
       "$\\displaystyle \\frac{RC \\left(- Vo_{k} + Vo_{k minus 1} + Vx_{k} - Vx_{k minus 1}\\right)}{Ts} = Vo_{k}$"
      ],
      "text/plain": [
       "Eq(RC*(-Vo_k + Vo_k_minus_1 + Vx_k - Vx_k_minus_1)/Ts, Vo_k)"
      ]
     },
     "execution_count": 8,
     "metadata": {},
     "output_type": "execute_result"
    }
   ],
   "source": [
    "equations[0]"
   ]
  },
  {
   "cell_type": "markdown",
   "metadata": {},
   "source": [
    "solutions_ab"
   ]
  },
  {
   "cell_type": "code",
   "execution_count": 13,
   "metadata": {},
   "outputs": [
    {
     "data": {
      "text/plain": [
       "{Vx_k_minus_1: (RC**2*Vi_k - RC**2*Vi_k_minus_1 - RC**2*Vo_k + RC**2*Vo_k_minus_1 - 2*RC*Ts*Vo_k + RC*Ts*Vo_k_minus_1 - Ts**2*Vo_k)/(RC*Ts),\n",
       " Vx_k_minus_2: (RC**2*Vi_k - RC**2*Vi_k_minus_1 - RC**2*Vo_k + RC**2*Vo_k_minus_1 - 2*RC*Ts*Vo_k + RC*Ts*Vo_k_minus_2 - Ts**2*Vo_k - Ts**2*Vo_k_minus_1)/(RC*Ts),\n",
       " Vx_k: (RC*Vi_k - RC*Vi_k_minus_1 - RC*Vo_k + RC*Vo_k_minus_1 - Ts*Vo_k)/Ts}"
      ]
     },
     "execution_count": 13,
     "metadata": {},
     "output_type": "execute_result"
    }
   ],
   "source": [
    "solutions_ab"
   ]
  },
  {
   "cell_type": "code",
   "execution_count": 58,
   "metadata": {},
   "outputs": [],
   "source": [
    "RC, Ts = symbols('RC Ts')"
   ]
  },
  {
   "cell_type": "code",
   "execution_count": 59,
   "metadata": {},
   "outputs": [],
   "source": [
    "from sympy  import expand, collect,cancel,factor,sympify,lambdify,rcollect\n",
    "equation_c = equations[3].subs(solutions_ab)\n",
    "solution_d = solve(equation_c, Vo_k)\n",
    "\n",
    "f = lambdify(Vo_k_minus_1 ,solution_c)"
   ]
  },
  {
   "cell_type": "code",
   "execution_count": 60,
   "metadata": {},
   "outputs": [
    {
     "ename": "NameError",
     "evalue": "name 'RC' is not defined",
     "output_type": "error",
     "traceback": [
      "\u001b[1;31m---------------------------------------------------------------------------\u001b[0m",
      "\u001b[1;31mNameError\u001b[0m                                 Traceback (most recent call last)",
      "Cell \u001b[1;32mIn[60], line 1\u001b[0m\n\u001b[1;32m----> 1\u001b[0m f(\u001b[38;5;241m1\u001b[39m)\n",
      "File \u001b[1;32m<lambdifygenerated-5>:2\u001b[0m, in \u001b[0;36m_lambdifygenerated\u001b[1;34m(Vo_k_minus_1)\u001b[0m\n\u001b[0;32m      1\u001b[0m \u001b[38;5;28;01mdef\u001b[39;00m \u001b[38;5;21m_lambdifygenerated\u001b[39m(Vo_k_minus_1):\n\u001b[1;32m----> 2\u001b[0m     \u001b[38;5;28;01mreturn\u001b[39;00m [RC\u001b[38;5;241m*\u001b[39m(RC\u001b[38;5;241m*\u001b[39mVi_k \u001b[38;5;241m-\u001b[39m \u001b[38;5;241m2\u001b[39m\u001b[38;5;241m*\u001b[39mRC\u001b[38;5;241m*\u001b[39mVi_k_minus_1 \u001b[38;5;241m+\u001b[39m RC\u001b[38;5;241m*\u001b[39mVi_k_minus_2 \u001b[38;5;241m+\u001b[39m \u001b[38;5;241m2\u001b[39m\u001b[38;5;241m*\u001b[39mRC\u001b[38;5;241m*\u001b[39mVo_k_minus_1 \u001b[38;5;241m-\u001b[39m RC\u001b[38;5;241m*\u001b[39mVo_k_minus_2 \u001b[38;5;241m+\u001b[39m \u001b[38;5;241m2\u001b[39m\u001b[38;5;241m*\u001b[39mTs\u001b[38;5;241m*\u001b[39mVo_k_minus_1)\u001b[38;5;241m/\u001b[39m(RC\u001b[38;5;241m*\u001b[39m\u001b[38;5;241m*\u001b[39m\u001b[38;5;241m2\u001b[39m \u001b[38;5;241m+\u001b[39m \u001b[38;5;241m2\u001b[39m\u001b[38;5;241m*\u001b[39mRC\u001b[38;5;241m*\u001b[39mTs \u001b[38;5;241m+\u001b[39m Ts\u001b[38;5;241m*\u001b[39m\u001b[38;5;241m*\u001b[39m\u001b[38;5;241m2\u001b[39m)]\n",
      "\u001b[1;31mNameError\u001b[0m: name 'RC' is not defined"
     ]
    }
   ],
   "source": [
    "f(1)"
   ]
  },
  {
   "cell_type": "code",
   "execution_count": 61,
   "metadata": {},
   "outputs": [],
   "source": [
    "equation_c = equations[3].subs(solutions_ab)\n",
    "solution_d = solve(equation_c, Vo_k)"
   ]
  },
  {
   "cell_type": "code",
   "execution_count": 62,
   "metadata": {},
   "outputs": [
    {
     "data": {
      "text/latex": [
       "$\\displaystyle \\frac{RC \\left(RC Vi_{k} - 2 RC Vi_{k minus 1} + RC Vi_{k minus 2} + 2 RC Vo_{k minus 1} - RC Vo_{k minus 2} + 2 Ts Vo_{k minus 1}\\right)}{RC^{2} + 2 RC Ts + Ts^{2}}$"
      ],
      "text/plain": [
       "RC*(RC*Vi_k - 2*RC*Vi_k_minus_1 + RC*Vi_k_minus_2 + 2*RC*Vo_k_minus_1 - RC*Vo_k_minus_2 + 2*Ts*Vo_k_minus_1)/(RC**2 + 2*RC*Ts + Ts**2)"
      ]
     },
     "metadata": {},
     "output_type": "display_data"
    }
   ],
   "source": [
    "display(solution_d[0])"
   ]
  },
  {
   "cell_type": "code",
   "execution_count": 57,
   "metadata": {},
   "outputs": [
    {
     "name": "stdout",
     "output_type": "stream",
     "text": [
      "[RC*(RC*Vi_k - 2*RC*Vi_k_minus_1 + RC*Vi_k_minus_2 + 2*RC*Vo_k_minus_1 - RC*Vo_k_minus_2 + 2*Ts*Vo_k_minus_1)/(RC**2 + 2*RC*Ts + Ts**2)]\n"
     ]
    }
   ],
   "source": [
    "print(solution_d)"
   ]
  },
  {
   "cell_type": "code",
   "execution_count": 54,
   "metadata": {},
   "outputs": [],
   "source": [
    "\n",
    "d = collect(expand(solution_d[0]), [Vi_k ,Vi_k_minus_1 ,Vi_k_minus_2 ,Vo_k_minus_1,Vo_k_minus_2 ]  )\n"
   ]
  },
  {
   "cell_type": "code",
   "execution_count": 55,
   "metadata": {},
   "outputs": [
    {
     "data": {
      "text/latex": [
       "$\\displaystyle \\frac{RC^{2} Vi_{k}}{RC^{2} + 2 RC Ts + Ts^{2}} - \\frac{2 RC^{2} Vi_{k minus 1}}{RC^{2} + 2 RC Ts + Ts^{2}} + \\frac{RC^{2} Vi_{k minus 2}}{RC^{2} + 2 RC Ts + Ts^{2}} - \\frac{RC^{2} Vo_{k minus 2}}{RC^{2} + 2 RC Ts + Ts^{2}} + Vo_{k minus 1} \\cdot \\left(\\frac{2 RC^{2}}{RC^{2} + 2 RC Ts + Ts^{2}} + \\frac{2 RC Ts}{RC^{2} + 2 RC Ts + Ts^{2}}\\right)$"
      ],
      "text/plain": [
       "RC**2*Vi_k/(RC**2 + 2*RC*Ts + Ts**2) - 2*RC**2*Vi_k_minus_1/(RC**2 + 2*RC*Ts + Ts**2) + RC**2*Vi_k_minus_2/(RC**2 + 2*RC*Ts + Ts**2) - RC**2*Vo_k_minus_2/(RC**2 + 2*RC*Ts + Ts**2) + Vo_k_minus_1*(2*RC**2/(RC**2 + 2*RC*Ts + Ts**2) + 2*RC*Ts/(RC**2 + 2*RC*Ts + Ts**2))"
      ]
     },
     "execution_count": 55,
     "metadata": {},
     "output_type": "execute_result"
    }
   ],
   "source": [
    "d"
   ]
  },
  {
   "cell_type": "code",
   "execution_count": 35,
   "metadata": {},
   "outputs": [
    {
     "name": "stdout",
     "output_type": "stream",
     "text": [
      "<function _lambdifygenerated at 0x000002532625C900>\n"
     ]
    }
   ],
   "source": []
  },
  {
   "cell_type": "code",
   "execution_count": 21,
   "metadata": {},
   "outputs": [
    {
     "name": "stdout",
     "output_type": "stream",
     "text": [
      "\\left[ \\frac{RC \\left(RC Vi_{k} - 2 RC Vi_{k - 1} + RC Vi_{k - 2} + 2 RC Vo_{k - 1} - RC Vo_{k - 2} + 2 Ts Vo_{k - 1}\\right)}{RC^{2} + 2 RC Ts + Ts^{2}}\\right]\n"
     ]
    }
   ],
   "source": [
    "from sympy import latex\n",
    "print(latex(solution_c).replace('minus', '-'))#.replace(\"\\\\\\\\\",\"\\\\\"))"
   ]
  },
  {
   "cell_type": "markdown",
   "metadata": {},
   "source": [
    "$$\n",
    "\\left[ \\frac{RC \\left(RC Vi_{k} - 2 RC Vi_{k - 1} + RC Vi_{k - 2} + 2 RC Vo_{k - 1} - RC Vo_{k - 2} + 2 Ts Vo_{k - 1}\\right)}{RC^{2} + 2 RC Ts + Ts^{2}}\\right]\n",
    "\n",
    "$$"
   ]
  },
  {
   "cell_type": "markdown",
   "metadata": {},
   "source": [
    "from sympy import codegen\n",
    "\n"
   ]
  },
  {
   "cell_type": "code",
   "execution_count": 69,
   "metadata": {},
   "outputs": [],
   "source": [
    "from sympy import *\n",
    "init_printing(use_unicode =True)\n",
    "\n",
    "from sympy.abc import a,e,k,n,r,t,x,y,z,T,Z\n",
    "from sympy.abc import beta, omega, tau\n",
    "\n",
    "f, g = symbols('f, g', cls=Function)\n",
    "\n",
    "from sympy import codegen\n",
    "\n",
    "\n"
   ]
  },
  {
   "cell_type": "code",
   "execution_count": 70,
   "metadata": {},
   "outputs": [],
   "source": [
    "from sympy.codegen.ast import Assignment\n",
    "\n",
    "expr = (Rational(-1, 2) * Z * k * (e**2) / r)\n"
   ]
  },
  {
   "cell_type": "code",
   "execution_count": 72,
   "metadata": {},
   "outputs": [],
   "source": [
    "from sympy.codegen.cfunctions import expm1"
   ]
  },
  {
   "cell_type": "code",
   "execution_count": 73,
   "metadata": {},
   "outputs": [
    {
     "data": {
      "text/plain": [
       "'-1.0/2.0*Z*pow(e, 2)*k/r'"
      ]
     },
     "execution_count": 73,
     "metadata": {},
     "output_type": "execute_result"
    }
   ],
   "source": [
    "ccode(expr)"
   ]
  },
  {
   "cell_type": "code",
   "execution_count": 74,
   "metadata": {},
   "outputs": [],
   "source": [
    "from sympy.codegen.ast import real, float80"
   ]
  },
  {
   "cell_type": "code",
   "execution_count": 75,
   "metadata": {},
   "outputs": [
    {
     "data": {
      "text/plain": [
       "'E = -1.0L/2.0L*Z*powl(e, 2)*k/r;'"
      ]
     },
     "execution_count": 75,
     "metadata": {},
     "output_type": "execute_result"
    }
   ],
   "source": [
    "ccode(expr, assign_to=\"E\", type_aliases={real: float80})"
   ]
  },
  {
   "cell_type": "code",
   "execution_count": 76,
   "metadata": {},
   "outputs": [
    {
     "data": {
      "text/plain": [
       "'expm1(x)'"
      ]
     },
     "execution_count": 76,
     "metadata": {},
     "output_type": "execute_result"
    }
   ],
   "source": [
    "ccode(expm1(x), standard='C99')"
   ]
  },
  {
   "cell_type": "code",
   "execution_count": 71,
   "metadata": {},
   "outputs": [
    {
     "data": {
      "image/png": "[encoded data removed]",
      "text/latex": [
       "$\\displaystyle - \\frac{Z e^{2} k}{2 r}$"
      ],
      "text/plain": [
       "    2   \n",
       "-Z⋅e ⋅k \n",
       "────────\n",
       "  2⋅r   "
      ]
     },
     "execution_count": 71,
     "metadata": {},
     "output_type": "execute_result"
    }
   ],
   "source": [
    "expr"
   ]
  },
  {
   "cell_type": "markdown",
   "metadata": {},
   "source": [
    "Piecewise 表达式被转换成条件句"
   ]
  },
  {
   "cell_type": "code",
   "execution_count": 77,
   "metadata": {},
   "outputs": [],
   "source": [
    "expr = Piecewise((x + 1, x > 0), (x, True))\n"
   ]
  },
  {
   "cell_type": "code",
   "execution_count": 78,
   "metadata": {},
   "outputs": [
    {
     "name": "stdout",
     "output_type": "stream",
     "text": [
      "      if (x > 0) then\n",
      "         tau = x + 1\n",
      "      else\n",
      "         tau = x\n",
      "      end if\n"
     ]
    }
   ],
   "source": [
    "print(fcode(expr, tau))"
   ]
  },
  {
   "cell_type": "code",
   "execution_count": 79,
   "metadata": {},
   "outputs": [
    {
     "data": {
      "image/png": "[encoded data removed]",
      "text/latex": [
       "$\\displaystyle \\frac{I S \\gamma_{1} \\gamma_{2} k \\left(3 \\cos^{2}{\\left(\\beta \\right)} - 1\\right)}{r^{3}}$"
      ],
      "text/plain": [
       "            ⎛     2       ⎞\n",
       "I⋅S⋅γ₁⋅γ₂⋅k⋅⎝3⋅cos (β) - 1⎠\n",
       "───────────────────────────\n",
       "              3            \n",
       "             r             "
      ]
     },
     "execution_count": 79,
     "metadata": {},
     "output_type": "execute_result"
    }
   ],
   "source": [
    "k, g1, g2, r, I, S = symbols(\"k, gamma_1, gamma_2, r, I, S\")\n",
    "\n",
    "expr = k * g1 * g2 / (r**3)\n",
    "expr = expr * 2 * I * S * (3 * (cos(beta))**2 - 1) / 2\n",
    "expr"
   ]
  },
  {
   "cell_type": "code",
   "execution_count": 80,
   "metadata": {},
   "outputs": [
    {
     "name": "stdout",
     "output_type": "stream",
     "text": [
      "H_is = I*S*gamma_1*gamma_2*k*(3*Math.pow(Math.cos(beta), 2) - 1)/Math.pow(r, 3);\n"
     ]
    }
   ],
   "source": [
    "print(jscode(expr, assign_to=\"H_is\"))"
   ]
  },
  {
   "cell_type": "code",
   "execution_count": 81,
   "metadata": {},
   "outputs": [
    {
     "name": "stdout",
     "output_type": "stream",
     "text": [
      "H_is = I*S*gamma_1*gamma_2*k*(3*pow(cos(beta), 2) - 1)/pow(r, 3);\n"
     ]
    }
   ],
   "source": [
    "print(ccode(expr, assign_to=\"H_is\", standard='C89'))"
   ]
  },
  {
   "cell_type": "code",
   "execution_count": 82,
   "metadata": {},
   "outputs": [
    {
     "name": "stdout",
     "output_type": "stream",
     "text": [
      "      H_is = I*S*gamma_1*gamma_2*k*(3*cos(beta)**2 - 1)/r**3\n"
     ]
    }
   ],
   "source": [
    "print(fcode(expr, assign_to=\"H_is\"))"
   ]
  },
  {
   "cell_type": "code",
   "execution_count": 83,
   "metadata": {},
   "outputs": [
    {
     "name": "stdout",
     "output_type": "stream",
     "text": [
      "H_is = I .* S .* gamma_1 .* gamma_2 .* k .* (3 * cos(beta) .^ 2 - 1) ./ r .^ 3\n"
     ]
    }
   ],
   "source": [
    "print(julia_code(expr, assign_to=\"H_is\"))"
   ]
  },
  {
   "cell_type": "code",
   "execution_count": 84,
   "metadata": {},
   "outputs": [
    {
     "name": "stdout",
     "output_type": "stream",
     "text": [
      "H_is = I.*S.*gamma_1.*gamma_2.*k.*(3*cos(beta).^2 - 1)./r.^3;\n"
     ]
    }
   ],
   "source": [
    "print(octave_code(expr, assign_to=\"H_is\"))"
   ]
  },
  {
   "cell_type": "code",
   "execution_count": 85,
   "metadata": {},
   "outputs": [
    {
     "name": "stdout",
     "output_type": "stream",
     "text": [
      "H_is = I*S*gamma_1*gamma_2*k*(3*beta.cos().powi(2) - 1)/r.powi(3);\n"
     ]
    }
   ],
   "source": [
    "print(rust_code(expr, assign_to=\"H_is\"))"
   ]
  },
  {
   "cell_type": "code",
   "execution_count": 86,
   "metadata": {},
   "outputs": [
    {
     "name": "stdout",
     "output_type": "stream",
     "text": [
      "I*S*gamma_1*gamma_2*k*(3*Cos[beta]^2 - 1)/r^3\n"
     ]
    }
   ],
   "source": [
    "print(mathematica_code(expr))"
   ]
  },
  {
   "cell_type": "code",
   "execution_count": 88,
   "metadata": {},
   "outputs": [],
   "source": [
    "\n"
   ]
  },
  {
   "cell_type": "code",
   "execution_count": 91,
   "metadata": {},
   "outputs": [],
   "source": [
    "from sympy.utilities.codegen import codegen"
   ]
  },
  {
   "cell_type": "code",
   "execution_count": 92,
   "metadata": {},
   "outputs": [
    {
     "name": "stdout",
     "output_type": "stream",
     "text": [
      "test.c\n"
     ]
    }
   ],
   "source": [
    "length, breadth, height = symbols('length, breadth, height')\n",
    "[(c_name, c_code), (h_name, c_header)] = codegen(('volume', length*breadth*height), \"C99\", \"test\",\n",
    "        header=False, empty=False)\n",
    "\n",
    "print(c_name)"
   ]
  },
  {
   "cell_type": "code",
   "execution_count": 93,
   "metadata": {},
   "outputs": [
    {
     "name": "stdout",
     "output_type": "stream",
     "text": [
      "#include \"test.h\"\n",
      "#include <math.h>\n",
      "double volume(double breadth, double height, double length) {\n",
      "   double volume_result;\n",
      "   volume_result = breadth*height*length;\n",
      "   return volume_result;\n",
      "}\n",
      "\n"
     ]
    }
   ],
   "source": [
    "print(c_code)"
   ]
  },
  {
   "cell_type": "code",
   "execution_count": 94,
   "metadata": {},
   "outputs": [
    {
     "name": "stdout",
     "output_type": "stream",
     "text": [
      "test.h\n"
     ]
    }
   ],
   "source": [
    "print(h_name)"
   ]
  },
  {
   "cell_type": "code",
   "execution_count": 95,
   "metadata": {},
   "outputs": [
    {
     "name": "stdout",
     "output_type": "stream",
     "text": [
      "#ifndef PROJECT__TEST__H\n",
      "#define PROJECT__TEST__H\n",
      "double volume(double breadth, double height, double length);\n",
      "#endif\n",
      "\n"
     ]
    }
   ],
   "source": [
    "print(c_header)"
   ]
  },
  {
   "cell_type": "code",
   "execution_count": 96,
   "metadata": {},
   "outputs": [
    {
     "name": "stdout",
     "output_type": "stream",
     "text": [
      "REAL*8 function volume(breadth, length)\n",
      "implicit none\n",
      "REAL*8, intent(in) :: breadth\n",
      "REAL*8, intent(in) :: length\n",
      "volume = breadth*height*length\n",
      "end function\n",
      "\n"
     ]
    }
   ],
   "source": [
    "[(f_name, f_code), header] = codegen((\"volume\", length*breadth*height),\n",
    "\n",
    "    \"F95\", header=False, empty=False, argument_sequence=(breadth, length),\n",
    "\n",
    "    global_vars=(height,))\n",
    "\n",
    "print(f_code)"
   ]
  },
  {
   "cell_type": "code",
   "execution_count": 97,
   "metadata": {},
   "outputs": [],
   "source": [
    "from sympy.utilities.codegen import make_routine\n",
    "from sympy.physics.hydrogen import R_nl"
   ]
  },
  {
   "cell_type": "code",
   "execution_count": 98,
   "metadata": {},
   "outputs": [],
   "source": [
    "expr = R_nl(3, y, x, 6)"
   ]
  },
  {
   "cell_type": "code",
   "execution_count": 99,
   "metadata": {},
   "outputs": [],
   "source": [
    "routine = make_routine('my_routine', expr)"
   ]
  },
  {
   "cell_type": "code",
   "execution_count": 100,
   "metadata": {},
   "outputs": [
    {
     "data": {
      "image/png": "[encoded data removed]",
      "text/latex": [
       "$\\displaystyle \\left[ result_{2268394556800429038}\\right]$"
      ],
      "text/plain": [
       "[result₂₂₆₈₃₉₄₅₅₆₈₀₀₄₂₉₀₃₈]"
      ]
     },
     "execution_count": 100,
     "metadata": {},
     "output_type": "execute_result"
    }
   ],
   "source": [
    "[arg.result_var for arg in routine.results]   "
   ]
  },
  {
   "cell_type": "code",
   "execution_count": 108,
   "metadata": {},
   "outputs": [
    {
     "data": {
      "image/png": "[encoded data removed]",
      "text/latex": [
       "$\\displaystyle \\left[ \\frac{4 \\sqrt{6} \\left(4 x\\right)^{y} \\sqrt{\\frac{\\left(2 - y\\right)!}{\\left(y + 3\\right)!}} e^{- 2 x} L_{2 - y}^{\\left(2 y + 1\\right)}\\left(4 x\\right)}{3}\\right]$"
      ],
      "text/plain": [
       "⎡                __________                                          ⎤\n",
       "⎢          y    ╱ (2 - y)!   -2⋅x                                    ⎥\n",
       "⎢4⋅√6⋅(4⋅x) ⋅  ╱  ──────── ⋅ℯ    ⋅assoc_laguerre(2 - y, 2⋅y + 1, 4⋅x)⎥\n",
       "⎢            ╲╱   (y + 3)!                                           ⎥\n",
       "⎢────────────────────────────────────────────────────────────────────⎥\n",
       "⎣                                 3                                  ⎦"
      ]
     },
     "execution_count": 108,
     "metadata": {},
     "output_type": "execute_result"
    }
   ],
   "source": [
    "[arg.expr for arg in routine.results]   "
   ]
  },
  {
   "cell_type": "code",
   "execution_count": 109,
   "metadata": {},
   "outputs": [
    {
     "name": "stdout",
     "output_type": "stream",
     "text": [
      "4*sqrt(6)*(4*x)**y*sqrt(factorial(2 - y)/factorial(y + 3))*exp(-2*x)*assoc_laguerre(2 - y, 2*y + 1, 4*x)/3\n"
     ]
    }
   ],
   "source": [
    "for arg in routine.results:\n",
    "    print(arg.expr)"
   ]
  },
  {
   "cell_type": "code",
   "execution_count": 103,
   "metadata": {},
   "outputs": [
    {
     "data": {
      "image/png": "[encoded data removed]",
      "text/latex": [
       "$\\displaystyle \\left[ \\frac{4 \\sqrt{6} \\left(4 x\\right)^{y} \\sqrt{\\frac{\\left(2 - y\\right)!}{\\left(y + 3\\right)!}} e^{- 2 x} L_{2 - y}^{\\left(2 y + 1\\right)}\\left(4 x\\right)}{3}\\right]$"
      ],
      "text/plain": [
       "⎡                __________                                          ⎤\n",
       "⎢          y    ╱ (2 - y)!   -2⋅x                                    ⎥\n",
       "⎢4⋅√6⋅(4⋅x) ⋅  ╱  ──────── ⋅ℯ    ⋅assoc_laguerre(2 - y, 2⋅y + 1, 4⋅x)⎥\n",
       "⎢            ╲╱   (y + 3)!                                           ⎥\n",
       "⎢────────────────────────────────────────────────────────────────────⎥\n",
       "⎣                                 3                                  ⎦"
      ]
     },
     "execution_count": 103,
     "metadata": {},
     "output_type": "execute_result"
    }
   ],
   "source": [
    "[arg.expr for arg in routine.results]\n",
    "\n"
   ]
  },
  {
   "cell_type": "code",
   "execution_count": 105,
   "metadata": {},
   "outputs": [
    {
     "data": {
      "text/plain": [
       "[InputArgument(x), InputArgument(y)]"
      ]
     },
     "execution_count": 105,
     "metadata": {},
     "output_type": "execute_result"
    }
   ],
   "source": [
    "for arg in routine.arguments"
   ]
  },
  {
   "cell_type": "code",
   "execution_count": 111,
   "metadata": {},
   "outputs": [
    {
     "data": {
      "image/png": "[encoded data removed]",
      "text/latex": [
       "$\\displaystyle \\left[ result_{7180722349074693231}\\right]$"
      ],
      "text/plain": [
       "[result₇₁₈₀₇₂₂₃₄₉₀₇₄₆₉₃₂₃₁]"
      ]
     },
     "execution_count": 111,
     "metadata": {},
     "output_type": "execute_result"
    }
   ],
   "source": [
    "routine = make_routine('fcn', [x*y, Eq(a, 1), Eq(r, x + r), Matrix([[x, 2]])])\n",
    "[arg.result_var for arg in routine.results]   \n"
   ]
  },
  {
   "cell_type": "code",
   "execution_count": 112,
   "metadata": {},
   "outputs": [
    {
     "data": {
      "image/png": "[encoded data removed]",
      "text/latex": [
       "$\\displaystyle \\left[ x y\\right]$"
      ],
      "text/plain": [
       "[x⋅y]"
      ]
     },
     "execution_count": 112,
     "metadata": {},
     "output_type": "execute_result"
    }
   ],
   "source": [
    "[arg.expr for arg in routine.results]"
   ]
  },
  {
   "cell_type": "code",
   "execution_count": 113,
   "metadata": {},
   "outputs": [
    {
     "data": {
      "image/png": "[encoded data removed]",
      "text/latex": [
       "$\\displaystyle \\left[ x, \\  y, \\  a, \\  out_{487204364470214529}, \\  r\\right]$"
      ],
      "text/plain": [
       "[x, y, a, out₄₈₇₂₀₄₃₆₄₄₇₀₂₁₄₅₂₉, r]"
      ]
     },
     "execution_count": 113,
     "metadata": {},
     "output_type": "execute_result"
    }
   ],
   "source": [
    "[arg.name for arg in routine.arguments]   "
   ]
  },
  {
   "cell_type": "markdown",
   "metadata": {},
   "source": [
    "----------------"
   ]
  },
  {
   "cell_type": "code",
   "execution_count": 118,
   "metadata": {},
   "outputs": [],
   "source": [
    "from sympy.utilities.autowrap import ufuncify\n",
    "from sympy.utilities.lambdify import lambdify\n",
    "from sympy.abc import x\n"
   ]
  },
  {
   "cell_type": "code",
   "execution_count": 119,
   "metadata": {},
   "outputs": [
    {
     "ename": "CodeWrapError",
     "evalue": "Error while executing command: c:\\anaconda3\\python.exe -c import numpy.f2py as f2py2e;f2py2e.main() -c -m wrapper_module_2 wrapped_code_2.f90. Command output is:\nrunning build\r\nrunning config_cc\r\nINFO: unifing config_cc, config, build_clib, build_ext, build commands --compiler options\r\nrunning config_fc\r\nINFO: unifing config_fc, config, build_clib, build_ext, build commands --fcompiler options\r\nrunning build_src\r\nINFO: build_src\r\nINFO: building extension \"wrapper_module_2\" sources\r\nINFO: f2py options: []\r\nINFO: f2py:> C:\\Users\\wk2024\\AppData\\Local\\Temp\\tmpp8rimk3g\\src.win-amd64-3.11\\wrapper_module_2module.c\r\ncreating C:\\Users\\wk2024\\AppData\\Local\\Temp\\tmpp8rimk3g\\src.win-amd64-3.11\r\nReading fortran codes...\r\n\tReading file 'wrapped_code_2.f90' (format:free)\r\nPost-processing...\r\n\tBlock: wrapper_module_2\r\n\t\t\tBlock: autofunc\r\nApplying post-processing hooks...\r\n  character_backward_compatibility_hook\r\nPost-processing (stage 2)...\r\nBuilding modules...\r\n    Building module \"wrapper_module_2\"...\r\n    Generating possibly empty wrappers\"\r\n    Maybe empty \"wrapper_module_2-f2pywrappers.f\"\r\n        Constructing wrapper function \"autofunc\"...\r\n          y_2837006 = autofunc(x_2837010,[m_2837007])\r\n    Wrote C/API module \"wrapper_module_2\" to file \"C:\\Users\\wk2024\\AppData\\Local\\Temp\\tmpp8rimk3g\\src.win-amd64-3.11\\wrapper_module_2module.c\"\r\nINFO:   adding 'C:\\Users\\wk2024\\AppData\\Local\\Temp\\tmpp8rimk3g\\src.win-amd64-3.11\\fortranobject.c' to sources.\r\nINFO:   adding 'C:\\Users\\wk2024\\AppData\\Local\\Temp\\tmpp8rimk3g\\src.win-amd64-3.11' to include_dirs.\r\ncopying c:\\anaconda3\\Lib\\site-packages\\numpy\\f2py\\src\\fortranobject.c -> C:\\Users\\wk2024\\AppData\\Local\\Temp\\tmpp8rimk3g\\src.win-amd64-3.11\r\ncopying c:\\anaconda3\\Lib\\site-packages\\numpy\\f2py\\src\\fortranobject.h -> C:\\Users\\wk2024\\AppData\\Local\\Temp\\tmpp8rimk3g\\src.win-amd64-3.11\r\nINFO:   adding 'C:\\Users\\wk2024\\AppData\\Local\\Temp\\tmpp8rimk3g\\src.win-amd64-3.11\\wrapper_module_2-f2pywrappers.f' to sources.\r\nINFO: build_src: building npy-pkg config files\r\nc:\\anaconda3\\Lib\\site-packages\\setuptools\\_distutils\\cmd.py:66: SetuptoolsDeprecationWarning: setup.py install is deprecated.\r\n!!\r\n\r\n        ********************************************************************************\r\n        Please avoid running ``setup.py`` directly.\r\n        Instead, use pypa/build, pypa/installer or other\r\n        standards-based tools.\r\n\r\n        See https://blog.ganssle.io/articles/2021/10/setup-py-deprecated.html for details.\r\n        ********************************************************************************\r\n\r\n!!\r\n  self.initialize_options()\r\nrunning build_ext\r\nINFO: No module named 'numpy.distutils._msvccompiler' in numpy.distutils; trying from distutils\r\nINFO: customize MSVCCompiler\r\nINFO: customize MSVCCompiler using build_ext\r\nINFO: get_default_fcompiler: matching types: '['gnu', 'intelv', 'absoft', 'compaqv', 'intelev', 'gnu95', 'g95', 'intelvem', 'intelem', 'flang']'\r\nINFO: customize GnuFCompiler\r\nWARN: Could not locate executable g77\r\nWARN: Could not locate executable f77\r\nINFO: customize IntelVisualFCompiler\r\nWARN: Could not locate executable ifort\r\nWARN: Could not locate executable ifl\r\nINFO: customize AbsoftFCompiler\r\nWARN: Could not locate executable f90\r\nINFO: customize CompaqVisualFCompiler\r\nWARN: Could not locate executable DF\r\nINFO: customize IntelItaniumVisualFCompiler\r\nWARN: Could not locate executable efl\r\nINFO: customize Gnu95FCompiler\r\nWARN: Could not locate executable gfortran\r\nWARN: Could not locate executable f95\r\nINFO: customize G95FCompiler\r\nWARN: Could not locate executable g95\r\nINFO: customize IntelEM64VisualFCompiler\r\nINFO: customize IntelEM64TFCompiler\r\nWARN: Could not locate executable efort\r\nWARN: Could not locate executable efc\r\nINFO: customize PGroupFlangCompiler\r\nWARN: Could not locate executable flang\r\nWARN: don't know how to compile Fortran code on platform 'nt'\r\nwarning: build_ext: f77_compiler=None is not available.\r\n\r\nINFO: building 'wrapper_module_2' extension\r\nerror: extension 'wrapper_module_2' has Fortran sources but no Fortran compiler found\r\n",
     "output_type": "error",
     "traceback": [
      "\u001b[1;31m---------------------------------------------------------------------------\u001b[0m",
      "\u001b[1;31mTypeError\u001b[0m                                 Traceback (most recent call last)",
      "File \u001b[1;32mc:\\anaconda3\\Lib\\site-packages\\sympy\\core\\cache.py:70\u001b[0m, in \u001b[0;36m__cacheit.<locals>.func_wrapper.<locals>.wrapper\u001b[1;34m(*args, **kwargs)\u001b[0m\n\u001b[0;32m     69\u001b[0m \u001b[38;5;28;01mtry\u001b[39;00m:\n\u001b[1;32m---> 70\u001b[0m     retval \u001b[38;5;241m=\u001b[39m cfunc(\u001b[38;5;241m*\u001b[39margs, \u001b[38;5;241m*\u001b[39m\u001b[38;5;241m*\u001b[39mkwargs)\n\u001b[0;32m     71\u001b[0m \u001b[38;5;28;01mexcept\u001b[39;00m \u001b[38;5;167;01mTypeError\u001b[39;00m \u001b[38;5;28;01mas\u001b[39;00m e:\n",
      "\u001b[1;31mTypeError\u001b[0m: unhashable type: 'list'",
      "\nDuring handling of the above exception, another exception occurred:\n",
      "\u001b[1;31mTypeError\u001b[0m                                 Traceback (most recent call last)",
      "File \u001b[1;32mc:\\anaconda3\\Lib\\site-packages\\sympy\\core\\cache.py:70\u001b[0m, in \u001b[0;36m__cacheit.<locals>.func_wrapper.<locals>.wrapper\u001b[1;34m(*args, **kwargs)\u001b[0m\n\u001b[0;32m     69\u001b[0m \u001b[38;5;28;01mtry\u001b[39;00m:\n\u001b[1;32m---> 70\u001b[0m     retval \u001b[38;5;241m=\u001b[39m cfunc(\u001b[38;5;241m*\u001b[39margs, \u001b[38;5;241m*\u001b[39m\u001b[38;5;241m*\u001b[39mkwargs)\n\u001b[0;32m     71\u001b[0m \u001b[38;5;28;01mexcept\u001b[39;00m \u001b[38;5;167;01mTypeError\u001b[39;00m \u001b[38;5;28;01mas\u001b[39;00m e:\n",
      "\u001b[1;31mTypeError\u001b[0m: unhashable type: 'list'",
      "\nDuring handling of the above exception, another exception occurred:\n",
      "\u001b[1;31mCalledProcessError\u001b[0m                        Traceback (most recent call last)",
      "File \u001b[1;32mc:\\anaconda3\\Lib\\site-packages\\sympy\\utilities\\autowrap.py:182\u001b[0m, in \u001b[0;36mCodeWrapper._process_files\u001b[1;34m(self, routine)\u001b[0m\n\u001b[0;32m    181\u001b[0m \u001b[38;5;28;01mtry\u001b[39;00m:\n\u001b[1;32m--> 182\u001b[0m     retoutput \u001b[38;5;241m=\u001b[39m check_output(command, stderr\u001b[38;5;241m=\u001b[39mSTDOUT)\n\u001b[0;32m    183\u001b[0m \u001b[38;5;28;01mexcept\u001b[39;00m CalledProcessError \u001b[38;5;28;01mas\u001b[39;00m e:\n",
      "File \u001b[1;32mc:\\anaconda3\\Lib\\subprocess.py:466\u001b[0m, in \u001b[0;36mcheck_output\u001b[1;34m(timeout, *popenargs, **kwargs)\u001b[0m\n\u001b[0;32m    464\u001b[0m     kwargs[\u001b[38;5;124m'\u001b[39m\u001b[38;5;124minput\u001b[39m\u001b[38;5;124m'\u001b[39m] \u001b[38;5;241m=\u001b[39m empty\n\u001b[1;32m--> 466\u001b[0m \u001b[38;5;28;01mreturn\u001b[39;00m run(\u001b[38;5;241m*\u001b[39mpopenargs, stdout\u001b[38;5;241m=\u001b[39mPIPE, timeout\u001b[38;5;241m=\u001b[39mtimeout, check\u001b[38;5;241m=\u001b[39m\u001b[38;5;28;01mTrue\u001b[39;00m,\n\u001b[0;32m    467\u001b[0m            \u001b[38;5;241m*\u001b[39m\u001b[38;5;241m*\u001b[39mkwargs)\u001b[38;5;241m.\u001b[39mstdout\n",
      "File \u001b[1;32mc:\\anaconda3\\Lib\\subprocess.py:571\u001b[0m, in \u001b[0;36mrun\u001b[1;34m(input, capture_output, timeout, check, *popenargs, **kwargs)\u001b[0m\n\u001b[0;32m    570\u001b[0m     \u001b[38;5;28;01mif\u001b[39;00m check \u001b[38;5;129;01mand\u001b[39;00m retcode:\n\u001b[1;32m--> 571\u001b[0m         \u001b[38;5;28;01mraise\u001b[39;00m CalledProcessError(retcode, process\u001b[38;5;241m.\u001b[39margs,\n\u001b[0;32m    572\u001b[0m                                  output\u001b[38;5;241m=\u001b[39mstdout, stderr\u001b[38;5;241m=\u001b[39mstderr)\n\u001b[0;32m    573\u001b[0m \u001b[38;5;28;01mreturn\u001b[39;00m CompletedProcess(process\u001b[38;5;241m.\u001b[39margs, retcode, stdout, stderr)\n",
      "\u001b[1;31mCalledProcessError\u001b[0m: Command '['c:\\\\anaconda3\\\\python.exe', '-c', 'import numpy.f2py as f2py2e;f2py2e.main()', '-c', '-m', 'wrapper_module_2', 'wrapped_code_2.f90']' returned non-zero exit status 1.",
      "\nDuring handling of the above exception, another exception occurred:\n",
      "\u001b[1;31mCodeWrapError\u001b[0m                             Traceback (most recent call last)",
      "Cell \u001b[1;32mIn[119], line 3\u001b[0m\n\u001b[0;32m      1\u001b[0m expr \u001b[38;5;241m=\u001b[39m R_nl(\u001b[38;5;241m3\u001b[39m, \u001b[38;5;241m1\u001b[39m, x, \u001b[38;5;241m6\u001b[39m)\n\u001b[0;32m      2\u001b[0m fn_numpy \u001b[38;5;241m=\u001b[39m lambdify(x, expr, \u001b[38;5;124m'\u001b[39m\u001b[38;5;124mnumpy\u001b[39m\u001b[38;5;124m'\u001b[39m)   \n\u001b[1;32m----> 3\u001b[0m fn_fortran \u001b[38;5;241m=\u001b[39m ufuncify([x], expr, backend\u001b[38;5;241m=\u001b[39m\u001b[38;5;124m'\u001b[39m\u001b[38;5;124mf2py\u001b[39m\u001b[38;5;124m'\u001b[39m)\n",
      "File \u001b[1;32mc:\\anaconda3\\Lib\\site-packages\\sympy\\core\\cache.py:74\u001b[0m, in \u001b[0;36m__cacheit.<locals>.func_wrapper.<locals>.wrapper\u001b[1;34m(*args, **kwargs)\u001b[0m\n\u001b[0;32m     72\u001b[0m     \u001b[38;5;28;01mif\u001b[39;00m \u001b[38;5;129;01mnot\u001b[39;00m e\u001b[38;5;241m.\u001b[39margs \u001b[38;5;129;01mor\u001b[39;00m \u001b[38;5;129;01mnot\u001b[39;00m e\u001b[38;5;241m.\u001b[39margs[\u001b[38;5;241m0\u001b[39m]\u001b[38;5;241m.\u001b[39mstartswith(\u001b[38;5;124m'\u001b[39m\u001b[38;5;124munhashable type:\u001b[39m\u001b[38;5;124m'\u001b[39m):\n\u001b[0;32m     73\u001b[0m         \u001b[38;5;28;01mraise\u001b[39;00m\n\u001b[1;32m---> 74\u001b[0m     retval \u001b[38;5;241m=\u001b[39m func(\u001b[38;5;241m*\u001b[39margs, \u001b[38;5;241m*\u001b[39m\u001b[38;5;241m*\u001b[39mkwargs)\n\u001b[0;32m     75\u001b[0m \u001b[38;5;28;01mreturn\u001b[39;00m retval\n",
      "File \u001b[1;32mc:\\anaconda3\\Lib\\site-packages\\sympy\\utilities\\autowrap.py:1135\u001b[0m, in \u001b[0;36mufuncify\u001b[1;34m(args, expr, language, backend, tempdir, flags, verbose, helpers, **kwargs)\u001b[0m\n\u001b[0;32m   1133\u001b[0m args \u001b[38;5;241m=\u001b[39m [y] \u001b[38;5;241m+\u001b[39m indexed_args \u001b[38;5;241m+\u001b[39m [m]\n\u001b[0;32m   1134\u001b[0m args_with_indices \u001b[38;5;241m=\u001b[39m [a[i] \u001b[38;5;28;01mfor\u001b[39;00m a \u001b[38;5;129;01min\u001b[39;00m indexed_args]\n\u001b[1;32m-> 1135\u001b[0m \u001b[38;5;28;01mreturn\u001b[39;00m autowrap(Eq(y[i], f(\u001b[38;5;241m*\u001b[39margs_with_indices)), language, backend,\n\u001b[0;32m   1136\u001b[0m                 tempdir, args, flags, verbose, helpers, \u001b[38;5;241m*\u001b[39m\u001b[38;5;241m*\u001b[39mkwargs)\n",
      "File \u001b[1;32mc:\\anaconda3\\Lib\\site-packages\\sympy\\core\\cache.py:74\u001b[0m, in \u001b[0;36m__cacheit.<locals>.func_wrapper.<locals>.wrapper\u001b[1;34m(*args, **kwargs)\u001b[0m\n\u001b[0;32m     72\u001b[0m     \u001b[38;5;28;01mif\u001b[39;00m \u001b[38;5;129;01mnot\u001b[39;00m e\u001b[38;5;241m.\u001b[39margs \u001b[38;5;129;01mor\u001b[39;00m \u001b[38;5;129;01mnot\u001b[39;00m e\u001b[38;5;241m.\u001b[39margs[\u001b[38;5;241m0\u001b[39m]\u001b[38;5;241m.\u001b[39mstartswith(\u001b[38;5;124m'\u001b[39m\u001b[38;5;124munhashable type:\u001b[39m\u001b[38;5;124m'\u001b[39m):\n\u001b[0;32m     73\u001b[0m         \u001b[38;5;28;01mraise\u001b[39;00m\n\u001b[1;32m---> 74\u001b[0m     retval \u001b[38;5;241m=\u001b[39m func(\u001b[38;5;241m*\u001b[39margs, \u001b[38;5;241m*\u001b[39m\u001b[38;5;241m*\u001b[39mkwargs)\n\u001b[0;32m     75\u001b[0m \u001b[38;5;28;01mreturn\u001b[39;00m retval\n",
      "File \u001b[1;32mc:\\anaconda3\\Lib\\site-packages\\sympy\\utilities\\autowrap.py:663\u001b[0m, in \u001b[0;36mautowrap\u001b[1;34m(expr, language, backend, tempdir, args, flags, verbose, helpers, code_gen, **kwargs)\u001b[0m\n\u001b[0;32m    660\u001b[0m         new_args\u001b[38;5;241m.\u001b[39mappend(missing\u001b[38;5;241m.\u001b[39mname)\n\u001b[0;32m    661\u001b[0m     routine \u001b[38;5;241m=\u001b[39m code_gen\u001b[38;5;241m.\u001b[39mroutine(\u001b[38;5;124m'\u001b[39m\u001b[38;5;124mautofunc\u001b[39m\u001b[38;5;124m'\u001b[39m, expr, args \u001b[38;5;241m+\u001b[39m new_args)\n\u001b[1;32m--> 663\u001b[0m \u001b[38;5;28;01mreturn\u001b[39;00m code_wrapper\u001b[38;5;241m.\u001b[39mwrap_code(routine, helpers\u001b[38;5;241m=\u001b[39mhelps)\n",
      "File \u001b[1;32mc:\\anaconda3\\Lib\\site-packages\\sympy\\utilities\\autowrap.py:163\u001b[0m, in \u001b[0;36mCodeWrapper.wrap_code\u001b[1;34m(self, routine, helpers)\u001b[0m\n\u001b[0;32m    161\u001b[0m     \u001b[38;5;28mself\u001b[39m\u001b[38;5;241m.\u001b[39m_generate_code(routine, helpers)\n\u001b[0;32m    162\u001b[0m     \u001b[38;5;28mself\u001b[39m\u001b[38;5;241m.\u001b[39m_prepare_files(routine)\n\u001b[1;32m--> 163\u001b[0m     \u001b[38;5;28mself\u001b[39m\u001b[38;5;241m.\u001b[39m_process_files(routine)\n\u001b[0;32m    164\u001b[0m     mod \u001b[38;5;241m=\u001b[39m \u001b[38;5;28m__import__\u001b[39m(\u001b[38;5;28mself\u001b[39m\u001b[38;5;241m.\u001b[39mmodule_name)\n\u001b[0;32m    165\u001b[0m \u001b[38;5;28;01mfinally\u001b[39;00m:\n",
      "File \u001b[1;32mc:\\anaconda3\\Lib\\site-packages\\sympy\\utilities\\autowrap.py:184\u001b[0m, in \u001b[0;36mCodeWrapper._process_files\u001b[1;34m(self, routine)\u001b[0m\n\u001b[0;32m    182\u001b[0m     retoutput \u001b[38;5;241m=\u001b[39m check_output(command, stderr\u001b[38;5;241m=\u001b[39mSTDOUT)\n\u001b[0;32m    183\u001b[0m \u001b[38;5;28;01mexcept\u001b[39;00m CalledProcessError \u001b[38;5;28;01mas\u001b[39;00m e:\n\u001b[1;32m--> 184\u001b[0m     \u001b[38;5;28;01mraise\u001b[39;00m CodeWrapError(\n\u001b[0;32m    185\u001b[0m         \u001b[38;5;124m\"\u001b[39m\u001b[38;5;124mError while executing command: \u001b[39m\u001b[38;5;132;01m%s\u001b[39;00m\u001b[38;5;124m. Command output is:\u001b[39m\u001b[38;5;130;01m\\n\u001b[39;00m\u001b[38;5;132;01m%s\u001b[39;00m\u001b[38;5;124m\"\u001b[39m \u001b[38;5;241m%\u001b[39m (\n\u001b[0;32m    186\u001b[0m             \u001b[38;5;124m\"\u001b[39m\u001b[38;5;124m \u001b[39m\u001b[38;5;124m\"\u001b[39m\u001b[38;5;241m.\u001b[39mjoin(command), e\u001b[38;5;241m.\u001b[39moutput\u001b[38;5;241m.\u001b[39mdecode(\u001b[38;5;124m'\u001b[39m\u001b[38;5;124mutf-8\u001b[39m\u001b[38;5;124m'\u001b[39m)))\n\u001b[0;32m    187\u001b[0m \u001b[38;5;28;01mif\u001b[39;00m \u001b[38;5;129;01mnot\u001b[39;00m \u001b[38;5;28mself\u001b[39m\u001b[38;5;241m.\u001b[39mquiet:\n\u001b[0;32m    188\u001b[0m     \u001b[38;5;28mprint\u001b[39m(retoutput)\n",
      "\u001b[1;31mCodeWrapError\u001b[0m: Error while executing command: c:\\anaconda3\\python.exe -c import numpy.f2py as f2py2e;f2py2e.main() -c -m wrapper_module_2 wrapped_code_2.f90. Command output is:\nrunning build\r\nrunning config_cc\r\nINFO: unifing config_cc, config, build_clib, build_ext, build commands --compiler options\r\nrunning config_fc\r\nINFO: unifing config_fc, config, build_clib, build_ext, build commands --fcompiler options\r\nrunning build_src\r\nINFO: build_src\r\nINFO: building extension \"wrapper_module_2\" sources\r\nINFO: f2py options: []\r\nINFO: f2py:> C:\\Users\\wk2024\\AppData\\Local\\Temp\\tmpp8rimk3g\\src.win-amd64-3.11\\wrapper_module_2module.c\r\ncreating C:\\Users\\wk2024\\AppData\\Local\\Temp\\tmpp8rimk3g\\src.win-amd64-3.11\r\nReading fortran codes...\r\n\tReading file 'wrapped_code_2.f90' (format:free)\r\nPost-processing...\r\n\tBlock: wrapper_module_2\r\n\t\t\tBlock: autofunc\r\nApplying post-processing hooks...\r\n  character_backward_compatibility_hook\r\nPost-processing (stage 2)...\r\nBuilding modules...\r\n    Building module \"wrapper_module_2\"...\r\n    Generating possibly empty wrappers\"\r\n    Maybe empty \"wrapper_module_2-f2pywrappers.f\"\r\n        Constructing wrapper function \"autofunc\"...\r\n          y_2837006 = autofunc(x_2837010,[m_2837007])\r\n    Wrote C/API module \"wrapper_module_2\" to file \"C:\\Users\\wk2024\\AppData\\Local\\Temp\\tmpp8rimk3g\\src.win-amd64-3.11\\wrapper_module_2module.c\"\r\nINFO:   adding 'C:\\Users\\wk2024\\AppData\\Local\\Temp\\tmpp8rimk3g\\src.win-amd64-3.11\\fortranobject.c' to sources.\r\nINFO:   adding 'C:\\Users\\wk2024\\AppData\\Local\\Temp\\tmpp8rimk3g\\src.win-amd64-3.11' to include_dirs.\r\ncopying c:\\anaconda3\\Lib\\site-packages\\numpy\\f2py\\src\\fortranobject.c -> C:\\Users\\wk2024\\AppData\\Local\\Temp\\tmpp8rimk3g\\src.win-amd64-3.11\r\ncopying c:\\anaconda3\\Lib\\site-packages\\numpy\\f2py\\src\\fortranobject.h -> C:\\Users\\wk2024\\AppData\\Local\\Temp\\tmpp8rimk3g\\src.win-amd64-3.11\r\nINFO:   adding 'C:\\Users\\wk2024\\AppData\\Local\\Temp\\tmpp8rimk3g\\src.win-amd64-3.11\\wrapper_module_2-f2pywrappers.f' to sources.\r\nINFO: build_src: building npy-pkg config files\r\nc:\\anaconda3\\Lib\\site-packages\\setuptools\\_distutils\\cmd.py:66: SetuptoolsDeprecationWarning: setup.py install is deprecated.\r\n!!\r\n\r\n        ********************************************************************************\r\n        Please avoid running ``setup.py`` directly.\r\n        Instead, use pypa/build, pypa/installer or other\r\n        standards-based tools.\r\n\r\n        See https://blog.ganssle.io/articles/2021/10/setup-py-deprecated.html for details.\r\n        ********************************************************************************\r\n\r\n!!\r\n  self.initialize_options()\r\nrunning build_ext\r\nINFO: No module named 'numpy.distutils._msvccompiler' in numpy.distutils; trying from distutils\r\nINFO: customize MSVCCompiler\r\nINFO: customize MSVCCompiler using build_ext\r\nINFO: get_default_fcompiler: matching types: '['gnu', 'intelv', 'absoft', 'compaqv', 'intelev', 'gnu95', 'g95', 'intelvem', 'intelem', 'flang']'\r\nINFO: customize GnuFCompiler\r\nWARN: Could not locate executable g77\r\nWARN: Could not locate executable f77\r\nINFO: customize IntelVisualFCompiler\r\nWARN: Could not locate executable ifort\r\nWARN: Could not locate executable ifl\r\nINFO: customize AbsoftFCompiler\r\nWARN: Could not locate executable f90\r\nINFO: customize CompaqVisualFCompiler\r\nWARN: Could not locate executable DF\r\nINFO: customize IntelItaniumVisualFCompiler\r\nWARN: Could not locate executable efl\r\nINFO: customize Gnu95FCompiler\r\nWARN: Could not locate executable gfortran\r\nWARN: Could not locate executable f95\r\nINFO: customize G95FCompiler\r\nWARN: Could not locate executable g95\r\nINFO: customize IntelEM64VisualFCompiler\r\nINFO: customize IntelEM64TFCompiler\r\nWARN: Could not locate executable efort\r\nWARN: Could not locate executable efc\r\nINFO: customize PGroupFlangCompiler\r\nWARN: Could not locate executable flang\r\nWARN: don't know how to compile Fortran code on platform 'nt'\r\nwarning: build_ext: f77_compiler=None is not available.\r\n\r\nINFO: building 'wrapper_module_2' extension\r\nerror: extension 'wrapper_module_2' has Fortran sources but no Fortran compiler found\r\n"
     ]
    }
   ],
   "source": [
    "expr = R_nl(3, 1, x, 6)\n",
    "fn_numpy = lambdify(x, expr, 'numpy')   \n",
    "fn_fortran = ufuncify([x], expr, backend='f2py')    \n"
   ]
  },
  {
   "cell_type": "code",
   "execution_count": null,
   "metadata": {},
   "outputs": [],
   "source": [
    "from numpy import linspace  \n",
    "xx = linspace(0, 1, 5)  "
   ]
  },
  {
   "cell_type": "code",
   "execution_count": 120,
   "metadata": {},
   "outputs": [],
   "source": [
    "len_y = 5\n",
    "mat_1 = IndexedBase('mat_1', shape=(len_y,))\n",
    "mat_2 = IndexedBase('mat_2', shape=(len_y,))\n",
    "Dy = IndexedBase('Dy', shape=(len_y-1,))\n",
    "i = Idx('i', len_y-1)\n",
    "\n",
    "eq = Eq(Dy[i], (mat_1[i+1] - mat_1[i]) / (mat_2[i+1] - mat_2[i]))"
   ]
  },
  {
   "cell_type": "code",
   "execution_count": 124,
   "metadata": {},
   "outputs": [
    {
     "name": "stdout",
     "output_type": "stream",
     "text": [
      "Eq(Dy[i], (mat_1[i + 1] - mat_1[i])/(mat_2[i + 1] - mat_2[i]))\n"
     ]
    }
   ],
   "source": [
    "print(eq)"
   ]
  },
  {
   "cell_type": "code",
   "execution_count": 123,
   "metadata": {},
   "outputs": [
    {
     "name": "stdout",
     "output_type": "stream",
     "text": [
      "Dy[i] = (mat_1[i + 1] - mat_1[i])/(mat_2[i + 1] - mat_2[i]);\n"
     ]
    }
   ],
   "source": [
    "print(ccode(eq.rhs, assign_to=eq.lhs, contract=False))"
   ]
  },
  {
   "cell_type": "code",
   "execution_count": 125,
   "metadata": {},
   "outputs": [],
   "source": [
    "Res = IndexedBase('Res', shape=(len_y,))"
   ]
  },
  {
   "cell_type": "code",
   "execution_count": 126,
   "metadata": {},
   "outputs": [],
   "source": [
    "j = Idx('j', len_y)"
   ]
  },
  {
   "cell_type": "code",
   "execution_count": 127,
   "metadata": {},
   "outputs": [],
   "source": [
    "eq = Eq(Res[j], mat_1[j]*mat_2[j])"
   ]
  },
  {
   "cell_type": "code",
   "execution_count": 128,
   "metadata": {},
   "outputs": [
    {
     "data": {
      "text/latex": [
       "$\\displaystyle {Res}_{{j}_{0\\mathrel{..}\\nobreak 4}} = {mat_{1}}_{{j}_{0\\mathrel{..}\\nobreak 4}} {mat_{2}}_{{j}_{0\\mathrel{..}\\nobreak 4}}$"
      ],
      "text/plain": [
       "Res[j] = mat_1[j]⋅mat_2[j]"
      ]
     },
     "execution_count": 128,
     "metadata": {},
     "output_type": "execute_result"
    }
   ],
   "source": [
    "eq"
   ]
  },
  {
   "cell_type": "code",
   "execution_count": 135,
   "metadata": {},
   "outputs": [
    {
     "name": "stdout",
     "output_type": "stream",
     "text": [
      "      do j = 1, 5\n",
      "         Res(j) = 0\n",
      "      end do\n",
      "      do j = 1, 5\n",
      "         do j = 1, 5\n",
      "            Res(j) = Res(j) + mat_1(j)*mat_2(j)\n",
      "         end do\n",
      "      end do\n"
     ]
    }
   ],
   "source": [
    "print(fcode(eq.rhs, assign_to=eq.lhs, contract=True))"
   ]
  },
  {
   "cell_type": "code",
   "execution_count": 133,
   "metadata": {},
   "outputs": [
    {
     "name": "stdout",
     "output_type": "stream",
     "text": [
      "Res[j] = mat_1[j]*mat_2[j];\n"
     ]
    }
   ],
   "source": [
    "print(ccode(eq.rhs, assign_to=eq.lhs, contract=False))"
   ]
  },
  {
   "cell_type": "markdown",
   "metadata": {},
   "source": [
    "\n",
    "------------"
   ]
  },
  {
   "cell_type": "code",
   "execution_count": null,
   "metadata": {},
   "outputs": [],
   "source": []
  },
  {
   "cell_type": "code",
   "execution_count": null,
   "metadata": {},
   "outputs": [],
   "source": []
  },
  {
   "cell_type": "markdown",
   "metadata": {},
   "source": [
    "\n",
    "低通滤波器传递函数\n",
    "\n",
    "L(S) = 1/ (R_1 C_1 S + 1)\n",
    "\n",
    "高通滤波器的传递函数 \n",
    "\n",
    "G(S ) =     (R_2 C_2 S) /(  R_2 C_2 S + 1)\n",
    "\n",
    "\n",
    "**带阻滤波器**是由低通和高通滤波器以并联方式组合而成，衰减的频率范围称为阻带\n",
    "\n",
    "由于它消除了频率，也被称为**陷波滤波器**。\n",
    "\n",
    "陷波滤波器\n",
    "\n",
    "传递函数\n",
    "\n",
    "#陷波滤波器\n",
    "H(S) = L(S) + G(S)\n",
    "\n",
    "陷波滤波器一般形式\n",
    "$$ \n",
    "H(S) = \\frac{S^2 + 2k_2 \\omega _n S + \\omega _n^2}\n",
    "        { S^2 + 2k_1 \\omega _n S + \\omega _n^2}\n",
    "$$\n",
    "\n",
    "\n",
    "$\\omega _n$ 为陷波系数\n",
    "\n",
    "$k_1$ 为陷波系数1\n",
    "\n",
    "$k_2$ 为陷波系数2\n",
    "\n"
   ]
  },
  {
   "cell_type": "markdown",
   "metadata": {},
   "source": [
    "Y(S) = H(S)X(S)\n",
    "\n",
    "？？？  采用双线性变换的离散方法（其本质是一种数值积分法，采用梯形方法来近似计算积分）\n",
    "\n",
    "？？？ 利用Z变换的信号滞后特点得"
   ]
  },
  {
   "cell_type": "markdown",
   "metadata": {},
   "source": [
    "陷波滤波器_ 离散形式\n",
    "\n",
    "$$\n",
    "Y(n)=\n",
    "\\frac{b_1}{a_1}X(n)\n",
    "+\n",
    "\\frac{b_2}{a_1}X(n-1)\n",
    "+\n",
    "\\frac{b_3}{a_1}X(n-2)\n",
    "-\n",
    "\\frac{a_2}{a_1}Y(n-1)\n",
    "-\n",
    "\\frac{a_3}{a_1}Y(n-2)\n",
    "\n",
    "$$\n",
    "\n",
    "其中\n",
    "\n",
    "$\n",
    "a_1 = \\omega _n^2 T_s^2 + 4T_s k_1 \\omega _n + 4\n",
    "$\n",
    "\n",
    "$\n",
    "a_2 = b_2 = 2 \\omega _n^2 T_s^2 -8\n",
    "$\n",
    "\n",
    "$\n",
    "a_3 = \\omega _n^2 T_s^2 - 4T_s k_1 \\omega _n + 4\n",
    "$\n",
    "\n",
    "$\n",
    "b_1 = \\omega _n^2 T_s^2 + 4T_s k_2 \\omega _n + 4\n",
    "$\n",
    "\n",
    "$\n",
    "a_3 = \\omega _n^2 T_s^2 - 4T_s k_2 \\omega _n + 4\n",
    "$\n",
    "\n"
   ]
  },
  {
   "cell_type": "markdown",
   "metadata": {},
   "source": []
  },
  {
   "cell_type": "markdown",
   "metadata": {},
   "source": []
  }
 ],
 "metadata": {
  "kernelspec": {
   "display_name": "Python 3",
   "language": "python",
   "name": "python3"
  },
  "language_info": {
   "codemirror_mode": {
    "name": "ipython",
    "version": 3
   },
   "file_extension": ".py",
   "mimetype": "text/x-python",
   "name": "python",
   "nbconvert_exporter": "python",
   "pygments_lexer": "ipython3",
   "version": "undefined.undefined.undefined"
  }
 },
 "nbformat": 4,
 "nbformat_minor": 2
}
