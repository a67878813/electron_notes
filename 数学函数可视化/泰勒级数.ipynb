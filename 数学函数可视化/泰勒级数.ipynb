{
 "cells": [
  {
   "cell_type": "code",
   "execution_count": null,
   "metadata": {},
   "outputs": [],
   "source": []
  },
  {
   "cell_type": "markdown",
   "metadata": {},
   "source": [
    "泰勒级数 -近似计算。用无限项连加式——级数来表示一个函数，这些相加的项由函数在某一点的导数求得。"
   ]
  },
  {
   "cell_type": "markdown",
   "metadata": {},
   "source": [
    "$$ \\frac{1} {\\sqrt{1+\\epsilon  }} \\approx  1- \\frac{\\epsilon}{2}  + \\frac{3\\epsilon^2}{8}$$"
   ]
  },
  {
   "cell_type": "markdown",
   "metadata": {},
   "source": [
    "### 如何求函数的泰勒展开形式？？\n"
   ]
  },
  {
   "cell_type": "markdown",
   "metadata": {},
   "source": []
  }
 ],
 "metadata": {
  "language_info": {
   "name": "python"
  }
 },
 "nbformat": 4,
 "nbformat_minor": 2
}
