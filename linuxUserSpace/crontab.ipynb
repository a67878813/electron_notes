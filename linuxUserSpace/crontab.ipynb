{
 "cells": [
  {
   "cell_type": "code",
   "execution_count": null,
   "metadata": {},
   "outputs": [],
   "source": []
  },
  {
   "cell_type": "markdown",
   "metadata": {},
   "source": [
    ".sh\n",
    "脚本要求\n",
    "均为绝对路径\n",
    "#!/bin/bash\n",
    "\n",
    ". /etc/profile\n",
    ". ~/.profile \n",
    "载入环境变量\n",
    "\n",
    "crontab -e\n",
    "*/1 * * * * . /etc/profile; /bin/sh /......sh > /dev/null 2>&1"
   ]
  },
  {
   "cell_type": "markdown",
   "metadata": {},
   "source": [
    "开机自动执行\n"
   ]
  },
  {
   "cell_type": "markdown",
   "metadata": {},
   "source": [
    "# 周期性监控\n",
    " watch -n 1 \"/sbin/ifconfig eth0|grep bytes\"\n",
    "\n",
    "\n",
    "使用watch命令，配合ifconfig、more /proc/net/dev、cat /proc/net/dev来实时监控。比如执行 watch -n 1 \"ifconfig eth0\""
   ]
  },
  {
   "cell_type": "markdown",
   "metadata": {},
   "source": [
    " sar -n DEV 1 2\n",
    "\n",
    "sar命令包含在sysstat工具包中，提供系统的众多统计数据。其在不同的系统上命令有些差异，某些系统提供的sar支持基于网络接口的数据统计，也可以查看设备上每秒收发包的个数和流量。\n",
    "1\n",
    "\t\n",
    "sar –n DEV 1 2\n",
    "\n",
    "命令后面1 2 意思是：每一秒钟取1次值，取2次。\n",
    "\n",
    "DEV显示网络接口信息\n",
    "\n",
    "另外，-n参数很有用，他有6个不同的开关：DEV | EDEV | NFS | NFSD | SOCK | ALL ，其代表的含义如下：\n",
    "\n",
    "    DEV显示网络接口信息。"
   ]
  },
  {
   "cell_type": "markdown",
   "metadata": {},
   "source": [
    "iperf3\n",
    "iperf3 -s\n",
    "\n",
    "\n",
    "iperf3 -c ip"
   ]
  }
 ],
 "metadata": {
  "language_info": {
   "name": "python"
  }
 },
 "nbformat": 4,
 "nbformat_minor": 2
}
