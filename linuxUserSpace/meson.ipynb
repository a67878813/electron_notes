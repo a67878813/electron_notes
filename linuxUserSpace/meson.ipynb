{
 "cells": [
  {
   "cell_type": "code",
   "execution_count": null,
   "metadata": {},
   "outputs": [],
   "source": []
  },
  {
   "cell_type": "markdown",
   "metadata": {},
   "source": [
    "## build \n",
    "meson setup build --wipe && \n",
    "ninja -C build\n",
    "\n",
    "\n",
    "cd .. && meson setup build --wipe && ninja -C build && cd build && ls\n",
    "\n",
    "meson setup build --wipe && ninja -C build && cd build && ls"
   ]
  },
  {
   "cell_type": "markdown",
   "metadata": {},
   "source": [
    "meson does not permit in-source builds.\n",
    "We  must always create a separate build directory. \n",
    "Common convention is to put the default build directory in a subdirectory of your top level source directory."
   ]
  },
  {
   "cell_type": "markdown",
   "metadata": {},
   "source": [
    "## project\n",
    "\n",
    "project('t1', 'cpp',\n",
    "  version : '0.1',\n",
    "  default_options : ['warning_level=3', 'cpp_std=c++20'])\n",
    "\n",
    "\n"
   ]
  },
  {
   "cell_type": "code",
   "execution_count": null,
   "metadata": {},
   "outputs": [],
   "source": [
    "\n",
    "project('t1', 'cpp',\n",
    "  version : '0.1',\n",
    "  default_options : ['warning_level=3', 'cpp_std=c++20'])\n"
   ]
  },
  {
   "cell_type": "code",
   "execution_count": null,
   "metadata": {},
   "outputs": [],
   "source": [
    "#opencv\n",
    "opencv_lib='opencv_core'\n",
    "opencv_lib_dir = '/usr/local/lib'\n",
    "opencv_include_dir = '/usr/local/include/opencv4'\n",
    "\n",
    "opencv_dep = declare_dependency(\n",
    "  link_args:['-L' + opencv_lib_dir,'-l'+ opencv_lib],\n",
    "  include_directories: include_directories(opencv_include_dir)# \"-I\"\n",
    ")\n",
    "\n"
   ]
  },
  {
   "cell_type": "code",
   "execution_count": null,
   "metadata": {},
   "outputs": [],
   "source": [
    "libgpiod_dep = declare_dependency(\n",
    "  link_args:['-L' + '/usr/include','-l'+ '/usr/lib'],\n",
    "  include_directories: include_directories(opencv_include_dir)# \"-I\"\n",
    ")\n"
   ]
  },
  {
   "cell_type": "code",
   "execution_count": null,
   "metadata": {},
   "outputs": [],
   "source": [
    "\n",
    "executable('demo',\n",
    "           #'hello_modular_world.cc',\n",
    "           'main.cpp',\n",
    "           #build_rpath: opencv_lib_dir,\n",
    "           #install_rpath:opencv_lib_dir,\n",
    "           #dependencies:[opencv_dep],\n",
    "           dependencies:[dependency('opencv4'),dependency('libgpiodcxx')],#denpendency()搜索库名无需除外lib字符串\n",
    "           install : false\n",
    "           )\n"
   ]
  },
  {
   "cell_type": "markdown",
   "metadata": {},
   "source": [
    "#opencv\n",
    "opencv_lib='opencv_core'\n",
    "opencv_lib_dir = '/usr/local/lib'\n",
    "opencv_include_dir = '/usr/local/include/opencv4'\n",
    "\n",
    "opencv_dep = declare_dependency(\n",
    "  link_args:['-L' + opencv_lib_dir,'-l'+ opencv_lib],\n",
    "  include_directories: include_directories(opencv_include_dir)# \"-I\"\n",
    ")\n",
    "\n"
   ]
  },
  {
   "cell_type": "code",
   "execution_count": null,
   "metadata": {},
   "outputs": [],
   "source": [
    "pkgconfig -h\n",
    "usage: pkgconf [OPTIONS] [LIBRARIES]\n",
    "\n",
    "basic options:\n",
    "\n",
    "  --help                            this message\n",
    "  --about                           print pkgconf version and license to stdout\n",
    "  --version                         print supported pkg-config version to stdout\n",
    "  --atleast-pkgconfig-version       check whether or not pkgconf is compatible\n",
    "                                    with a specified pkg-config version\n",
    "  --errors-to-stdout                print all errors on stdout instead of stderr\n",
    "  --print-errors                    ensure all errors are printed\n",
    "  --short-errors                    be less verbose about some errors\n",
    "  --silence-errors                  explicitly be silent about errors\n",
    "  --list-all                        list all known packages\n",
    "  --list-package-names              list all known package names\n",
    "  --simulate                        simulate walking the calculated dependency graph\n",
    "  --no-cache                        do not cache already seen packages when\n",
    "                                    walking the dependency graph\n",
    "  --log-file=filename               write an audit log to a specified file\n",
    "  --with-path=path                  adds a directory to the search path\n",
    "  --define-prefix                   override the prefix variable with one that is guessed based on\n",
    "                                    the location of the .pc file\n",
    "  --dont-define-prefix              do not override the prefix variable under any circumstances\n",
    "  --prefix-variable=varname         sets the name of the variable that pkgconf considers\n",
    "                                    to be the package prefix\n",
    "  --relocate=path                   relocates a path and exits (mostly for testsuite)\n",
    "  --dont-relocate-paths             disables path relocation support\n",
    "\n",
    "cross-compilation personality support:\n",
    "\n",
    "  --personality=triplet|filename    sets the personality to 'triplet' or a file named 'filename'\n",
    "  --dump-personality                dumps details concerning selected personality\n",
    "\n",
    "checking specific pkg-config database entries:\n",
    "\n",
    "  --atleast-version                 require a specific version of a module\n",
    "  --exact-version                   require an exact version of a module\n",
    "  --max-version                     require a maximum version of a module\n",
    "  --exists                          check whether or not a module exists\n",
    "  --uninstalled                     check whether or not an uninstalled module will be used\n",
    "  --no-uninstalled                  never use uninstalled modules when satisfying dependencies\n",
    "  --no-provides                     do not use 'provides' rules to resolve dependencies\n",
    "  --maximum-traverse-depth          maximum allowed depth for dependency graph\n",
    "  --static                          be more aggressive when computing dependency graph\n",
    "                                    (for static linking)\n",
    "  --shared                          use a simplified dependency graph (usually default)\n",
    "  --pure                            optimize a static dependency graph as if it were a normal\n",
    "                                    dependency graph\n",
    "  --env-only                        look only for package entries in PKG_CONFIG_PATH\n",
    "  --ignore-conflicts                ignore 'conflicts' rules in modules\n",
    "  --validate                        validate specific .pc files for correctness\n",
    "\n",
    "querying specific pkg-config database fields:\n",
    "\n",
    "  --define-variable=varname=value   define variable 'varname' as 'value'\n",
    "  --variable=varname                print specified variable entry to stdout\n",
    "  --cflags                          print required CFLAGS to stdout\n",
    "  --cflags-only-I                   print required include-dir CFLAGS to stdout\n",
    "  --cflags-only-other               print required non-include-dir CFLAGS to stdout\n",
    "  --libs                            print required linker flags to stdout\n",
    "  --libs-only-L                     print required LDPATH linker flags to stdout\n",
    "  --libs-only-l                     print required LIBNAME linker flags to stdout\n",
    "  --libs-only-other                 print required other linker flags to stdout\n",
    "  --print-requires                  print required dependency frameworks to stdout\n",
    "  --print-requires-private          print required dependency frameworks for static\n",
    "                                    linking to stdout\n",
    "  --print-provides                  print provided dependencies to stdout\n",
    "  --print-variables                 print all known variables in module to stdout\n",
    "  --digraph                         print entire dependency graph in graphviz 'dot' format\n",
    "  --keep-system-cflags              keep -I/usr/include entries in cflags output\n",
    "  --keep-system-libs                keep -L/lib:/lib/aarch64-linux-gnu:/usr/lib:/usr/lib/aarch64-linux-gnu entries in libs output\n",
    "  --path                            show the exact filenames for any matching .pc files\n",
    "  --modversion                      print the specified module's version to stdout\n",
    "  --internal-cflags                 do not filter 'internal' cflags from output\n",
    "\n",
    "filtering output:\n",
    "\n",
    "  --msvc-syntax                     print translatable fragments in MSVC syntax\n",
    "  --fragment-filter=types           filter output fragments to the specified types"
   ]
  },
  {
   "cell_type": "markdown",
   "metadata": {},
   "source": []
  }
 ],
 "metadata": {
  "language_info": {
   "name": "python"
  }
 },
 "nbformat": 4,
 "nbformat_minor": 2
}
