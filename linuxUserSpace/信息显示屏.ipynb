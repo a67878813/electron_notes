{
 "cells": [
  {
   "cell_type": "code",
   "execution_count": null,
   "metadata": {},
   "outputs": [],
   "source": [
    "\n",
    "#!/bin/bash\n",
    "\n",
    ". /etc/profile\n",
    ". /home/pi/.profile\n",
    "\n",
    "\n",
    "#echo \"shell chuan can\";\n",
    "Oip=`hostname -I`;\n",
    "displayip=\"ip_${Oip}\";\n",
    "echo \"current IP is ${displayip}\";\n",
    "freemem=`cat /proc/meminfo|grep MemAva|tr -s ' '|cut -f2 -d' '`\n",
    "usercpu_percent=`top -bn 1 -i -c|grep Cpu|tr -s ' '|cut -f2 -d' '`\n",
    "let num=$freemem\n",
    "#let usCpu=$usedcpu_percent\n",
    "#freemem2=${freemem:0:-3}\n",
    "freemem2=$(expr \"$freemem\" / 1024 );\n",
    "echo $freemem2;\n",
    "/home/pi/local_bin/ssd1306_bin -n 1 -I 128x32\n",
    "/home/pi/local_bin/ssd1306_bin -n 1 -c\n",
    "/home/pi/local_bin/ssd1306_bin -n 1 -x 1 -y 1 -l $displayip;\n",
    "#echo $freemem2}\";\n",
    "#echo $freemem;\n",
    "/home/pi/local_bin/ssd1306_bin -n 1 -x 1 -y 2 -l \"Fm_${freemem2}\";\n",
    "/home/pi/local_bin/ssd1306_bin -n 1 -x 90 -y 2 -l \"Cu_${usercpu_percent}\";\n",
    "\n"
   ]
  }
 ],
 "metadata": {
  "language_info": {
   "name": "python"
  }
 },
 "nbformat": 4,
 "nbformat_minor": 2
}
