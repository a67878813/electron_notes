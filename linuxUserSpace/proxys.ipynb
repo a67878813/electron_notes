{
 "cells": [
  {
   "cell_type": "code",
   "execution_count": null,
   "metadata": {},
   "outputs": [],
   "source": [
    "export HTTP_PROXY=\"http://x:port\"\n",
    "\n",
    "export HTTPS_PROXY=\"sock5h://x:port\"\n",
    "\n",
    "windows:\n",
    "Proxyfier"
   ]
  }
 ],
 "metadata": {
  "language_info": {
   "name": "python"
  }
 },
 "nbformat": 4,
 "nbformat_minor": 2
}
