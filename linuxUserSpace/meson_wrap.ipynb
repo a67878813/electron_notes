{
 "cells": [
  {
   "cell_type": "code",
   "execution_count": null,
   "metadata": {},
   "outputs": [],
   "source": []
  },
  {
   "cell_type": "markdown",
   "metadata": {},
   "source": [
    "## https://mesonbuild.com/Wrapdb-projects.html\n",
    "meson_wrap 查找地址"
   ]
  },
  {
   "cell_type": "markdown",
   "metadata": {},
   "source": [
    "项目文件加下增加 subprojects 文件夹\n",
    "内含 xxx.wrap\n"
   ]
  },
  {
   "cell_type": "markdown",
   "metadata": {},
   "source": [
    "meson.build 增加\n",
    "\n"
   ]
  },
  {
   "cell_type": "code",
   "execution_count": null,
   "metadata": {},
   "outputs": [],
   "source": [
    "fmt_dep = dependency('fmt-10',required:false)\n",
    "if not fmt_dep.found()\n",
    "    fmt_proj= subproject('fmt')\n",
    "    fmt_dep = fmt_proj.get_variable('fmt_dep')\n",
    "endif\n"
   ]
  }
 ],
 "metadata": {
  "language_info": {
   "name": "python"
  }
 },
 "nbformat": 4,
 "nbformat_minor": 2
}
