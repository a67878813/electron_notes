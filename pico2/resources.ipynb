{
 "cells": [
  {
   "cell_type": "markdown",
   "metadata": {},
   "source": [
    "26 multi-function 3.3 V General Purpose I/O (GPIO), \n",
    "3 can be used for ADC"
   ]
  },
  {
   "cell_type": "markdown",
   "metadata": {},
   "source": [
    "3-pin ARM Serial Wire Debug (SWD) port\n",
    "\n"
   ]
  },
  {
   "cell_type": "markdown",
   "metadata": {},
   "source": [
    "Simple yet highly flexible power supply architecture\n",
    "◦ Various options for easily powering the unit from micro-USB, external supplies or batteries"
   ]
  },
  {
   "cell_type": "markdown",
   "metadata": {},
   "source": [
    "Dual Cortex-M33 or Hazard3 processors at up to 150MHz\n",
    "◦ On-chip PLL allows variable core frequency\n"
   ]
  },
  {
   "cell_type": "markdown",
   "metadata": {},
   "source": [
    "520 kB multi-bank high performance SRAM"
   ]
  },
  {
   "cell_type": "markdown",
   "metadata": {},
   "source": [
    "External Quad-SPI flash with eXecute In Place (XIP) and 16 kB on-chip cache"
   ]
  },
  {
   "cell_type": "markdown",
   "metadata": {},
   "source": [
    "High performance full-crossbar bus fabric"
   ]
  },
  {
   "cell_type": "markdown",
   "metadata": {},
   "source": [
    "30 multi-function GPIO pins (4 can be used for ADC)"
   ]
  },
  {
   "cell_type": "markdown",
   "metadata": {},
   "source": [
    "12-bit 500ksps Analogue to Digital Converter (ADC)"
   ]
  },
  {
   "cell_type": "markdown",
   "metadata": {},
   "source": [
    "Various digital peripherals\n",
    "◦ 2× UART, 2× I2C, 2× SPI, 24× PWM channels\n",
    "◦ 2× Timer with 4 alarms, 1× AON Timer"
   ]
  },
  {
   "cell_type": "markdown",
   "metadata": {},
   "source": [
    "3× Programmable IO (PIO) blocks, 12 state machines total\n",
    "◦ Flexible, user-programmable high-speed IO\n",
    "◦ Can emulate interfaces such as SD Card and VGA"
   ]
  },
  {
   "cell_type": "markdown",
   "metadata": {},
   "source": [
    "Operating Temp Max 85°C (including self-heating)\n",
    "\n",
    "Recommended maximum ambient temperature of operation is 70°C."
   ]
  },
  {
   "cell_type": "markdown",
   "metadata": {},
   "source": [
    "Operating Temp Min -20°C"
   ]
  },
  {
   "cell_type": "markdown",
   "metadata": {},
   "source": [
    "VBUS 5V ± 10%.\n",
    "\n",
    "4.5-5.5\n"
   ]
  },
  {
   "cell_type": "markdown",
   "metadata": {},
   "source": [
    "VSYS Min 1.8V\n",
    "\n",
    "VSYS Max 5.5V\n"
   ]
  },
  {
   "cell_type": "markdown",
   "metadata": {},
   "source": [
    "Power consume\n",
    "\n",
    "idel  33.1 mW\n",
    "\n",
    "keep transmit 65 mW\n",
    "\n",
    "sigle core benchmark 46.9 mW"
   ]
  },
  {
   "cell_type": "markdown",
   "metadata": {},
   "source": [
    "VSYS is R-C filtered and divided by 3 (by\n",
    "R5, R6, R16 and C3 in the Pico 2 schematic) and can be monitored on *ADC channel 3*. This can be used for example as a\n",
    "crude battery voltage monitor."
   ]
  },
  {
   "cell_type": "markdown",
   "metadata": {},
   "source": [
    "*GPIO24* monitors the existence of VBUS, while R10 and R1 act to pull VBUS down to make sure it is 0V if VBUS is not\n",
    "present."
   ]
  },
  {
   "cell_type": "markdown",
   "metadata": {},
   "source": [
    "**GPIO23 controls the RT6150 PS (Power Save) pin.** When PS is low (the default on Pico 2) the regulator is in Pulse\n",
    "Frequency Modulation mode, which, at light loads, saves considerable power by only turning on the switching MOSFETs\n",
    "occasionally to keep the output capacitor topped up. Setting PS high forces the regulator into Pulse Width Modulation\n",
    "(PWM) mode. PWM mode forces the SMPS to switch continuously, which reduces the output ripple considerably at light\n",
    "loads (which can be good for some use cases) but at the expense of much worse efficiency. Note that under heavy load\n",
    "the switcher will be in PWM mode irrespective of the PS pin state."
   ]
  },
  {
   "cell_type": "markdown",
   "metadata": {},
   "source": [
    "The SMPS EN pin is pulled up to VSYS by a 100kΩ resistor and made available on **Pico 2 pin 37**. Shorting this pin to\n",
    "ground will disable the switcher and put it into a **low power state.**"
   ]
  },
  {
   "cell_type": "markdown",
   "metadata": {},
   "source": [
    "The simplest way to safely **add a second power** source to Pico 2 is to feed it into **VSYS via another Schottky diode** (see\n",
    "Figure 8). This will 'OR' the two voltages,"
   ]
  },
  {
   "cell_type": "markdown",
   "metadata": {},
   "source": [
    "This will **'OR' the two voltages,** allowing the higher of either the external voltage or VBUS to power VSYS, with\n",
    "the diodes preventing either supply from back-powering the other."
   ]
  },
  {
   "cell_type": "markdown",
   "metadata": {},
   "source": [
    "The downside of this approach is that the second power supply will suffer a diode drop in the same way as VBUS\n",
    "does, and this may *not be desirable from an efficiency perspective*"
   ]
  },
  {
   "cell_type": "markdown",
   "metadata": {},
   "source": [
    "a **P-channel MOSFET (P-FET)** to replace the Schottky diode as\n",
    "shown in Figure 9. Here, the gate of the FET is controlled by VBUS, and will disconnect the secondary source when\n",
    "VBUS is present."
   ]
  },
  {
   "cell_type": "markdown",
   "metadata": {},
   "source": [
    "The P-FET should be chosen to have low on resistance, and therefore overcomes the efficiency and\n",
    "voltage-drop issues with the diode-only solution.\n",
    "\n",
    "When the input VBUS is removed, the P-FET will not\n",
    "start to turn on **until VBUS drops below the P-FET’s Vt**, meanwhile the body diode of the P-FET may **start to conduct**\n",
    "(depending on whether Vt is smaller than the diode drop).\n",
    "\n",
    "can also be used with a battery charger.\n",
    "电池充电，直流供电 Pmos-Gate共Vbus \n",
    "pmos 输出到VSYS\n",
    "\n"
   ]
  }
 ],
 "metadata": {
  "language_info": {
   "name": "python"
  }
 },
 "nbformat": 4,
 "nbformat_minor": 2
}
