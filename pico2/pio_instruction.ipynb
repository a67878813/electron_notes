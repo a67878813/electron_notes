{
 "cells": [
  {
   "cell_type": "code",
   "execution_count": null,
   "metadata": {},
   "outputs": [],
   "source": [
    "out "
   ]
  },
  {
   "cell_type": "markdown",
   "metadata": {},
   "source": [
    "1 pio -> 4 state machine \n",
    "\n",
    "1=> state machine\n",
    "    PC 指令寄存器 32bit\n",
    "    ISR\n",
    "    OSR 移位寄存器 32bit\n",
    "\n",
    "    x\n",
    "    y 暂存寄存器 32bit\n",
    "\n",
    "\n",
    "    总线FIFO   4*32bit\n",
    "\n",
    "    时钟分频器  16bit整数  8位小数  最低分频为1/65536\n",
    "\n",
    "    DMA 接口 1Byte /时钟 ，100M时钟带宽 100MByte\n",
    "\n",
    "    IRQ 中断表示位 8个  / 同步状态机或其他用途\n",
    "\n"
   ]
  },
  {
   "cell_type": "markdown",
   "metadata": {},
   "source": [
    "\n",
    "    GPIO映射方法\n",
    "    映射寄存器均为32bit 对应32GPIO引脚\n",
    "    1.输入映射\n",
    "    指定pio0对应的gpio初始引脚。其他引脚对应循环计数。  \n",
    "        映射map  0  1        2    3   4      5 ...\n",
    "        GPIO    29 (30x   31x)   0   1      2\n",
    "    2. 输出映射\n",
    "\n",
    "    与输入相似，需设置输出引脚数量，最高32\n",
    "\n",
    "\n",
    "\n"
   ]
  },
  {
   "cell_type": "markdown",
   "metadata": {},
   "source": [
    "    3.设置映射\n",
    "    与输出一致，最多5个. \n",
    "    允许重叠\n",
    "    \n",
    "    4.侧置映射\n",
    "    与输出一致，最多5个\n",
    "\n",
    "    允许重叠"
   ]
  },
  {
   "cell_type": "markdown",
   "metadata": {},
   "source": [
    "JMP\n",
    "\n",
    "\n",
    "达成条件 跳转地址\n",
    "\n",
    "JMP (condition) target\n",
    "\n",
    "\n",
    "instruction(3bit)\n",
    "\n",
    "delay/side set(5bit)\n",
    "\n",
    "condition(3bit)\n",
    "!X      X寄存器为0  \n",
    "!Y\n",
    "\n",
    "X--         X-1>0\n",
    "Y--\n",
    "\n",
    "X!=Y\n",
    "\n",
    "PIN: 输入引脚高电平\n",
    "\n",
    "!(OSRE) 输入以为寄存器OSR为0\n",
    "#!(SRE)\n",
    "\n",
    "\n",
    "target(5bit)"
   ]
  },
  {
   "cell_type": "markdown",
   "metadata": {},
   "source": [
    "WAIT\n",
    "\n",
    "条件达成前等待\n",
    "\n",
    "\n",
    "WAIT  polarity  Source Index\n",
    "\n",
    "polarity 等待目标出现0或1\n",
    "\n",
    "Source GPIO PIN IRQ中断映射标志\n",
    "\n",
    "\n",
    "\n",
    "\n"
   ]
  },
  {
   "cell_type": "markdown",
   "metadata": {},
   "source": [
    "IN\n",
    "\n",
    "将数据存入ISR寄存器\n",
    "\n",
    "IN source ,Bitcount\n",
    "\n",
    "PINs\n",
    "X\n",
    "Y\n",
    "NULL\n",
    "ISR\n",
    "OSR"
   ]
  },
  {
   "cell_type": "markdown",
   "metadata": {},
   "source": [
    "OUT\n",
    "\n",
    "将OSR输出到目标\n",
    "\n",
    "destination ，bitcount\n",
    "\n",
    "**Bit count:** how many bits to shift out of the OSR. 1…32 bits, 32 is encoded as 00000.\n",
    "\n",
    "\n",
    "PINs\n",
    "X\n",
    "Y\n",
    "NULL\n",
    "ISR\n",
    "OSR\n",
    "\n",
    "PC\n",
    "PINDIRS"
   ]
  },
  {
   "cell_type": "markdown",
   "metadata": {},
   "source": [
    "PUSH\n",
    "\n",
    "将ISR内容推到 RxFIFO ，清空ISR(All 0)\n",
    "\n",
    "\n",
    "PUSH (if FULL ) ( Block/noBlock)\n",
    "\n",
    "ifFull 1  ISR达到阈值再推送->RxFIFO\n",
    "\n",
    "• IfFull: If 1, do nothing unless the total ISR count has reached its threshold, SHIFTCTRL_PUSH_THRESH (the same\n",
    "as for autopush).\n",
    "• Block: If 1, stall execution if RX FIFO is full."
   ]
  },
  {
   "cell_type": "markdown",
   "metadata": {},
   "source": [
    "PULL\n",
    "\n",
    "Load a 32-bit word from the TX FIFO into the OSR.\n",
    "\n",
    "\n",
    "• IfEmpty: If 1, do nothing unless the total output shift count has reached its threshold, SHIFTCTRL_PULL_THRESH (the\n",
    "same as for autopull).\n",
    "• Block: If 1, stall if TX FIFO is empty. If 0, pulling from an empty FIFO copies scratch X to OSR."
   ]
  },
  {
   "cell_type": "markdown",
   "metadata": {},
   "source": [
    "MOV\n",
    "\n",
    "MOV (to RX)\n",
    "\n",
    "The RX FIFO storage registers have only a single read port and write port, and access through each port is assigned\n",
    "to **only one of (system, state machine) at any time.**\n",
    "\n",
    "\n",
    "MOV (from RX)\n",
    "\n",
    "\n",
    "\n",
    "目标\n",
    "Destination:\n",
    "◦ 000: PINS (Uses same pin mapping as OUT)\n",
    "◦ 001: X (Scratch register X)\n",
    "◦ 010: Y (Scratch register Y)\n",
    "◦ 011: (version 1 and above) PINDIRS (Uses same pin mapping as OUT)\n",
    "◦ 100: EXEC (Execute data as instruction)\n",
    "◦ 101: PC\n",
    "◦ 110: ISR (Input shift counter is reset to 0 by this operation, i.e. empty)\n",
    "◦ 111: OSR (Output shift counter is reset to 0 by this operation, i.e. full)\n",
    "\n",
    "\n",
    "\n",
    "Operation:\n",
    "◦ 00: None\n",
    "◦ 01: Invert (bitwise complement)  位取反\n",
    "◦ 10: Bit-reverse （位翻转 高低位互换）\n",
    "◦ 11: Reserved\n",
    "\n",
    "Source:\n",
    "◦ 000: PINS (Uses same pin mapping as IN)\n",
    "◦ 001: X\n",
    "◦ 010: Y\n",
    "◦ 011: NULL\n",
    "◦ 100: Reserved\n",
    "◦ 101: STATUS\n",
    "◦ 110: ISR\n",
    "◦ 111: OSR\n",
    "\n"
   ]
  },
  {
   "cell_type": "markdown",
   "metadata": {},
   "source": []
  },
  {
   "cell_type": "markdown",
   "metadata": {},
   "source": [
    "IRQ\n",
    "\n",
    "设置或清空中断标识\n",
    "\n",
    "(option) irq_nuim (_rel)\n",
    "\n",
    "\n",
    "set (默认) 设置\n",
    "\n",
    "nowait(默认) 不等待清除\n",
    "\n",
    "wait 等待清除后，运行\n",
    "\n",
    "clear 清除\n",
    "\n",
    "\n",
    "\n",
    "irq_nuim 0-7 （3bit）\n",
    "\n",
    "若（rel）存在，则中断标识 irq_num  状态机编码(sm_id)\n",
    "\n",
    "(sm_id +irq_num ) %4 = irq_flag 取模4 作为flag\n",
    "\n",
    "例子，若状态机2   (0x02)设置 中断标识rel=0x11 ,\n",
    "则flag  = (0x02+ 0x11)%4  = 0x13%4 = 0x03\n",
    "\n",
    "0x13 = 19"
   ]
  },
  {
   "cell_type": "markdown",
   "metadata": {},
   "source": [
    "SET"
   ]
  },
  {
   "cell_type": "markdown",
   "metadata": {},
   "source": [
    "\n",
    "SET  destiantion, data\n",
    "\n",
    "**Write immediate value Data to Destination.**\n",
    "\n",
    "• Destination:\n",
    "◦ 000: PINS\n",
    "SET映射引脚\n",
    "◦ 001: X (scratch register X) 5 LSBs are set to Data, all others cleared to 0.\n",
    "◦ 010: Y (scratch register Y) 5 LSBs are set to Data, all others cleared to 0.\n",
    "◦ 011: Reserved\n",
    "◦ 100: PINDIRS\n",
    "引脚方向，将第一个映射GPIO1为输出，0为输入\n",
    "\n",
    "◦ 101: Reserved\n",
    "◦ 110: Reserved\n",
    "◦ 111: Reserved\n",
    "\n",
    "• Data: **5-bit**(0-31) immediate value to drive to pins or register.\n",
    "\n",
    "This can be used to **assert control signals** such as a *clock* or *chip select*, or to initialise *loop counters*. \n",
    "As Data is 5 bits in size, *scratch registers* can be SET to values from **0-31**, which is **sufficient for a 32-iteration loop**."
   ]
  },
  {
   "cell_type": "markdown",
   "metadata": {},
   "source": [
    "100Mhz\n",
    "T = "
   ]
  },
  {
   "cell_type": "code",
   "execution_count": 3,
   "metadata": {},
   "outputs": [
    {
     "name": "stdout",
     "output_type": "stream",
     "text": [
      " T = 0.01 us\n"
     ]
    }
   ],
   "source": [
    "T = 1/ (100 * 10**6)\n",
    "T\n",
    "print(f\" T = {T*10**6} us\")"
   ]
  },
  {
   "cell_type": "code",
   "execution_count": 7,
   "metadata": {},
   "outputs": [
    {
     "name": "stdout",
     "output_type": "stream",
     "text": [
      " t= 2.0 us       500.0 kHz\n"
     ]
    }
   ],
   "source": [
    "t = 2 * 10**(-6)# us\n",
    "f = 1/t\n",
    "print (f\" t= {t/10**(-6)} us       {f/1000} kHz\")"
   ]
  },
  {
   "cell_type": "code",
   "execution_count": null,
   "metadata": {},
   "outputs": [],
   "source": [
    "\n",
    "PC"
   ]
  },
  {
   "cell_type": "markdown",
   "metadata": {},
   "source": [
    "PIO 符号\n",
    "\n",
    "<expression> + <expression> The sum of two expressions\n",
    "<expression> - <expression> The difference of two expressions\n",
    "<expression> * <expression> The multiplication of two expressions\n",
    "<expression> / <expression> The integer division of two expressions\n",
    "- <expression> The negation of another expression\n",
    "<expression> << <expression> One expression shifted left by another expression\n",
    "<expression> >> <expression> One expression shifted right by another expression\n",
    ":: <expression> The bit reverse of another expression\n",
    "<value> Any value (see Section 3.3.3)"
   ]
  },
  {
   "cell_type": "markdown",
   "metadata": {},
   "source": [
    "3.3.5. Comments\n",
    "Line comments are supported with // or ;"
   ]
  },
  {
   "cell_type": "markdown",
   "metadata": {},
   "source": [
    "3.3.6. Labels\n",
    "Labels are of the form:\n",
    "<symbol>:\n",
    "or\n",
    "PUBLIC <symbol>:\n",
    "at the start of a line.\n",
    "\n",
    "\n",
    "A label is really just an automatic *.define* with a value set to the current program instruction *offset*. A PUBLIC label is\n",
    "exposed to the user code in the same way as a PUBLIC .define.\n"
   ]
  },
  {
   "cell_type": "markdown",
   "metadata": {},
   "source": [
    "<instruction> (side <side_set_value>) ([<delay_value>])\n",
    "\n",
    "<side_set_value> Is a value (see Section 3.3.3) to apply to the side_set pins at the start of the instruction. Note that\n",
    "the rules for a side-set value via side <side_set_value> are dependent on the .side_set (see\n",
    "pioasm_side_set) directive for the program. If no .side_set is specified then the side <side_set_value>\n",
    "is invalid, if an optional number of sideset pins is specified then side <side_set_value> may be\n",
    "present, and if a non-optional number of sideset pins is specified, then side <side_set_value> is\n",
    "required. The <side_set_value> must fit within the number of side-set bits specified in the .side_set\n",
    "directive.\n",
    "\n"
   ]
  },
  {
   "cell_type": "markdown",
   "metadata": {},
   "source": [
    "Commas appear in some Assembly Syntax sections below, but are entirely optional, e.g. \n",
    "\n",
    "out pins, 3 may be written\n",
    "out pins 3, \n",
    "\n",
    "and \n",
    "\n",
    "jmp x-- label \n",
    "\n",
    "may be written as \n",
    "jmp x--, label\n",
    "\n",
    ". The Assembly Syntax sections below uses the first\n",
    "style in each case as this is the style used in the SDK.\n",
    "Raspberry Pi Pico-series C/C++ SDK\n",
    "3.3."
   ]
  },
  {
   "cell_type": "markdown",
   "metadata": {},
   "source": [
    "3.3.3. Values\n",
    "The following types of values can be used to define integer numbers or branch targets\n",
    "\n",
    "\n",
    "pioasm, i.e. <value> integer An integer value e.g. \n",
    "\n",
    "*3 or -7*\n",
    "\n",
    "hex A hexadecimal value e.g. \n",
    "\n",
    "*0xf*\n",
    "\n",
    "binary A binary value e.g. \n",
    "\n",
    "*0b1001*\n",
    "\n",
    "symbol A value defined by a \n",
    "\n",
    "*.define* (see pioasm_define)\n",
    "\n",
    "\n",
    "<label> The instruction offset of the label within the program. This makes most sense when used with a JMP instruction (see Section 3.4.4)\n",
    "( <expression> ) An expression to be evaluated; see expressions. Note that the parentheses are necessary."
   ]
  },
  {
   "cell_type": "markdown",
   "metadata": {},
   "source": [
    ".side_set 1\n",
    "\n",
    "we’re stealing *one of those delay bits* to use for \"side-set\".\n",
    "\n",
    "The state machine will use this\n",
    "bit to drive the values of some pins, *once per instruction*, in addition to what the instructions are themselves doing."
   ]
  },
  {
   "cell_type": "markdown",
   "metadata": {},
   "source": [
    ".define \n",
    "\n",
    "lets you declare constants. The public keyword means that the assembler will also write out the value of the\n",
    "define in the output file for use by other software: in the context of the SDK, this is a #define."
   ]
  },
  {
   "cell_type": "markdown",
   "metadata": {},
   "source": [
    "Output Shift Register\n",
    "\n",
    "OSR\n",
    "\n",
    "\n",
    "Data is pulled from\n",
    "the TX FIFO into the OSR one 32-bit chunk at a time\n",
    "\n",
    "OUT 指令 ，可分片数据, 可左移或 右移输出数据 ， \n",
    "\n",
    "输出方向提前配置，\n",
    "OUT 目标，输出数量（bit）\n"
   ]
  },
  {
   "cell_type": "markdown",
   "metadata": {},
   "source": [
    ".wrap  为硬件特性\n",
    "\n",
    "\n",
    "go in through the .wrap statement and appear at the .wrap_target zero\n",
    "cycles later,"
   ]
  }
 ],
 "metadata": {
  "kernelspec": {
   "display_name": "base",
   "language": "python",
   "name": "python3"
  },
  "language_info": {
   "codemirror_mode": {
    "name": "ipython",
    "version": 3
   },
   "file_extension": ".py",
   "mimetype": "text/x-python",
   "name": "python",
   "nbconvert_exporter": "python",
   "pygments_lexer": "ipython3",
   "version": "3.11.5"
  }
 },
 "nbformat": 4,
 "nbformat_minor": 2
}
