{
 "cells": [
  {
   "cell_type": "code",
   "execution_count": null,
   "metadata": {},
   "outputs": [],
   "source": []
  },
  {
   "cell_type": "markdown",
   "metadata": {},
   "source": [
    "### 概述\n",
    "1. 电场相关的*电势*\n",
    "2. 电磁问题中的数学知识。\n",
    "\n",
    "电势差：电场强度的线积分的负值。\n",
    "\n",
    "电场强度：电势差*梯度*的负值。\n",
    "\n",
    "电场强度是单位电荷的力；电势是单位电荷的电势能。\n",
    "\n",
    "*电偶极子*\n",
    "\n",
    "散度：可以用来计算（dv的矢量场）的通量。（二阶微分）（为标量）\n",
    "\n",
    "高斯定理（散度定理），高斯定理的微分形式，是麦克斯韦方程组的第一个方程。\n",
    "\n",
    "笛卡尔坐标系下的三度。\n",
    "\n",
    "梯度的散度： 称为 *拉普拉斯算符*\n",
    "\n",
    "\n",
    "拉普拉斯算符作用下=0的函数有很多重要性质，如*恩绍原理*，指出真空中构建稳定的静电平衡是不可能的。\n",
    "\n",
    "\n",
    "旋度： 是矢量场沿着小的闭合曲线进行线积分。\n",
    "\n",
    "斯托克斯理论\n",
    "\n",
    "笛卡尔坐标系下的旋度。\n",
    "\n",
    "静电场的保守特性，意味着其旋度为0.\n",
    "\n",
    "不同坐标系下的各种矢量算符。\n",
    "\n",
    "\n"
   ]
  },
  {
   "cell_type": "markdown",
   "metadata": {},
   "source": [
    "### 电场的线积分\n",
    "\n",
    "对于电场之和的线积分等于各个电场独立积分之和。\n",
    "\n",
    "如果\n",
    "$$\\mathbf{E} = \\mathbf{E}_1 + \\mathbf{E}_2 +\\cdots + \\mathbf{E}_n$$\n"
   ]
  },
  {
   "cell_type": "markdown",
   "metadata": {},
   "source": [
    "则\n",
    "\n",
    "$$\\int_{p_1}^{p_2} \\mathbf{E} \\cdot \\mathrm{d} \\mathbf{s}=\n",
    "\\int_{p_1}^{p_2} \\mathbf{E}_1 \\cdot \\mathrm{d} \\mathbf{s}\n",
    "+\\int_{p_1}^{p_2} \\mathbf{E}_2 \\cdot \\mathrm{d} \\mathbf{s}\n",
    "+\\cdots\n",
    "$$"
   ]
  },
  {
   "cell_type": "markdown",
   "metadata": {},
   "source": [
    "在任何静电场中，对于从p1到p2所有路径的线积分 $\\int_{p_1}^{p_2} \\mathbf{E} \\cdot \\mathrm{d} \\mathbf{s}$ 都有相同的值。"
   ]
  },
  {
   "cell_type": "markdown",
   "metadata": {},
   "source": [
    "点p1，p2可能在同一个位置。之中情况下积分的路径就是一个闭合的回路，总长度为0.\n",
    "\n",
    "定理：\n",
    "\n",
    "在*静电场*中，沿任何闭合路径的线积分$\\int_{p_1}^{p_2} \\mathbf{E} \\cdot \\mathrm{d} \\mathbf{s}$为0 ."
   ]
  },
  {
   "cell_type": "markdown",
   "metadata": {},
   "source": [
    "严格说，*静电场*指的是静止的电荷所产生的电场。\n",
    "\n",
    "我们会遇到其内部的线积分与路径有关的电场，这些电场往往都与快速移动的电荷有关。\n",
    "\n",
    "就目前可以说，如果源电荷移动得足够慢，它得电场E必定满足 $\\int\\mathbf{E} \\cdot \\mathrm{d} \\mathbf{s}$ 的值与路径无关。\n",
    "\n",
    "如果E本身是随时间变化的，公式中的E必须理解为在给定的某个瞬间在整个路径上存在的电场。这样，对变化的静电场中的线积分才有意义。"
   ]
  },
  {
   "cell_type": "markdown",
   "metadata": {},
   "source": []
  },
  {
   "cell_type": "markdown",
   "metadata": {},
   "source": [
    "### 电势差和电势函数\n",
    "\n",
    "因为在静电场中的线积分是与路径无关的，我们可以不用指定路径而定义一个标量\n",
    "$$\\phi_{21} = - \\int_{P_1}^{P_2} \\mathbf{E} \\cdot \\mathrm{d} \\mathbf{s} $$"
   ]
  },
  {
   "cell_type": "markdown",
   "metadata": {},
   "source": [
    "$\\phi_{21} $ 代表电场E中外力把正电荷从p1移动到p2时对每单位电荷所做的功。\n",
    "\n"
   ]
  },
  {
   "cell_type": "markdown",
   "metadata": {},
   "source": [
    "$\\phi_{21} $ 是单值标量函数，，称为两点间的电势差。\n",
    "\n",
    "SI单位制中，电势差的单位为$J/C$ ,名为福特"
   ]
  },
  {
   "cell_type": "markdown",
   "metadata": {},
   "source": [
    "移动1C电荷量至1V电势差，所需的功为1J"
   ]
  },
  {
   "cell_type": "markdown",
   "metadata": {},
   "source": [
    "假定把p1固定在某个参考位置。那么 $\\phi_{21} $ 只是关于P2的函数，也就是一个关于空间坐标x,y,z的函数，\n",
    "\n",
    "可以写为无下标的 $\\phi(x,y,z) $ "
   ]
  },
  {
   "cell_type": "markdown",
   "metadata": {},
   "source": [
    "可以说 $\\phi $ 是跟电场矢量相关的势能，是一个跟位置相关的标量函数， 或一个标量场，在某一个点处的值是标量，无方向性。 "
   ]
  },
  {
   "cell_type": "markdown",
   "metadata": {},
   "source": [
    "一旦给定电场矢量E，除了要加上一个跟P1点的选择相关的常数外， 势能函数 $\\phi$ 就已经确定了。 "
   ]
  },
  {
   "cell_type": "markdown",
   "metadata": {},
   "source": []
  },
  {
   "cell_type": "markdown",
   "metadata": {},
   "source": [
    "例：均匀带电球体电势：\n",
    "\n",
    "半径为R的均匀带电球体，体电荷密度rho,已知：\n",
    "\n",
    "$$ E_{out}(r) = \\frac{\\rho R^3}{3 \\epsilon_0 r^2}$$\n",
    "\n",
    "$$ E_{inner}(r) = \\frac{\\rho r}{3 \\epsilon_0}$$\n",
    "\n",
    "设定参考点p1为无穷远。"
   ]
  },
  {
   "cell_type": "markdown",
   "metadata": {},
   "source": [
    "\n",
    "球外电势\n",
    "$$\\phi_{out}(r) = - \\int_{\\infty}^{r} \\mathbf{E}(r^\\prime) \\mathrm{d}r $$\n",
    "\n",
    "$$= \\frac{\\rho R^3}{3 \\epsilon_0 r}$$\n"
   ]
  },
  {
   "cell_type": "markdown",
   "metadata": {},
   "source": [
    "总电荷Q= 4/3 (pi r^3)\n",
    "\n",
    "$$ \\phi_{out}(r) = \\frac{Q}{4\\pi \\epsilon_0 r}$$"
   ]
  },
  {
   "cell_type": "markdown",
   "metadata": {},
   "source": [
    "球内电势， 两部分积分\n",
    "$$\\phi_{inner}(r) = - \\int_{\\infty}^{R} \\mathbf{E}(r^\\prime) \\mathrm{d}r - \\int_{R}^{r} \\mathbf{E}(r^\\prime) \\mathrm{d}r $$\n",
    "\n",
    "$$\\phi_{inner}(r) = \\frac{\\rho R^2}{2\\epsilon_0} -  \\frac{\\rho r^2}{6\\epsilon_0} $$"
   ]
  },
  {
   "cell_type": "markdown",
   "metadata": {},
   "source": [
    "图像为"
   ]
  },
  {
   "cell_type": "code",
   "execution_count": null,
   "metadata": {},
   "outputs": [],
   "source": [
    "import matplotlib.pyplot as plt\n",
    "import numpy as np\n",
    "\n",
    "R = 1\n",
    "rho = 1\n",
    "epsilon0 = 0.0001\n",
    "yrange = rho*R**2/(2*epsilon0)+1000\n",
    "def f(r):\n",
    "    #\n",
    "\n",
    "    return rho*R**3/(3* epsilon0* r)\n",
    "    #返回numpy数组\n",
    "\n",
    "def g(r):\n",
    "    \n",
    "\n",
    "    return rho*R**2/(2*epsilon0) - rho*r**2/(6*epsilon0)\n",
    "\n",
    "xrange = np.pi* 2.0\n",
    "\n",
    "a = np.arange(-xrange ,xrange*2  , 0.08)\n",
    "\n",
    "cc = plt.subplot(2,1,1)# (行数， 列数，当前区域)\n",
    "plt.xticks(np.arange(-xrange,xrange,np.pi/2))\n",
    "cc.set_ylim(- yrange -0.1, yrange+0.1)\n",
    "#plt.yticks([-1,0,1])\n",
    "# _ = plt.yticks(ticks = [-1,0,1],ha = 'right')\n",
    "_ = plt.xticks(ticks = np.arange(0,xrange+0.1 ,np.pi/2), \\\n",
    "labels = ['0',r'$\\frac{1}{2}\\pi$',r'$\\pi$',r'$\\frac{3}{2}\\pi$',r'$2\\pi$'] \\\n",
    ")\n",
    "_=plt.grid(True, linestyle='-.')\n",
    "plt.plot(a,f(a))\n",
    "plt.plot(a,g(a),'g--')\n",
    "#Z 轴单位为 Q/(4 pi e0 h^2)\n",
    "#------------------\n",
    "\n",
    "cc2=plt.subplot(2,1,2)\n",
    "plt.xticks(np.arange(-xrange,xrange,np.pi/2))\n",
    "cc2.set_ylim(- yrange -0.1, yrange+0.1)\n",
    "_ = plt.xticks(ticks = np.arange(0,xrange+0.1 ,np.pi/2), \\\n",
    "labels = ['0',r'$\\frac{1}{2}\\pi$',r'$\\pi$',r'$\\frac{3}{2}\\pi$',r'$2\\pi$'] \\\n",
    ")\n",
    "_=plt.grid(True, linestyle='-')\n",
    "\n",
    "#=========================\n",
    "f1= f(a)\n",
    "g1= g(a)\n",
    "\n",
    "condition = g1>f(R) \n",
    "\n",
    "merged_array = np.where(condition, g1,f1)\n",
    "\n",
    "condition2 = a>0\n",
    "#条件为真选左，否则选右， 语义同三元运算符 ? A:B\n",
    "merged_array2 = np.where(condition2,merged_array,   np.zeros(236)  )\n",
    "#=========================\n",
    "plt.plot(a,merged_array2,'r')\n",
    "\n",
    "plt.show()\n",
    " "
   ]
  },
  {
   "cell_type": "markdown",
   "metadata": {},
   "source": []
  },
  {
   "cell_type": "markdown",
   "metadata": {},
   "source": [
    "### 标量函数的梯度\n",
    "\n",
    "某种意义上，电场是电视函数的导数。\n",
    "\n",
    "引入跟位置相关的标量函数的*梯度*概念。\n",
    "\n",
    "设 $f(x,y,z)$ 为一个连续可微的坐标函数。用它的偏微分 $\\frac{\\partial f}{\\partial x}$,  $\\frac{\\partial f}{\\partial y}$ ,  $\\frac{\\partial f}{\\partial z}$ ,可以在空间的任意一点上构造一个矢量，这个矢量的x,y,z分量分别等于函数在各个方向的导数。\n",
    "\n",
    "称这个矢量为函数f的梯度， 记为\n",
    "$$ \\text{gard} f$$ \n",
    "\n",
    "或\n",
    "nabla\n",
    "$$\\nabla f $$"
   ]
  },
  {
   "cell_type": "code",
   "execution_count": null,
   "metadata": {},
   "outputs": [],
   "source": []
  },
  {
   "cell_type": "markdown",
   "metadata": {},
   "source": [
    "矢量 $\\nabla f $ 告诉我们函数f在一个点附近的变化趋势。\n",
    "\n",
    "在任意一点矢量 $\\nabla f $ 的方向代表了函数f增长速度最快的方向。大小为斜率。\n",
    "\n"
   ]
  },
  {
   "cell_type": "markdown",
   "metadata": {},
   "source": []
  },
  {
   "cell_type": "markdown",
   "metadata": {},
   "source": [
    "### 从电势推导处电场。\n",
    "\n",
    "容易看出，标量函数f 和适量函数  $\\nabla f $  的关系，跟势能函数 $\\phi$ 和电场E的关系除了负号外是一样的。"
   ]
  },
  {
   "cell_type": "markdown",
   "metadata": {},
   "source": [
    "电场为电势梯度的负值\n",
    "\n",
    "$$\\mathbf{E} = -\\nabla \\phi$$"
   ]
  },
  {
   "cell_type": "markdown",
   "metadata": {},
   "source": [
    "这里的符号因为：电场从高指向低，矢量nabla定义为指向势能增长方向。"
   ]
  },
  {
   "cell_type": "markdown",
   "metadata": {},
   "source": [
    "---------------------"
   ]
  },
  {
   "cell_type": "markdown",
   "metadata": {},
   "source": [
    "### 分布电荷的势能\n",
    "\n",
    "叠加原理\n",
    "\n",
    "通常把零电势点选择在无穷远的位置。\n",
    "\n",
    "任意电荷分布的势能函数（电势函数）：\n",
    "\n",
    "积分式；\n",
    "\n",
    "$$ \\phi(x,y,z) = \\int_{所有源电荷} \\frac{\\rho(x^\\prime, y^\\prime, z^\\prime, ) \n",
    "\\mathrm{d}x^\\prime \\mathrm{d}y^\\prime \\mathrm{d}z^\\prime \n",
    "}{4 \\pi\\epsilon_0 r}$$"
   ]
  },
  {
   "cell_type": "markdown",
   "metadata": {},
   "source": [
    "其中r是从体积元dxdydz 到计算电势的点（x,y,z）的距离，\n",
    "\n",
    "值为 $r = [(x-x^\\prime)^2  +  (y-y^\\prime)^2   + (z-z^\\prime)^2 ]^{1/2}$"
   ]
  },
  {
   "cell_type": "markdown",
   "metadata": {},
   "source": [
    "注意势能函数为1/r ,而非电荷分布积分得到电场时的1/r^2"
   ]
  },
  {
   "cell_type": "markdown",
   "metadata": {},
   "source": [
    "并且积分的结果为标量。"
   ]
  },
  {
   "cell_type": "markdown",
   "metadata": {},
   "source": [
    "从标量的电势函数 $\\phi(x,y,z)$ ， 利用 $\\mathbf{E} = -\\nabla \\phi$ 得到电场"
   ]
  },
  {
   "cell_type": "markdown",
   "metadata": {},
   "source": [
    "例题： 点电荷的电势；\n",
    "利用 $ \\phi(x,y,z) = \\int_{所有源电荷} \\frac{\\rho(x^\\prime, y^\\prime, z^\\prime, ) \n",
    "\\mathrm{d}x^\\prime \\mathrm{d}y^\\prime \\mathrm{d}z^\\prime \n",
    "}{4 \\pi\\epsilon_0 r}$\n",
    "\n",
    "计算标量和"
   ]
  },
  {
   "cell_type": "markdown",
   "metadata": {},
   "source": [
    "注意到所有phi相等的点的轨迹是一个面————称为*等势面*"
   ]
  },
  {
   "cell_type": "markdown",
   "metadata": {},
   "source": []
  },
  {
   "cell_type": "markdown",
   "metadata": {},
   "source": [
    "$ \\phi(x,y,z) = \\int_{所有源电荷} \\frac{\\rho(x^\\prime, y^\\prime, z^\\prime, ) \n",
    "\\mathrm{d}x^\\prime \\mathrm{d}y^\\prime \\mathrm{d}z^\\prime \n",
    "}{4 \\pi\\epsilon_0 r}$\n",
    "\n",
    "此积分式的限制为：电荷必须位于有限空间，否则积分发散，结果无穷大。\n",
    "\n",
    "对于无穷远有电荷的系统，确定零电势点，$\\phi_{21} = - \\int_{P_1}^{P_2} \\mathbf{E} \\cdot \\mathrm{d} \\mathbf{s} $ 更容易计算。"
   ]
  },
  {
   "cell_type": "markdown",
   "metadata": {},
   "source": []
  },
  {
   "cell_type": "markdown",
   "metadata": {},
   "source": [
    "例子 ：无限长导线求电势。\n",
    "\n",
    "$$\\phi_{21} = - \\int_{P_1}^{P_2} \\mathbf{E} \\cdot \\mathrm{d} \\mathbf{s} $$\n",
    "\n",
    "$$\\phi_{21} = - \\int_{P_1}^{P_2} (\\frac{\\lambda}{2\\pi\\epsilon_0 r}) \\cdot \\mathrm{d}r $$"
   ]
  },
  {
   "cell_type": "markdown",
   "metadata": {},
   "source": [
    "$$\\phi_{21} =  -\\frac{\\lambda}{2\\pi\\epsilon_0 }\\ln r_2  +\\frac{\\lambda}{2\\pi\\epsilon_0 }\\ln r_1   $$"
   ]
  },
  {
   "cell_type": "markdown",
   "metadata": {},
   "source": [
    "表明，长导线的电势可写成：\n",
    "\n",
    "$$\\phi_{r} =  -\\frac{\\lambda}{2\\pi\\epsilon_0 }\\ln r  +C  $$"
   ]
  },
  {
   "cell_type": "markdown",
   "metadata": {},
   "source": [
    "phi的梯度计算电场E\n",
    "\n",
    "$$\\mathbf{E} = -\\nabla \\phi =  -\\hat{\\mathbf{r}}  \\frac{\\mathrm{d}\\phi}{\\mathrm{d}r} \n",
    "= \\frac{\\lambda \\hat{\\mathbf{r}}  }  {2\\pi\\epsilon_0 r}$$"
   ]
  },
  {
   "cell_type": "markdown",
   "metadata": {},
   "source": [
    "### 均匀带电圆盘\n",
    "\n",
    "半径为a\n",
    "\n",
    "电荷密度为sigma\n",
    "\n",
    "薄单电荷层\n",
    "\n",
    "总电荷量 $\\pi a^2 \\sigma$"
   ]
  },
  {
   "cell_type": "markdown",
   "metadata": {},
   "source": [
    "这个圆盘不是导体。如果是导体，电荷不会均匀分布，最终圆盘边缘存在有大量电荷。"
   ]
  },
  {
   "cell_type": "markdown",
   "metadata": {},
   "source": [
    "例子：计算垂直中轴电势：\n",
    "\n",
    "称此轴为y轴。\n",
    "\n",
    "取微圆环，s为微圆环半径， ds为圆环宽度，\n",
    "\n",
    "此圆环面积 $2\\pi s \\mathrm{d}s$"
   ]
  },
  {
   "cell_type": "markdown",
   "metadata": {},
   "source": [
    "包含电荷量 $dq= \\sigma 2\\pi s \\mathrm{d} s$"
   ]
  },
  {
   "cell_type": "markdown",
   "metadata": {},
   "source": [
    "圆环上所有点到P1的距离相同，为  $r = (y^2+s^2)^{1/2}$"
   ]
  },
  {
   "cell_type": "markdown",
   "metadata": {},
   "source": [
    "所以，圆环在P1点处的电势为\n",
    "\n",
    "$$\\mathrm{d}q /4\\pi\\epsilon_0 r = \\sigma s \\mathrm{d}s / (2 \\epsilon_0 \\sqrt{y^2+ s^2})$$"
   ]
  },
  {
   "cell_type": "markdown",
   "metadata": {},
   "source": [
    "总电势\n",
    "\n",
    "$$   \\phi(0,y,0) = \n",
    "\\int\\frac{\\mathrm{d}q}{4\\pi \\epsilon_0 r}\n",
    "=\\int_0^a \\frac{\\sigma s \\mathrm{d}s }{2 \\epsilon_0 \\sqrt{y^2+ s^2}}\n",
    "$$"
   ]
  },
  {
   "cell_type": "markdown",
   "metadata": {},
   "source": [
    "$$=\\frac{\\sigma}{2\\epsilon_0} \\sqrt{y^2+s^2} \\Big|_0^a$$"
   ]
  },
  {
   "cell_type": "markdown",
   "metadata": {},
   "source": [
    "当y>0时\n",
    "\n",
    "$$ \\phi(0,y,0) = \n",
    "\\frac{\\sigma}{2\\epsilon_0} (\\sqrt{y^2+a^2} -y)  \n",
    "$$\n"
   ]
  },
  {
   "cell_type": "markdown",
   "metadata": {},
   "source": [
    "当y<0时\n",
    "$$ \\phi(0,y,0) = \n",
    "\\frac{\\sigma}{2\\epsilon_0} (\\sqrt{y^2+a^2} +y)  \n",
    "$$\n"
   ]
  },
  {
   "cell_type": "markdown",
   "metadata": {},
   "source": [
    "#### 圆盘边缘电势\n",
    "\n",
    "积分得\n",
    "\n",
    "$$P_{edge} = \\frac{\\sigma a}{\\pi \\epsilon_0}$$"
   ]
  },
  {
   "cell_type": "markdown",
   "metadata": {},
   "source": [
    "与中心电势比较 $P_{center} = \\sigma a /2\\epsilon_0$,\n",
    "\n",
    "边缘电势较低，因此一定有一个向外得分量。\n",
    "\n",
    "如果电荷可以移动，会自发朝向边缘重排。\n",
    "\n",
    "另一种说法， 均匀带电圆盘并不是一个*等电势面*，任何导体得表面都是等电势面，除非电荷运动。"
   ]
  },
  {
   "cell_type": "markdown",
   "metadata": {},
   "source": [
    "#### 带电圆盘电场\n",
    "\n",
    "对于y>0 , 轴上电场可由电势函数计算\n",
    "$ \\phi(0,y,0) = \n",
    "\\frac{\\sigma}{2\\epsilon_0} (\\sqrt{y^2+a^2} -y)  \n",
    "$\n",
    "\n",
    "$$\n",
    "E_y = - \\frac{\\partial \\phi}{\\partial y}\n",
    "$$\n",
    "\n",
    "$$\n",
    "E_y = \\frac{\\sigma}{2\\epsilon_0} [ 1 -\\frac{y}{\\sqrt{y^2+ a^2}} ]   \\space\\text{y>0}\n",
    "$$"
   ]
  },
  {
   "cell_type": "markdown",
   "metadata": {},
   "source": [
    "电场线和等电势面*互相垂直*.\n",
    "\n",
    "类似于地形图上，等高线垂直方向，斜坡最陡。\n",
    "\n",
    "如果在等势面上，电场有一个平行的分量，那么在等势面上移动一个试探电荷，需要外界做功。\n",
    "\n"
   ]
  },
  {
   "cell_type": "markdown",
   "metadata": {},
   "source": [
    "电荷分布 $\\rho(x,y,z)$ 和 形成功U， 电势 $\\phi(x,y,x)$ 有以下关系：\n",
    "\n",
    "$$U = \\frac{1}{2}\\int\\rho\\phi\\mathrm{d}v$$"
   ]
  },
  {
   "cell_type": "markdown",
   "metadata": {},
   "source": [
    "### 偶极子\n",
    "\n",
    "考虑带有两个相等异号的电荷q组成的电荷系统，电荷分别位于y轴的l/2处。\n",
    "\n",
    "该电荷系统称为*偶极子*。\n",
    "\n",
    "步骤：在球极坐标下，求出电势phi，利用梯度计算电场E，可画出电场线和等势面。在中间计算过程中，将1/4 pi e0 写成k。\n",
    "\n"
   ]
  },
  {
   "cell_type": "markdown",
   "metadata": {},
   "source": [
    "#### 电势 $\\phi$ 和电场 $E$ 的计算\n",
    "\n"
   ]
  },
  {
   "cell_type": "markdown",
   "metadata": {},
   "source": [
    "近似计算得\n",
    "\n",
    "$$\\phi(r,\\theta) = ql\\cos\\theta/(4\\pi\\epsilon_0 r^2) \\equiv \\frac{p\\cos\\theta}{4\\pi\\epsilon_0 r^2}$$"
   ]
  },
  {
   "cell_type": "markdown",
   "metadata": {},
   "source": [
    "其中 $p ==ql$ 称为**偶极矩**"
   ]
  },
  {
   "cell_type": "markdown",
   "metadata": {},
   "source": [
    "上式有以下特点：\n",
    "\n",
    "当r>>l时\n",
    "\n",
    "1. 电势依赖于ql乘积，意味着q大10倍，l小10倍结果不变。\n",
    "\n",
    "**理想偶极子** l->0, q->oo ,ql为有限值。\n",
    "\n"
   ]
  },
  {
   "cell_type": "markdown",
   "metadata": {},
   "source": [
    "2. 电势正比于1/r^2, 而点电荷得电势正比于1/r.\n",
    "\n",
    "因此导致电场正比于1/r^3, 而点电荷得电场会1/r^2 下降。\n",
    "\n",
    "也就是说，偶极子得电势和电场随着r下降得更快，因为两个异号电荷几乎互相抵消。\n",
    "\n",
    "偶极子得电势，像是点电荷电势得*微分*， 因为是两个近似值的差。"
   ]
  },
  {
   "cell_type": "markdown",
   "metadata": {},
   "source": [
    "3. 电势 $\\phi(r,\\theta)$ 依赖于角度，而点电荷不是，因为偶极子沿着点电荷的连线有一个优先的方向。 "
   ]
  },
  {
   "cell_type": "markdown",
   "metadata": {},
   "source": [
    "#### 偶极子的电场 \n",
    "极坐标梯度。\n",
    "\n",
    "$$\\mathbf{E} = -\\nabla \\phi =  \\hat{\\mathbf{r}}  \\frac{\\partial \\phi}{\\partial r} +\n",
    " \\hat{\\mathbf{\\theta}}  \\frac{1}{r}\\frac{\\partial \\phi}{\\partial \\theta} \n",
    "= \\frac{\\lambda \\hat{\\mathbf{r}}  }  {2\\pi\\epsilon_0 r}$$"
   ]
  },
  {
   "cell_type": "markdown",
   "metadata": {},
   "source": [
    "解得\n",
    "\n",
    "$$\\mathbf{E} (r,\\theta)=\n",
    "\\frac{ql}{4\\pi\\epsilon_0 r^3} (2\\cos\\theta \\hat{\\mathbf{r}} + \\sin\\theta \\hat{\\mathbf{\\theta}})\n",
    "$$"
   ]
  },
  {
   "cell_type": "markdown",
   "metadata": {},
   "source": [
    "#### 曲线形状\n",
    "对r，theta 单位矢量比较，代数几何运算\n",
    "\n",
    "\n",
    "等势线：有方程得 $r = r_0 \\sqrt{\\cos\\theta}$\n",
    "\n",
    "\n",
    "斜率为\n",
    "$$\\frac{1}{r}\\frac{dr}{d\\theta} $$\n",
    "\n",
    "等势线斜率解得\n",
    "\n",
    "$-\\frac{\\sin\\theta}{2\\cos\\theta}$\n",
    "\n",
    "电场E方程得\n",
    "\n",
    "等场线斜率\n",
    "$$\\frac{2\\cos\\theta}{\\sin\\theta}$$\n",
    "\n",
    "两斜率为负倒数，可知两曲线交点处正交。\n",
    "\n",
    "根据斜率为\n",
    "$\\frac{1}{r}\\frac{dr}{d\\theta} $\n",
    "\n",
    "带入等场线斜率并分离变量，积分\n",
    "\n",
    "$$\n",
    "\\frac{1}{r}\\frac{dr}{d\\theta} = \\frac{2\\cos\\theta}{\\sin\\theta}\n",
    "==>\\int\\frac{dr}{r} = \\int\\frac{2\\cos\\theta d\\theta}{\\sin\\theta}\n",
    "$$"
   ]
  },
  {
   "cell_type": "markdown",
   "metadata": {},
   "source": [
    "$$\n",
    "==> \\ln r = 2\\ln\\sin\\theta+C\n",
    "$$"
   ]
  },
  {
   "cell_type": "markdown",
   "metadata": {},
   "source": [
    "取幂\n",
    "$$\n",
    "==>  r = e^C \\sin^2\\theta\n",
    "$$"
   ]
  },
  {
   "cell_type": "markdown",
   "metadata": {},
   "source": []
  },
  {
   "cell_type": "markdown",
   "metadata": {},
   "source": [
    "$e^C$ 是与角度 $\\theta=\\pi/2$ 相联系的半径。与 $r= r_0\\sin\\theta$ 的圆相比，等势线在水平方向被挤扁了。"
   ]
  },
  {
   "cell_type": "markdown",
   "metadata": {},
   "source": [
    "#### 球极坐标形态\n",
    "，r= r_0 为球\n",
    "\n",
    "$r = r_0 * \\sin \\theta$ ,为侧方球， $\\phi$ 环绕则为环\n",
    "\n",
    "$r = r_0 * \\sin ^2\\theta$  ,为侧方扁球？，$\\phi$ 环绕则为扁环。\n",
    "\n",
    "$r = r_0 * \\cos \\theta$ ,为上下球\n",
    "\n",
    "$r = r_0 * \\sqrt{\\cos \\theta}$ ,为上下扁球"
   ]
  },
  {
   "cell_type": "markdown",
   "metadata": {},
   "source": [
    "### 矢量函数的散度\n",
    "\n",
    "在三维空间讨论一般矢量函数 $\\mathbf{F}(x,y,x)$"
   ]
  },
  {
   "cell_type": "markdown",
   "metadata": {},
   "source": [
    "考虑一个某种形状的有限体积V，表面记作S.\n",
    "\n",
    "对穿出S的通量 $\\phi$ 为\n",
    "\n",
    "$$\\phi= \\int_s \\mathbf{F} \\cdot \\mathrm{d} \\mathbf{a}$$"
   ]
  },
  {
   "cell_type": "markdown",
   "metadata": {},
   "source": [
    "在积分中，da是一个微小的矢量，其大小等于S上的一个小面元的面积，方向为小面元的外法向。\n",
    "\n"
   ]
  },
  {
   "cell_type": "markdown",
   "metadata": {},
   "source": [
    "$\\mathbf{F}$ 的散度 ， 记为 $\\text{div} \\mathbf{F}$ ，定义为：\n"
   ]
  },
  {
   "cell_type": "markdown",
   "metadata": {},
   "source": [
    "$$\\text{div} \\mathbf{F}=\n",
    "\\lim_{V_i \\rightarrow 0}\n",
    "\\frac{1}{V_i}\n",
    "\\int_{S_i}\n",
    " \\mathbf{F} \\cdot \\mathrm{d} \\mathbf{a}_i\n",
    "$$"
   ]
  },
  {
   "cell_type": "markdown",
   "metadata": {},
   "source": [
    "解释为， 当 $V_i$ 无限小时，单位体积上流出体积 $V_i$ 的通量，为标量，值可能会随着位置的不同而不同。\n",
    "\n",
    "在特定位置时的值，就是 $V_i$ 变得越来越小但始终包含点 $(x,y,z)$ 时，上述比值的极限。\n",
    "\n",
    "所以  $\\text{div} \\mathbf{F}$  为一个跟坐标位置相关的标量函数。"
   ]
  },
  {
   "cell_type": "markdown",
   "metadata": {},
   "source": [
    "### 高斯定理以及其微分形式\n",
    "\n",
    "高斯定理微分式\n",
    "\n",
    "$$\n",
    "\\phi=\n",
    "\\int_s \\mathbf{F} \\cdot \\mathrm{d} \\mathbf{a}\n",
    "=\n",
    "\\int_V \\text{div} \\mathbf{F} \\mathrm{d}v\n",
    "$$"
   ]
  },
  {
   "cell_type": "markdown",
   "metadata": {},
   "source": [
    "高斯定理（散度定理） ，对任意*矢量场*都适用。只要divF的极限存在。\n",
    "\n",
    "证明过程略，思路：在所有小区域边界上的通量会成对抵消。\n",
    "\n"
   ]
  },
  {
   "cell_type": "markdown",
   "metadata": {},
   "source": [
    "对于电场E的高斯定理表明\n",
    "\n",
    "\n",
    "$$\n",
    "\n",
    "\\int_S \\mathbf{E} \\cdot \\mathrm{d} \\mathbf{a}\n",
    "=\n",
    "\\frac{1}{\\epsilon_0}\n",
    "\\int_V \\rho \\mathrm{d}v\n",
    "=\n",
    "\n",
    "\\text{div} \\mathbf{E} \\mathrm{d}v\n",
    "$$"
   ]
  },
  {
   "cell_type": "markdown",
   "metadata": {},
   "source": [
    "要想保证上式正确，在每一点上必须有：\n",
    "\n",
    "$$\n",
    "\n",
    "\\text{div} \\mathbf{E}=  \\frac{\\rho}{\\epsilon_0}\n",
    "$$\n",
    "也可写为\n",
    "$$\n",
    "\n",
    "\\nabla \\cdot \\mathbf{E}=  \\frac{\\rho}{\\epsilon_0}\n",
    "$$"
   ]
  },
  {
   "cell_type": "markdown",
   "metadata": {},
   "source": [
    "这是**高斯定理的微分形式**，\n",
    "\n",
    "既是特定位置处的*电荷密度*与*电场*的关系。"
   ]
  },
  {
   "cell_type": "markdown",
   "metadata": {},
   "source": [
    "#### 笛卡尔坐标系中的散度\n",
    "\n",
    "如何在给定矢量函数F后求散度很有用。\n",
    "\n",
    "假定矢量函数F的表达式是在笛卡尔坐标系中关于x,y,z的函数，这就意味着有三个标量函数。\n",
    "\n",
    "$F_x(x,y,z)$, $F_y(x,y,z)$, $F_z(x,y,z)$.\n",
    "\n"
   ]
  },
  {
   "cell_type": "markdown",
   "metadata": {},
   "source": [
    "取小长方体盒子V_i, 其中一个顶点在点（x,y,z）,边长为 $\\Delta x,\\Delta y , \\Delta z $"
   ]
  },
  {
   "cell_type": "markdown",
   "metadata": {},
   "source": [
    "考虑盒子的两个对面 ，如上表面和下表面。小面积元 $\\rm{d}\\mathbf{a}$ 矢量  $\\hat{\\mathbf{z}}\\Delta x \\Delta y$ , $-\\hat{\\mathbf{z}}\\Delta x \\Delta y$ 来表示。"
   ]
  },
  {
   "cell_type": "markdown",
   "metadata": {},
   "source": [
    "通过这些表面的通量仅包含 $\\mathbf{F}$ 的z分量， 且净通量取决于F_z 在上下底面的差。"
   ]
  },
  {
   "cell_type": "markdown",
   "metadata": {},
   "source": [
    "更精确的讲，取决于F_z 在盒子的上表面的平均值和下表面的平均值的差。\n",
    "\n",
    "在**一阶小量近似**下，该差值为 $(\\partial F_z/\\partial z)\\Delta z$"
   ]
  },
  {
   "cell_type": "markdown",
   "metadata": {},
   "source": [
    "一阶小量近似：：\n",
    "\n",
    "标量函数F_z(x,y,z) ,在点(x,y,z)的邻域内的泰勒级数展开\n",
    "\n",
    "$$\n",
    "F_z(x+a,y+b,z+c)\n",
    "=\n",
    "F_z(x,y,z)+ (a \\frac{\\partial}{\\partial x} +b \\frac{\\partial}{\\partial y} +c \\frac{\\partial}{\\partial z} )F_z\n",
    "+ \\cdots +\n",
    "(\\frac{1}{n!}) (a \\frac{\\partial}{\\partial x} +b \\frac{\\partial}{\\partial y} +c \\frac{\\partial}{\\partial z} )^n F_z\n",
    "$$"
   ]
  },
  {
   "cell_type": "markdown",
   "metadata": {},
   "source": [
    "理解过程，\n",
    "\n",
    "F_z 在盒子地面的平均值等于它在长方体中心的值。用Delta 表示成\n",
    "\n",
    "$$\n",
    "F_z(x,y,z)+ \n",
    "\\frac{\\Delta x}{2}\\frac{\\partial F_z}{\\partial x}\n",
    "+ \n",
    " \\frac{\\Delta y}{2}\\frac{\\partial F_z}{\\partial y}\n",
    "$$"
   ]
  },
  {
   "cell_type": "markdown",
   "metadata": {},
   "source": [
    "F_z 上表面的一阶近似为：\n",
    "\n",
    "$$\n",
    "F_z(x,y,z)+ \n",
    "\\frac{\\Delta x}{2}\\frac{\\partial F_z}{\\partial x}\n",
    "+ \n",
    "\\frac{\\Delta y}{2}\\frac{\\partial F_z}{\\partial y}\n",
    "+\n",
    "\\Delta z \\frac{\\partial F_z}{\\partial z}\n",
    "\n",
    "$$"
   ]
  },
  {
   "cell_type": "markdown",
   "metadata": {},
   "source": [
    "上下表面的面积均为 $\\Delta x \\Delta y$,"
   ]
  },
  {
   "cell_type": "markdown",
   "metadata": {},
   "source": [
    "上下净流通量化简后得 (一阶近似通量差)\n",
    "$$\n",
    "\\Delta x \\Delta y \\Delta z \\frac{\\partial F_z}{\\partial z}\n",
    "$$"
   ]
  },
  {
   "cell_type": "markdown",
   "metadata": {},
   "source": [
    "这个推导过程同样适用于其他得对面。\n",
    "因此通过小盒子得总通量为\n",
    "\n",
    "$$\n",
    "\\phi =\n",
    "\\Delta x \\Delta y \\Delta z\n",
    "( \n",
    "\\frac{\\partial F_x}{\\partial x}+\n",
    "\\frac{\\partial F_y}{\\partial y}+\n",
    "\\frac{\\partial F_z}{\\partial z}\n",
    ")\n",
    "$$"
   ]
  },
  {
   "cell_type": "markdown",
   "metadata": {},
   "source": [
    "盒子体积为$\\Delta x \\Delta y \\Delta z$"
   ]
  },
  {
   "cell_type": "markdown",
   "metadata": {},
   "source": [
    "所以通量和体积比值(**散度**)为\n",
    "$$\n",
    "\\text{div}\\mathbf{F}=\n",
    "\\frac{\\partial F_x}{\\partial x}+\n",
    "\\frac{\\partial F_y}{\\partial y}+\n",
    "\\frac{\\partial F_z}{\\partial z}\n",
    "$$\n",
    "\n",
    "(以上均为标量)"
   ]
  },
  {
   "cell_type": "markdown",
   "metadata": {},
   "source": [
    "\\nabla 的矢量形式\n",
    "\n",
    "$$\n",
    "\\nabla =\n",
    "\\bf{\\hat{x}} \\frac{\\partial }{\\partial x}+\n",
    "\\bf{\\hat{y}} \\frac{\\partial }{\\partial y}+\n",
    "\\bf{\\hat{z}} \\frac{\\partial }{\\partial z}\n",
    "$$\n",
    "\n",
    "函数为矢量函数，偏导数为矢量，点乘单位矢量，结果标量"
   ]
  },
  {
   "cell_type": "markdown",
   "metadata": {},
   "source": [
    "利用nabla算符，散度可写成简单形式\n",
    "\n",
    "$$\\text{div}\\mathbf{F} = \\nabla \\cdot \\mathbf{F}$$"
   ]
  },
  {
   "cell_type": "markdown",
   "metadata": {},
   "source": [
    "理解：：\n",
    "假设F是一个速度场，如果divF在某一个点是一个正值的话，我们在那一点会的到一个\"净流出量\"，\n",
    "\n",
    "叠加通量为0的矢量函数G，原场会变化，且会依然保持正值。\n",
    "\n",
    "散度只是表示矢量场的空间差异的一个方面。"
   ]
  },
  {
   "cell_type": "markdown",
   "metadata": {},
   "source": [
    "### 拉普拉斯算符"
   ]
  },
  {
   "cell_type": "markdown",
   "metadata": {},
   "source": [
    "-----------------\n",
    "\n",
    "标量函数(电势函数) $\\phi$\n",
    "\n",
    "取梯度==>\n",
    "\n",
    "矢量函数(电场函数) $\\mathbf{E}$\n",
    "\n",
    "取散度==>\n",
    "\n",
    "标量函数(散度函数) $\\text{div}\\mathbf{E}$\n",
    "\n",
    "------------------"
   ]
  },
  {
   "cell_type": "markdown",
   "metadata": {},
   "source": [
    "可得关系\n",
    "\n",
    "$$\n",
    "\\text{div}\\mathbf{E} = - \\text{div} \\space \\text{grad}\\phi = \n",
    "-(\n",
    "\\frac{\\partial^2 \\phi}{\\partial x^2}+\n",
    "\\frac{\\partial^2 \\phi}{\\partial y^2}+\n",
    "\\frac{\\partial^2 \\phi}{\\partial z^2}\n",
    ")\n",
    "$$"
   ]
  },
  {
   "cell_type": "markdown",
   "metadata": {},
   "source": [
    "有\n",
    "$$\n",
    "\\text{div}\\mathbf{E} = -\\nabla^2 \\phi\n",
    "$$"
   ]
  },
  {
   "cell_type": "markdown",
   "metadata": {},
   "source": [
    "对 $\\phi$ 的擦欧总过程，称为 div grad, “取__梯度的散度”"
   ]
  },
  {
   "cell_type": "markdown",
   "metadata": {},
   "source": [
    "表示这个操作过程的符号为 $\\nabla^2$"
   ]
  },
  {
   "cell_type": "markdown",
   "metadata": {},
   "source": [
    "称为“拉普拉斯算符”，简称“拉普拉斯”"
   ]
  },
  {
   "cell_type": "markdown",
   "metadata": {},
   "source": [
    "表达式为\n",
    "$$\n",
    "\\frac{\\partial^2 }{\\partial x^2}+\n",
    "\\frac{\\partial^2 }{\\partial y^2}+\n",
    "\\frac{\\partial^2 }{\\partial z^2}\n",
    "$$"
   ]
  },
  {
   "cell_type": "markdown",
   "metadata": {},
   "source": [
    "**泊松方程**\n",
    "\n",
    "某点的电荷密度与该点电视函数的 *局域* 关系::\n",
    "\n",
    "表示了 *电荷密度$\\rho$* 与 *电势$\\phi$的二次微分* 之间的关系\n",
    "\n",
    "$$\n",
    "\\nabla^2 \\phi = -\\frac{\\rho}{\\epsilon_0}\n",
    "$$"
   ]
  },
  {
   "cell_type": "markdown",
   "metadata": {},
   "source": [
    "笛卡尔坐标形式：\n",
    "$$\n",
    "\\frac{\\partial^2 \\phi}{\\partial x^2}+\n",
    "\\frac{\\partial^2 \\phi}{\\partial y^2}+\n",
    "\\frac{\\partial^2 \\phi}{\\partial z^2}\n",
    "=\n",
    "-\\frac{\\rho}{\\epsilon_0}\n",
    "$$"
   ]
  },
  {
   "cell_type": "markdown",
   "metadata": {},
   "source": [
    "可看作积分方程\n",
    "$ \\phi(x,y,z) = \\int_{所有源电荷} \\frac{\\rho(x^\\prime, y^\\prime, z^\\prime, ) \n",
    "\\mathrm{d}x^\\prime \\mathrm{d}y^\\prime \\mathrm{d}z^\\prime \n",
    "}{4 \\pi\\epsilon_0 r}$\n",
    "的微分表达式"
   ]
  },
  {
   "cell_type": "markdown",
   "metadata": {},
   "source": []
  },
  {
   "cell_type": "markdown",
   "metadata": {},
   "source": [
    "### 拉普拉斯方程"
   ]
  },
  {
   "cell_type": "markdown",
   "metadata": {},
   "source": [
    "如果在任何位置处 $\\rho = 0$ ，也就是说，空间中的任何位置都没有电荷，那么电视函数$\\phi$满足以下方程：\n",
    "\n",
    "$$\n",
    "\\nabla^2\\phi = 0\n",
    "$$"
   ]
  },
  {
   "cell_type": "markdown",
   "metadata": {},
   "source": [
    "该方程称为**拉普拉斯方程**\n",
    "\n",
    "从数学的角度看，经典的场理论主要是研究拉普拉斯方程的解。\n",
    "\n",
    "满足拉普拉斯方程的这一类函数被称为*调和函数*。"
   ]
  },
  {
   "cell_type": "markdown",
   "metadata": {},
   "source": [
    "有以下特点：\n",
    "\n",
    "1. 如果函数 $\\phi(x,y,z)$ 满足拉普拉斯方程， 那么函数 $\\phi$ 在任何球面（不一定限定于于一个很小的球面）的*平均值* 等于 *在球心的值*。"
   ]
  },
  {
   "cell_type": "markdown",
   "metadata": {},
   "source": [
    "2. （恩绍原理）在空无一物的空间中（零电荷分布），不可能构建一个使带电粒子能够保持稳定平衡的静电场。"
   ]
  },
  {
   "cell_type": "markdown",
   "metadata": {},
   "source": [
    "可以使一个点点例子在静电场中平衡（合外力为0），但平衡不稳定（稍微偏移平衡位置后原理）\n",
    "\n",
    "使用随时间变化的电场是可以捕获、固定带电粒子。\n",
    "\n",
    "在一个非零电荷分布系统中，可以稳定地固定带电粒子。\n",
    "\n"
   ]
  },
  {
   "cell_type": "markdown",
   "metadata": {},
   "source": [
    "---------------"
   ]
  },
  {
   "cell_type": "markdown",
   "metadata": {},
   "source": [
    "### 矢量函数的旋度\n",
    "\n"
   ]
  },
  {
   "cell_type": "markdown",
   "metadata": {},
   "source": [
    "考虑一个沿着一条闭合路径对矢量场 $\\mathbf{F}(x,y,x)$ 的线积分。\n",
    "\n",
    "其路径为一个首尾相接的曲线C。\n",
    "\n",
    "曲线C可以直观地看作是一个面S的边界。\n",
    "\n",
    "这样的一个闭合路径的线积分值叫**环路积分**；\n",
    "\n",
    "用 $\\Gamma$  \\Gamma"
   ]
  },
  {
   "cell_type": "markdown",
   "metadata": {},
   "source": [
    "$$\n",
    "\\Gamma = \\int_C \\mathbf{F} \\cdot \\rm{d}\\mathbf{s}\n",
    "$$"
   ]
  },
  {
   "cell_type": "markdown",
   "metadata": {},
   "source": [
    "上述 积分中，$\\rm{d}\\mathbf{s}$ 是一个路径元，即在曲线C的切线方向的一个无限小的矢量。\n",
    "\n"
   ]
  },
  {
   "cell_type": "markdown",
   "metadata": {},
   "source": [
    "C的路径方向有两种可能，必须选择一个以确定 $\\rm{d}\\mathbf{s}$ 的方向。曲线C没必要在一个平面上，可以任意扭曲。"
   ]
  },
  {
   "cell_type": "markdown",
   "metadata": {},
   "source": [
    "现在把环路C上的两点链接起来形成一个新的路径B，（相当于架了一座桥，所以可以叫做桥线），因此C变成了两个环路C1，C2."
   ]
  },
  {
   "cell_type": "markdown",
   "metadata": {},
   "source": [
    "每一个都把B作为自己的一部分。"
   ]
  },
  {
   "cell_type": "markdown",
   "metadata": {},
   "source": [
    "对这两个环路按照相同的绕行方向进行线积分，容易看到， $\\Gamma_1 +\\Gamma_2= \\Gamma$"
   ]
  },
  {
   "cell_type": "markdown",
   "metadata": {},
   "source": [
    "因为两个积分通过的路径B，方向相反。"
   ]
  },
  {
   "cell_type": "markdown",
   "metadata": {},
   "source": [
    "对曲线C进一步分割为更多环路，积分之和不变。"
   ]
  },
  {
   "cell_type": "markdown",
   "metadata": {},
   "source": [
    "$$\n",
    "\\int_C \\mathbf{F}\\cdot\\rm{d}\\mathbf{s} =\n",
    "\\sum_{i=1}^{N}\n",
    "\\int_{C_i} \\mathbf{F}\\cdot\\rm{d}\\mathbf{s} _i\n",
    "$$"
   ]
  },
  {
   "cell_type": "markdown",
   "metadata": {},
   "source": [
    "或\n",
    "\n",
    "$$\n",
    "\\Gamma =\n",
    "\\sum_{i=1}^{N}\n",
    "\\Gamma_i\n",
    "$$"
   ]
  },
  {
   "cell_type": "markdown",
   "metadata": {},
   "source": [
    "通过添加桥线的方式进行无限细分，以找到表征某点邻近区域的场F特点的极限值。\n",
    "\n",
    "当对环路进行细分时，用于积分计算的环路不断变小，环路的面积也随之变小。\n",
    "\n",
    "因此很自热地考虑 **环路积分** 与 **环路面积** 的比值"
   ]
  },
  {
   "cell_type": "markdown",
   "metadata": {},
   "source": [
    "就像 **通量** 和 **体积** 的比值一样。\n"
   ]
  },
  {
   "cell_type": "markdown",
   "metadata": {},
   "source": [
    "差别在于：\n",
    "\n",
    "环路包围的小面积 $\\mathbf{a}_i$ 是矢量。体积V_i 是标量。\n",
    "\n",
    "在空间中的表面有一个方向，体积没有方向。"
   ]
  },
  {
   "cell_type": "markdown",
   "metadata": {},
   "source": [
    "单位矢量 $\\hat{\\mathbf{n}}$ ,表示了小块面积的法线方向。"
   ]
  },
  {
   "cell_type": "markdown",
   "metadata": {},
   "source": [
    "环路积分与面积的比值的极限：\n",
    "\n",
    "$$\n",
    "\\lim_{a_i\\rightarrow 0} \n",
    "\\frac{\\Gamma}{a_i}\n",
    "$$\n",
    "\n",
    "或\n",
    "\n",
    "\n",
    "$$\n",
    "\\lim_{a_i\\rightarrow 0} \n",
    "\\frac{\n",
    "    \\int_{C_i} \\mathbf{F}\\cdot \\rm{d}\\mathbf{s}\n",
    "}{a_i}\n",
    "$$\n"
   ]
  },
  {
   "cell_type": "markdown",
   "metadata": {},
   "source": [
    "确定符号的规则是，矢量 $\\mathbf{n}$ 的防线和线积分环路C_i的绕行方向符合右手定则。\n",
    "\n"
   ]
  },
  {
   "cell_type": "markdown",
   "metadata": {},
   "source": [
    "这个过程所得到的极限值是一个标量，\n",
    "\n",
    "这个量与 **矢量场F在P点的值** ，和 **$\\mathbf{n}$的方向** 相关。"
   ]
  },
  {
   "cell_type": "markdown",
   "metadata": {},
   "source": [
    "在笛卡尔坐标系，用到三个方向，得到三个不同的值。结果证明这些值可以看作一个矢量的三个分量，称为 **$\\mathbf{F}$ 的旋度**。"
   ]
  },
  {
   "cell_type": "markdown",
   "metadata": {},
   "source": [
    "$$\n",
    "(\\text{curl} \\mathbf{F}) \\cdot \\hat{\\mathbf{n}}\n",
    "=\n",
    "\\lim_{a_i\\rightarrow 0} \n",
    "\\frac{\n",
    "    \\int_{C_i} \\mathbf{F}\\cdot \\rm{d}\\mathbf{s}\n",
    "}{a_i}\n",
    "$$"
   ]
  },
  {
   "cell_type": "markdown",
   "metadata": {},
   "source": [
    "$\\text{curl} \\mathbf{F}(x,y,z)$ 本身就是一个坐标相关的矢量方程。\n",
    "\n",
    "其在空间中某点的方向，是通过该点且 **回路积分** 最大的的平面的法向。\n",
    "\n",
    "其大小就是围绕这该点的平面上的环路积分值/单位面积 的极限。\n"
   ]
  },
  {
   "cell_type": "markdown",
   "metadata": {},
   "source": [
    "curlF与坐标系的种类无关。"
   ]
  },
  {
   "cell_type": "markdown",
   "metadata": {},
   "source": [
    "#### 斯托克斯定理\n",
    "\n",
    "$$\n",
    "\\int_{C} \\mathbf{F}\\cdot \\rm{d}\\mathbf{s}\n",
    "=\n",
    "\\int_S \\text{curl}\\mathbf{F}\\cdot \\rm{d}\\mathbf{a}\n",
    "$$"
   ]
  },
  {
   "cell_type": "markdown",
   "metadata": {},
   "source": [
    "矢量场F闭合曲线线积分和\n",
    "\n",
    "=\n",
    "\n",
    "F旋度场 的 面积分和。"
   ]
  },
  {
   "cell_type": "markdown",
   "metadata": {},
   "source": [
    "斯托克斯定理涉及了一个*表面*和*表面的边界线*。\n",
    "\n",
    "高斯定理则涉及了一个*体积*和包围该体积的*面积*"
   ]
  },
  {
   "cell_type": "code",
   "execution_count": null,
   "metadata": {},
   "outputs": [],
   "source": []
  },
  {
   "cell_type": "markdown",
   "metadata": {},
   "source": [
    "### 练习\n",
    "----------------------------------\n",
    "\n",
    "已知\n",
    "$\\mathbf{E} = (2xy^2, 2x^y,3xz^2)$ \n",
    "求 $\\text{curl}\\mathbf{E}$"
   ]
  },
  {
   "cell_type": "markdown",
   "metadata": {},
   "source": []
  },
  {
   "cell_type": "code",
   "execution_count": 69,
   "metadata": {},
   "outputs": [
    {
     "data": {
      "text/latex": [
       "$\\displaystyle \\left(\\mathbf{{x}_{E}} \\mathbf{{y}_{E}}\\right)\\mathbf{\\hat{j}_{E}} + \\left(- \\mathbf{{x}_{E}} \\mathbf{{z}_{E}}\\right)\\mathbf{\\hat{k}_{E}}$"
      ],
      "text/plain": [
       "E.x*E.y*E.j + (-E.x*E.z)*E.k"
      ]
     },
     "execution_count": 69,
     "metadata": {},
     "output_type": "execute_result"
    }
   ],
   "source": [
    "from sympy.vector import CoordSys3D , gradient , Del\n",
    "C = CoordSys3D('E')\n",
    "delop = Del()\n",
    "delop.cross(C.x*C.y*C.z*C.i).doit()\n",
    "(delop^C.x*C.y*C.z*C.i).doit()"
   ]
  },
  {
   "cell_type": "code",
   "execution_count": 70,
   "metadata": {},
   "outputs": [
    {
     "data": {
      "text/latex": [
       "$\\displaystyle \\operatorname{CoordSys3D}\\left(N, \\left( \\left[\\begin{matrix}1 & 0 & 0\\\\0 & 1 & 0\\\\0 & 0 & 1\\end{matrix}\\right], \\  \\mathbf{\\hat{0}}\\right)\\right)$"
      ],
      "text/plain": [
       "N"
      ]
     },
     "execution_count": 70,
     "metadata": {},
     "output_type": "execute_result"
    }
   ],
   "source": [
    "from sympy.vector import CoordSys3D , gradient , Del\n",
    "N = CoordSys3D('N')\n",
    "N"
   ]
  },
  {
   "cell_type": "markdown",
   "metadata": {},
   "source": [
    "N坐标系统下有三个正交基向量，我们可以通过i，j和k三个属性来使用"
   ]
  },
  {
   "cell_type": "markdown",
   "metadata": {},
   "source": [
    "当一个基向量BaseVector乘以标量或者其他SymPy表达式，就得到了VectorMul对象（相加的话得到VectorAdd对象，知道就行，都是Vector的子类）"
   ]
  },
  {
   "cell_type": "code",
   "execution_count": null,
   "metadata": {},
   "outputs": [],
   "source": [
    "N.i"
   ]
  },
  {
   "cell_type": "code",
   "execution_count": null,
   "metadata": {},
   "outputs": [],
   "source": [
    "3*N.i"
   ]
  },
  {
   "cell_type": "code",
   "execution_count": null,
   "metadata": {},
   "outputs": [],
   "source": [
    "type(3*N.i)"
   ]
  },
  {
   "cell_type": "markdown",
   "metadata": {},
   "source": [
    "零向量为Vector.zero，与坐标系统无关"
   ]
  },
  {
   "cell_type": "code",
   "execution_count": null,
   "metadata": {},
   "outputs": [],
   "source": [
    "from sympy.vector import Vector\n",
    "Vector.zero\n",
    "# 0\n",
    "type(Vector.zero)"
   ]
  },
  {
   "cell_type": "code",
   "execution_count": null,
   "metadata": {},
   "outputs": [],
   "source": [
    "# 基向量+零向量\n",
    "N.i + Vector.zero\n",
    "# N.i"
   ]
  },
  {
   "cell_type": "code",
   "execution_count": null,
   "metadata": {},
   "outputs": [],
   "source": [
    "# 零向量与零向量的数乘等价\n",
    "Vector.zero == 2*Vector.zero\n",
    "# True"
   ]
  },
  {
   "cell_type": "markdown",
   "metadata": {},
   "source": [
    "除了基向量外。每个坐标系统下自动定义了坐标变量（base scalars, or coordinate variables，注意是标量，表示坐标变量），包括X，Y和Z，定义在BaseScalar类中。可以通过坐标系的属性.x，.y或.z来使用，使用方法与一般的SymPy符号类似，如下式定义了一个势函数场2 x 2 y 2x^2y2x \n",
    "2\n",
    " y："
   ]
  },
  {
   "cell_type": "code",
   "execution_count": null,
   "metadata": {},
   "outputs": [],
   "source": [
    "R = CoordSys3D('R')\n",
    "# 一个标量电势场\n",
    "electric_potential = 2*R.x**2 *R.y\n",
    "electric_potential\n",
    "# 2*R.x**2*R.y"
   ]
  },
  {
   "cell_type": "code",
   "execution_count": 15,
   "metadata": {},
   "outputs": [],
   "source": [
    "x, y,z = symbols('x y z')"
   ]
  },
  {
   "cell_type": "code",
   "execution_count": null,
   "metadata": {},
   "outputs": [],
   "source": [
    "# 一个矢量场，但是任何位置的值都是2xy\n",
    "expr = 2*x*y*R.x\n",
    "expr"
   ]
  },
  {
   "cell_type": "code",
   "execution_count": null,
   "metadata": {},
   "outputs": [],
   "source": [
    "E = CoordSys3D('E')\n",
    "exprE = (2*E.x*E.y**2 + E.z**3)*E.i +(2*E.x**2*E.y)*E.j + (3*E.x*E.z**2)*E.k\n",
    "exprE"
   ]
  },
  {
   "cell_type": "code",
   "execution_count": null,
   "metadata": {},
   "outputs": [],
   "source": [
    "electric_potential\n"
   ]
  },
  {
   "cell_type": "code",
   "execution_count": null,
   "metadata": {},
   "outputs": [],
   "source": [
    "electric_potential.doit()"
   ]
  },
  {
   "cell_type": "markdown",
   "metadata": {},
   "source": [
    "点乘、叉乘\n",
    "向量点乘函数.cot()，向量叉乘函数.cross()"
   ]
  },
  {
   "cell_type": "code",
   "execution_count": null,
   "metadata": {},
   "outputs": [],
   "source": [
    "v1 = 2*N.i + 3*N.j - N.k\n",
    "v2 = N.i - 4*N.j + N.k\n",
    "# v1点乘v2，得到标量\n",
    "v1.dot(v2)\n",
    "# -11\n",
    "# v1叉乘v2，得到矢量\n",
    "v1.cross(v2)\n",
    "# (-1)*N.i + (-3)*N.j + (-11)*N.k\n",
    "v2.cross(v1)\n",
    "# N.i + 3*N.j + 11*N.k"
   ]
  },
  {
   "cell_type": "markdown",
   "metadata": {},
   "source": [
    "注意，符号&和^被重载为了点乘和叉乘，方便直接使用（不过官方并不推荐，理由是使用函数显得清晰易懂）"
   ]
  },
  {
   "cell_type": "code",
   "execution_count": null,
   "metadata": {},
   "outputs": [],
   "source": [
    "v1 & v2\n",
    "# -11\n",
    "v1 ^ v2\n",
    "# (-1)*N.i + (-3)*N.j + (-11)*N.k"
   ]
  },
  {
   "cell_type": "markdown",
   "metadata": {},
   "source": [
    "并矢/外积(Dyadic)\n",
    "向量并矢之后成为二阶张量。外积的函数为.outer()，或者用重载的运算符|。"
   ]
  },
  {
   "cell_type": "code",
   "execution_count": null,
   "metadata": {},
   "outputs": [],
   "source": [
    "from sympy.vector import CoordSys3D\n",
    "N = CoordSys3D('N')\n",
    "N.i.outer(N.j)\n",
    "# (N.i|N.j)             # 两个基向量的并矢\n",
    "N.i|N.j\n",
    "# (N.i|N.j)\n",
    "\n",
    "# 对并矢进行运算\n",
    "dyad = N.i.outer(N.k)\n",
    "dyad*3\n",
    "# 3*(N.i|N.k)\n",
    "dyad - dyad\n",
    "# 0\n",
    "dyad + 2*(N.j|N.i)\n",
    "# (N.i|N.k) + 2*(N.j|N.i)"
   ]
  },
  {
   "cell_type": "markdown",
   "metadata": {},
   "source": [
    "点乘和叉乘在并矢之间、并矢和向量之间可以正常使用，如i j ⋅ j j = i j \\boldsymbol i \\boldsymbol j \\cdot \\boldsymbol j\\boldsymbol j = \\boldsymbol i\\boldsymbol jij⋅jj=ij："
   ]
  },
  {
   "cell_type": "code",
   "execution_count": null,
   "metadata": {},
   "outputs": [],
   "source": [
    "d = N.i.outer(N.j)\n",
    "d.dot(N.j|N.j)\n",
    "# (N.i|N.j)"
   ]
  },
  {
   "cell_type": "markdown",
   "metadata": {},
   "source": [
    "ij⋅i=0："
   ]
  },
  {
   "cell_type": "code",
   "execution_count": null,
   "metadata": {},
   "outputs": [],
   "source": [
    "d = N.i.outer(N.j)\n",
    "d.dot(N.i)\n",
    "# 0"
   ]
  },
  {
   "cell_type": "code",
   "execution_count": null,
   "metadata": {},
   "outputs": [],
   "source": [
    "N.k ^ d\n",
    "# (N.j|N.j)"
   ]
  },
  {
   "cell_type": "markdown",
   "metadata": {},
   "source": [
    "梯度\n",
    "对标量场求梯度 ∇ ϕ \\nabla \\phi∇ϕ"
   ]
  },
  {
   "cell_type": "code",
   "execution_count": 46,
   "metadata": {},
   "outputs": [
    {
     "data": {
      "text/latex": [
       "$\\displaystyle \\left(2 \\mathbf{{x}_{E}} \\mathbf{{y}_{E}}^{2} + \\mathbf{{z}_{E}}^{3}\\right)\\mathbf{\\hat{i}_{E}} + \\left(2 \\mathbf{{x}_{E}}^{2} \\mathbf{{y}_{E}}\\right)\\mathbf{\\hat{j}_{E}} + \\left(3 \\mathbf{{x}_{E}} \\mathbf{{z}_{E}}^{2}\\right)\\mathbf{\\hat{k}_{E}}$"
      ],
      "text/plain": [
       "(2*E.x*E.y**2 + E.z**3)*E.i + 2*E.x**2*E.y*E.j + 3*E.x*E.z**2*E.k"
      ]
     },
     "execution_count": 46,
     "metadata": {},
     "output_type": "execute_result"
    }
   ],
   "source": [
    "E = CoordSys3D('E')\n",
    "exprE = (2*E.x*E.y**2 + E.z**3)*E.i +(2*E.x**2*E.y)*E.j + (3*E.x*E.z**2)*E.k\n",
    "exprE\n",
    "\n"
   ]
  },
  {
   "cell_type": "markdown",
   "metadata": {},
   "source": [
    "∇算子（Hamiltonian算子）\n",
    "Del （deloperator）算子，又称哈密顿算子、Nabla算子，用来表示计算标量场的梯度、向量场的散度及旋度。\n",
    "\n",
    "在SymPy中，∇ \\nabla∇算子通过Del类实现。"
   ]
  },
  {
   "cell_type": "code",
   "execution_count": 49,
   "metadata": {},
   "outputs": [
    {
     "data": {
      "text/latex": [
       "$\\displaystyle \\left(\\frac{\\partial}{\\partial \\mathbf{{x}_{C}}} \\mathbf{{x}_{C}} \\mathbf{{y}_{C}} \\mathbf{{z}_{C}}\\right)\\mathbf{\\hat{i}_{C}} + \\left(\\frac{\\partial}{\\partial \\mathbf{{y}_{C}}} \\mathbf{{x}_{C}} \\mathbf{{y}_{C}} \\mathbf{{z}_{C}}\\right)\\mathbf{\\hat{j}_{C}} + \\left(\\frac{\\partial}{\\partial \\mathbf{{z}_{C}}} \\mathbf{{x}_{C}} \\mathbf{{y}_{C}} \\mathbf{{z}_{C}}\\right)\\mathbf{\\hat{k}_{C}}$"
      ],
      "text/plain": [
       "(Derivative(C.x*C.y*C.z, C.x))*C.i + (Derivative(C.x*C.y*C.z, C.y))*C.j + (Derivative(C.x*C.y*C.z, C.z))*C.k"
      ]
     },
     "execution_count": 49,
     "metadata": {},
     "output_type": "execute_result"
    }
   ],
   "source": [
    "delop = Del()   \n",
    "gradient_field = delop(C.x*C.y*C.z)     # 对标量场求梯度\n",
    "gradient_field"
   ]
  },
  {
   "cell_type": "code",
   "execution_count": null,
   "metadata": {},
   "outputs": [],
   "source": [
    "gradient_field.doit()                   # 通过 .doit() 化简"
   ]
  },
  {
   "cell_type": "markdown",
   "metadata": {},
   "source": [
    "旋度\n",
    "对矢量场求旋度  $ \\nabla \\times \\boldsymbol{F} $"
   ]
  },
  {
   "cell_type": "code",
   "execution_count": 51,
   "metadata": {},
   "outputs": [
    {
     "data": {
      "text/latex": [
       "$\\displaystyle \\mathbf{\\hat{0}}$"
      ],
      "text/plain": [
       "0"
      ]
     },
     "execution_count": 51,
     "metadata": {},
     "output_type": "execute_result"
    }
   ],
   "source": [
    "from sympy.vector import CoordSys3D, Del\n",
    "C = CoordSys3D('C')\n",
    "delop = Del()\n",
    "delop.cross(exprE).doit()\n",
    "# C.x*C.y*C.j + (-C.x*C.z)*C.k\n",
    "#(delop ^ C.x*C.y*C.z*C.i).doit()\n",
    "# C.x*C.y*C.j + (-C.x*C.z)*C.k"
   ]
  },
  {
   "cell_type": "code",
   "execution_count": 52,
   "metadata": {},
   "outputs": [
    {
     "data": {
      "text/latex": [
       "$\\displaystyle \\left(\\frac{\\partial}{\\partial \\mathbf{{y}_{E}}} 3 \\mathbf{{x}_{E}} \\mathbf{{z}_{E}}^{2} - \\frac{\\partial}{\\partial \\mathbf{{z}_{E}}} 2 \\mathbf{{x}_{E}}^{2} \\mathbf{{y}_{E}}\\right)\\mathbf{\\hat{i}_{E}} + \\left(- \\frac{\\partial}{\\partial \\mathbf{{x}_{E}}} 3 \\mathbf{{x}_{E}} \\mathbf{{z}_{E}}^{2} + \\frac{\\partial}{\\partial \\mathbf{{z}_{E}}} \\left(2 \\mathbf{{x}_{E}} \\mathbf{{y}_{E}}^{2} + \\mathbf{{z}_{E}}^{3}\\right)\\right)\\mathbf{\\hat{j}_{E}} + \\left(\\frac{\\partial}{\\partial \\mathbf{{x}_{E}}} 2 \\mathbf{{x}_{E}}^{2} \\mathbf{{y}_{E}} - \\frac{\\partial}{\\partial \\mathbf{{y}_{E}}} \\left(2 \\mathbf{{x}_{E}} \\mathbf{{y}_{E}}^{2} + \\mathbf{{z}_{E}}^{3}\\right)\\right)\\mathbf{\\hat{k}_{E}}$"
      ],
      "text/plain": [
       "(Derivative(3*E.x*E.z**2, E.y) - Derivative(2*E.x**2*E.y, E.z))*E.i + (-Derivative(3*E.x*E.z**2, E.x) + Derivative(2*E.x*E.y**2 + E.z**3, E.z))*E.j + (Derivative(2*E.x**2*E.y, E.x) - Derivative(2*E.x*E.y**2 + E.z**3, E.y))*E.k"
      ]
     },
     "execution_count": 52,
     "metadata": {},
     "output_type": "execute_result"
    }
   ],
   "source": [
    "delop.cross(exprE)"
   ]
  },
  {
   "cell_type": "markdown",
   "metadata": {},
   "source": [
    "此外，也可以使用专门用来求旋度的函数curl()"
   ]
  },
  {
   "cell_type": "code",
   "execution_count": null,
   "metadata": {},
   "outputs": [],
   "source": [
    "from sympy.vector import curl\n",
    "curl(C.x*C.y*C.z*C.i)\n",
    "# C.x*C.y*C.j + (-C.x*C.z)*C.k"
   ]
  },
  {
   "cell_type": "markdown",
   "metadata": {},
   "source": [
    "散度\n",
    "对矢量场求散度 $\\nabla \\cdot \\boldsymbol F$"
   ]
  },
  {
   "cell_type": "code",
   "execution_count": null,
   "metadata": {},
   "outputs": [],
   "source": [
    "from sympy.vector import CoordSys3D, Del\n",
    "C = CoordSys3D('C')\n",
    "delop = Del()\n",
    "delop.dot(C.x*C.y*C.z*(C.i + C.j + C.k)).doit()\n",
    "# C.x*C.y + C.x*C.z + C.y*C.z\n",
    "(delop & C.x*C.y*C.z*(C.i + C.j + C.k)).doit()\n",
    "# C.x*C.y + C.x*C.z + C.y*C.z"
   ]
  },
  {
   "cell_type": "markdown",
   "metadata": {},
   "source": [
    "此外，也可以使用专门用来求散度的函数divergence()"
   ]
  },
  {
   "cell_type": "code",
   "execution_count": null,
   "metadata": {},
   "outputs": [],
   "source": [
    "from sympy.vector import divergence\n",
    "divergence(C.x*C.y*C.z*(C.i + C.j + C.k))\n",
    "# C.x*C.y + C.x*C.z + C.y*C.z"
   ]
  },
  {
   "cell_type": "markdown",
   "metadata": {},
   "source": [
    "除了上述三种常见的∇ \\nabla∇用途，Del()还可以用来求方向导数（directional derivative）。"
   ]
  },
  {
   "cell_type": "code",
   "execution_count": null,
   "metadata": {},
   "outputs": [],
   "source": [
    "from sympy.vector import CoordSys3D, Del\n",
    "C = CoordSys3D('C')\n",
    "delop = Del()\n",
    "vel = C.i + C.j + C.k\n",
    "scalar_field = C.x*C.y*C.z\n",
    "vector_field = C.x*C.y*C.z*C.i\n",
    "(vel.dot(delop))(scalar_field)\n",
    "# C.x*C.y + C.x*C.z + C.y*C.z\n",
    "(vel & delop)(vector_field)\n",
    "# (C.x*C.y + C.x*C.z + C.y*C.z)*C.i"
   ]
  },
  {
   "cell_type": "markdown",
   "metadata": {},
   "source": [
    "此外，也可以使用专门的函数directional_derivative()"
   ]
  },
  {
   "cell_type": "code",
   "execution_count": null,
   "metadata": {},
   "outputs": [],
   "source": [
    "from sympy.vector import directional_derivative\n",
    "directional_derivative(C.x*C.y*C.z, 3*C.i + 4*C.j + C.k)\n",
    "# C.x*C.y + 4*C.x*C.z + 3*C.y*C.z"
   ]
  },
  {
   "cell_type": "markdown",
   "metadata": {},
   "source": [
    "向量操作"
   ]
  },
  {
   "cell_type": "markdown",
   "metadata": {},
   "source": [
    "查看向量的元素，用.components属性"
   ]
  },
  {
   "cell_type": "code",
   "execution_count": null,
   "metadata": {},
   "outputs": [],
   "source": [
    "from sympy.vector import CoordSys3D\n",
    "C = CoordSys3D('C')\n",
    "v = 3*C.i + 4*C.j + 5*C.k\n",
    "v.components\n",
    "# {C.i: 3, C.j: 4, C.k: 5}"
   ]
  },
  {
   "cell_type": "markdown",
   "metadata": {},
   "source": [
    "获得向量的模，用.magnitude()函数"
   ]
  },
  {
   "cell_type": "code",
   "execution_count": null,
   "metadata": {},
   "outputs": [],
   "source": [
    "v.magnitude()"
   ]
  },
  {
   "cell_type": "markdown",
   "metadata": {},
   "source": [
    "获得标准化后的向量，用.normalize()函数"
   ]
  },
  {
   "cell_type": "code",
   "execution_count": null,
   "metadata": {},
   "outputs": [],
   "source": [
    "v.normalize()"
   ]
  },
  {
   "cell_type": "markdown",
   "metadata": {},
   "source": [
    "（对向量内的符号）求导 diff(expr, symbol)，或者Derivative(expr, symbol)"
   ]
  },
  {
   "cell_type": "markdown",
   "metadata": {},
   "source": [
    "（对向量内的符号）求积分Integral(expr, symbol)"
   ]
  },
  {
   "cell_type": "markdown",
   "metadata": {},
   "source": []
  },
  {
   "cell_type": "markdown",
   "metadata": {},
   "source": [
    "查询某个矢量场是否为保守场（旋度为零、标量场梯度形成的场）"
   ]
  },
  {
   "cell_type": "code",
   "execution_count": 3,
   "metadata": {},
   "outputs": [
    {
     "data": {
      "text/latex": [
       "$\\displaystyle \\mathbf{\\hat{0}}$"
      ],
      "text/plain": [
       "0"
      ]
     },
     "execution_count": 3,
     "metadata": {},
     "output_type": "execute_result"
    }
   ],
   "source": [
    "from sympy.vector import CoordSys3D, is_conservative\n",
    "from sympy.vector import curl\n",
    "R = CoordSys3D('R')\n",
    "field = R.y*R.z*R.i + R.x*R.z*R.j + R.x*R.y*R.k\n",
    "is_conservative(field)\n",
    "# True\n",
    "curl(field)\n",
    "# 0"
   ]
  },
  {
   "cell_type": "code",
   "execution_count": 4,
   "metadata": {},
   "outputs": [
    {
     "data": {
      "text/latex": [
       "$\\displaystyle \\left(2 \\mathbf{{x}_{E}} \\mathbf{{y}_{E}}^{2} + \\mathbf{{z}_{E}}^{3}\\right)\\mathbf{\\hat{i}_{E}} + \\left(2 \\mathbf{{x}_{E}}^{2} \\mathbf{{y}_{E}}\\right)\\mathbf{\\hat{j}_{E}} + \\left(3 \\mathbf{{x}_{E}} \\mathbf{{z}_{E}}^{2}\\right)\\mathbf{\\hat{k}_{E}}$"
      ],
      "text/plain": [
       "(2*E.x*E.y**2 + E.z**3)*E.i + 2*E.x**2*E.y*E.j + 3*E.x*E.z**2*E.k"
      ]
     },
     "execution_count": 4,
     "metadata": {},
     "output_type": "execute_result"
    }
   ],
   "source": [
    "E = CoordSys3D('E')\n",
    "exprE = (2*E.x*E.y**2 + E.z**3)*E.i +(2*E.x**2*E.y)*E.j + (3*E.x*E.z**2)*E.k\n",
    "exprE"
   ]
  },
  {
   "cell_type": "markdown",
   "metadata": {},
   "source": [
    "is_conservative(exprE)"
   ]
  },
  {
   "cell_type": "code",
   "execution_count": 5,
   "metadata": {},
   "outputs": [
    {
     "data": {
      "text/plain": [
       "True"
      ]
     },
     "execution_count": 5,
     "metadata": {},
     "output_type": "execute_result"
    }
   ],
   "source": [
    "is_conservative(exprE)"
   ]
  },
  {
   "cell_type": "code",
   "execution_count": 6,
   "metadata": {},
   "outputs": [
    {
     "data": {
      "text/latex": [
       "$\\displaystyle \\mathbf{\\hat{0}}$"
      ],
      "text/plain": [
       "0"
      ]
     },
     "execution_count": 6,
     "metadata": {},
     "output_type": "execute_result"
    }
   ],
   "source": [
    "curl(field)"
   ]
  },
  {
   "cell_type": "markdown",
   "metadata": {},
   "source": [
    "也可以计算某个保守场对应的标量势场（忽略了积分常数）："
   ]
  },
  {
   "cell_type": "code",
   "execution_count": 10,
   "metadata": {},
   "outputs": [
    {
     "data": {
      "text/latex": [
       "$\\displaystyle \\mathbf{{x}_{E}}^{2} \\mathbf{{y}_{E}}^{2} + \\mathbf{{x}_{E}} \\mathbf{{z}_{E}}^{3}$"
      ],
      "text/plain": [
       "E.x**2*E.y**2 + E.x*E.z**3"
      ]
     },
     "execution_count": 10,
     "metadata": {},
     "output_type": "execute_result"
    }
   ],
   "source": [
    "from sympy.vector import CoordSys3D, scalar_potential\n",
    "scalar_potential(exprE, E)"
   ]
  },
  {
   "cell_type": "markdown",
   "metadata": {},
   "source": [
    "化简.simplify()、三角函数化简trigsimp()"
   ]
  },
  {
   "cell_type": "code",
   "execution_count": 15,
   "metadata": {},
   "outputs": [
    {
     "data": {
      "text/latex": [
       "$\\displaystyle \\operatorname{CoordSys3D}\\left(N, \\left( \\left[\\begin{matrix}1 & 0 & 0\\\\0 & 1 & 0\\\\0 & 0 & 1\\end{matrix}\\right], \\  \\mathbf{\\hat{0}}\\right)\\right)$"
      ],
      "text/plain": [
       "N"
      ]
     },
     "execution_count": 15,
     "metadata": {},
     "output_type": "execute_result"
    }
   ],
   "source": [
    "from sympy.vector import CoordSys3D\n",
    "N = CoordSys3D('N')  # 坐标系统的名字叫N\n",
    "N"
   ]
  },
  {
   "cell_type": "markdown",
   "metadata": {},
   "source": []
  },
  {
   "cell_type": "code",
   "execution_count": 17,
   "metadata": {},
   "outputs": [
    {
     "data": {
      "text/latex": [
       "$\\displaystyle \\mathbf{\\hat{i}_{N}} + \\left(- \\cos{\\left(2 b \\right)}\\right)\\mathbf{\\hat{k}_{N}}$"
      ],
      "text/plain": [
       "N.i + (-cos(2*b))*N.k"
      ]
     },
     "execution_count": 17,
     "metadata": {},
     "output_type": "execute_result"
    }
   ],
   "source": [
    "from sympy.abc import a, b, c\n",
    "from sympy import sin, cos, trigsimp,diff\n",
    "\n",
    "\n",
    "v = (sin(a)**2 + cos(a)**2)*N.i - (2*cos(b)**2 - 1)*N.k\n",
    "trigsimp(v)\n",
    "# N.i + (-cos(2*b))*N.k\n",
    "\n"
   ]
  },
  {
   "cell_type": "code",
   "execution_count": 18,
   "metadata": {},
   "outputs": [
    {
     "data": {
      "text/latex": [
       "$\\displaystyle \\mathbf{\\hat{i}_{N}} + \\left(- \\cos{\\left(2 b \\right)}\\right)\\mathbf{\\hat{k}_{N}}$"
      ],
      "text/plain": [
       "N.i + (-cos(2*b))*N.k"
      ]
     },
     "execution_count": 18,
     "metadata": {},
     "output_type": "execute_result"
    }
   ],
   "source": [
    "v.simplify()\n",
    "# N.i + (-cos(2*b))*N.k"
   ]
  },
  {
   "cell_type": "markdown",
   "metadata": {},
   "source": [
    ".factor()函数可以对基向量的系数进行因式分解"
   ]
  },
  {
   "cell_type": "code",
   "execution_count": 20,
   "metadata": {},
   "outputs": [
    {
     "data": {
      "text/latex": [
       "$\\displaystyle \\left(\\left(a + b\\right) \\left(b + c\\right)\\right)\\mathbf{\\hat{i}_{N}} + \\mathbf{\\hat{j}_{N}}$"
      ],
      "text/plain": [
       "((a + b)*(b + c))*N.i + N.j"
      ]
     },
     "execution_count": 20,
     "metadata": {},
     "output_type": "execute_result"
    }
   ],
   "source": [
    "from sympy.abc import a, b, c\n",
    "from sympy import sin, cos, trigsimp, diff\n",
    "v = (a*b + a*c + b**2 + b*c)*N.i + N.j\n",
    "v.factor()\n",
    "# ((a + b)*(b + c))*N.i + N.j"
   ]
  },
  {
   "cell_type": "markdown",
   "metadata": {},
   "source": [
    "向量转化为矩阵Matrix\n",
    "通过sympy.vector的to_matrix()可以将向量转化为矩阵"
   ]
  },
  {
   "cell_type": "code",
   "execution_count": 21,
   "metadata": {},
   "outputs": [
    {
     "data": {
      "text/latex": [
       "$\\displaystyle \\left[\\begin{matrix}1\\\\1\\\\1\\end{matrix}\\right]$"
      ],
      "text/plain": [
       "Matrix([\n",
       "[1],\n",
       "[1],\n",
       "[1]])"
      ]
     },
     "execution_count": 21,
     "metadata": {},
     "output_type": "execute_result"
    }
   ],
   "source": [
    "from sympy.vector import *\n",
    "N = CoordSys3D('N')\n",
    "v = N.i + N.j + N.k\n",
    "v.to_matrix(N)"
   ]
  },
  {
   "cell_type": "code",
   "execution_count": 22,
   "metadata": {},
   "outputs": [
    {
     "data": {
      "text/latex": [
       "$\\displaystyle \\left[\\begin{matrix}2 \\mathbf{{x}_{E}} \\mathbf{{y}_{E}}^{2} + \\mathbf{{z}_{E}}^{3}\\\\2 \\mathbf{{x}_{E}}^{2} \\mathbf{{y}_{E}}\\\\3 \\mathbf{{x}_{E}} \\mathbf{{z}_{E}}^{2}\\end{matrix}\\right]$"
      ],
      "text/plain": [
       "Matrix([\n",
       "[2*E.x*E.y**2 + E.z**3],\n",
       "[         2*E.x**2*E.y],\n",
       "[         3*E.x*E.z**2]])"
      ]
     },
     "execution_count": 22,
     "metadata": {},
     "output_type": "execute_result"
    }
   ],
   "source": [
    "exprE.to_matrix(E)"
   ]
  },
  {
   "cell_type": "markdown",
   "metadata": {},
   "source": [
    "实践与应用"
   ]
  },
  {
   "cell_type": "markdown",
   "metadata": {},
   "source": [
    "∇⋅(fv)=f(∇⋅v)+v⋅(∇f)"
   ]
  },
  {
   "cell_type": "code",
   "execution_count": 23,
   "metadata": {},
   "outputs": [
    {
     "data": {
      "text/plain": [
       "True"
      ]
     },
     "execution_count": 23,
     "metadata": {},
     "output_type": "execute_result"
    }
   ],
   "source": [
    "from sympy.vector import CoordSys3D, Del\n",
    "from sympy import symbols, Function\n",
    "\n",
    "# 建立坐标系，初始化Del算子\n",
    "C = CoordSys3D('C')\n",
    "delop = Del()\n",
    "\n",
    "# 定义符号与函数，v1,v2,v3为矢量v的三个分量大小，定义为C.x, C.y和C.z的函数\n",
    "v1, v2, v3, f = symbols('v1 v2 v3 f', cls=Function)\n",
    "vfield = v1(C.x, C.y, C.z)*C.i + v2(C.x, C.y, C.z)*C.j + v3(C.x, C.y, C.z)*C.k\n",
    "ffield = f(C.x, C.y, C.z)\n",
    "\n",
    "# 构造等式左边的表达式\n",
    "lhs = (delop.dot(ffield * vfield)).doit()\n",
    "# 构造等式右边的表达式\n",
    "rhs = ((vfield.dot(delop(ffield))) + (ffield * (delop.dot(vfield)))).doit()\n",
    "\n",
    "# 判断左右两边是否相等\n",
    "lhs.expand().simplify() == rhs.expand().doit().simplify()\n",
    "# True"
   ]
  },
  {
   "cell_type": "code",
   "execution_count": 24,
   "metadata": {},
   "outputs": [
    {
     "data": {
      "text/latex": [
       "$\\displaystyle \\left(v_{1}{\\left(\\mathbf{{x}_{C}},\\mathbf{{y}_{C}},\\mathbf{{z}_{C}} \\right)}\\right)\\mathbf{\\hat{i}_{C}} + \\left(v_{2}{\\left(\\mathbf{{x}_{C}},\\mathbf{{y}_{C}},\\mathbf{{z}_{C}} \\right)}\\right)\\mathbf{\\hat{j}_{C}} + \\left(v_{3}{\\left(\\mathbf{{x}_{C}},\\mathbf{{y}_{C}},\\mathbf{{z}_{C}} \\right)}\\right)\\mathbf{\\hat{k}_{C}}$"
      ],
      "text/plain": [
       "(v1(C.x, C.y, C.z))*C.i + (v2(C.x, C.y, C.z))*C.j + (v3(C.x, C.y, C.z))*C.k"
      ]
     },
     "execution_count": 24,
     "metadata": {},
     "output_type": "execute_result"
    }
   ],
   "source": [
    "vfield "
   ]
  },
  {
   "cell_type": "code",
   "execution_count": 27,
   "metadata": {},
   "outputs": [
    {
     "data": {
      "text/latex": [
       "$\\displaystyle \\left[\\begin{matrix}v_{1}{\\left(\\mathbf{{x}_{C}},\\mathbf{{y}_{C}},\\mathbf{{z}_{C}} \\right)}\\\\v_{2}{\\left(\\mathbf{{x}_{C}},\\mathbf{{y}_{C}},\\mathbf{{z}_{C}} \\right)}\\\\v_{3}{\\left(\\mathbf{{x}_{C}},\\mathbf{{y}_{C}},\\mathbf{{z}_{C}} \\right)}\\end{matrix}\\right]$"
      ],
      "text/plain": [
       "Matrix([\n",
       "[v1(C.x, C.y, C.z)],\n",
       "[v2(C.x, C.y, C.z)],\n",
       "[v3(C.x, C.y, C.z)]])"
      ]
     },
     "execution_count": 27,
     "metadata": {},
     "output_type": "execute_result"
    }
   ],
   "source": [
    "vfield.to_matrix(C)"
   ]
  },
  {
   "cell_type": "code",
   "execution_count": 28,
   "metadata": {},
   "outputs": [],
   "source": [
    "lhs = (delop.dot(ffield * vfield)).doit()"
   ]
  },
  {
   "cell_type": "code",
   "execution_count": 29,
   "metadata": {},
   "outputs": [
    {
     "data": {
      "text/latex": [
       "$\\displaystyle f{\\left(\\mathbf{{x}_{C}},\\mathbf{{y}_{C}},\\mathbf{{z}_{C}} \\right)} \\frac{\\partial}{\\partial \\mathbf{{x}_{C}}} v_{1}{\\left(\\mathbf{{x}_{C}},\\mathbf{{y}_{C}},\\mathbf{{z}_{C}} \\right)} + f{\\left(\\mathbf{{x}_{C}},\\mathbf{{y}_{C}},\\mathbf{{z}_{C}} \\right)} \\frac{\\partial}{\\partial \\mathbf{{y}_{C}}} v_{2}{\\left(\\mathbf{{x}_{C}},\\mathbf{{y}_{C}},\\mathbf{{z}_{C}} \\right)} + f{\\left(\\mathbf{{x}_{C}},\\mathbf{{y}_{C}},\\mathbf{{z}_{C}} \\right)} \\frac{\\partial}{\\partial \\mathbf{{z}_{C}}} v_{3}{\\left(\\mathbf{{x}_{C}},\\mathbf{{y}_{C}},\\mathbf{{z}_{C}} \\right)} + v_{1}{\\left(\\mathbf{{x}_{C}},\\mathbf{{y}_{C}},\\mathbf{{z}_{C}} \\right)} \\frac{\\partial}{\\partial \\mathbf{{x}_{C}}} f{\\left(\\mathbf{{x}_{C}},\\mathbf{{y}_{C}},\\mathbf{{z}_{C}} \\right)} + v_{2}{\\left(\\mathbf{{x}_{C}},\\mathbf{{y}_{C}},\\mathbf{{z}_{C}} \\right)} \\frac{\\partial}{\\partial \\mathbf{{y}_{C}}} f{\\left(\\mathbf{{x}_{C}},\\mathbf{{y}_{C}},\\mathbf{{z}_{C}} \\right)} + v_{3}{\\left(\\mathbf{{x}_{C}},\\mathbf{{y}_{C}},\\mathbf{{z}_{C}} \\right)} \\frac{\\partial}{\\partial \\mathbf{{z}_{C}}} f{\\left(\\mathbf{{x}_{C}},\\mathbf{{y}_{C}},\\mathbf{{z}_{C}} \\right)}$"
      ],
      "text/plain": [
       "f(C.x, C.y, C.z)*Derivative(v1(C.x, C.y, C.z), C.x) + f(C.x, C.y, C.z)*Derivative(v2(C.x, C.y, C.z), C.y) + f(C.x, C.y, C.z)*Derivative(v3(C.x, C.y, C.z), C.z) + v1(C.x, C.y, C.z)*Derivative(f(C.x, C.y, C.z), C.x) + v2(C.x, C.y, C.z)*Derivative(f(C.x, C.y, C.z), C.y) + v3(C.x, C.y, C.z)*Derivative(f(C.x, C.y, C.z), C.z)"
      ]
     },
     "execution_count": 29,
     "metadata": {},
     "output_type": "execute_result"
    }
   ],
   "source": [
    "lhs"
   ]
  },
  {
   "cell_type": "code",
   "execution_count": 30,
   "metadata": {},
   "outputs": [],
   "source": [
    "rhs = ((vfield.dot(delop(ffield))) + (ffield * (delop.dot(vfield)))).doit()"
   ]
  },
  {
   "cell_type": "code",
   "execution_count": 33,
   "metadata": {},
   "outputs": [
    {
     "data": {
      "text/latex": [
       "$\\displaystyle f{\\left(\\mathbf{{x}_{C}},\\mathbf{{y}_{C}},\\mathbf{{z}_{C}} \\right)} \\frac{\\partial}{\\partial \\mathbf{{x}_{C}}} v_{1}{\\left(\\mathbf{{x}_{C}},\\mathbf{{y}_{C}},\\mathbf{{z}_{C}} \\right)} + f{\\left(\\mathbf{{x}_{C}},\\mathbf{{y}_{C}},\\mathbf{{z}_{C}} \\right)} \\frac{\\partial}{\\partial \\mathbf{{y}_{C}}} v_{2}{\\left(\\mathbf{{x}_{C}},\\mathbf{{y}_{C}},\\mathbf{{z}_{C}} \\right)} + f{\\left(\\mathbf{{x}_{C}},\\mathbf{{y}_{C}},\\mathbf{{z}_{C}} \\right)} \\frac{\\partial}{\\partial \\mathbf{{z}_{C}}} v_{3}{\\left(\\mathbf{{x}_{C}},\\mathbf{{y}_{C}},\\mathbf{{z}_{C}} \\right)} + v_{1}{\\left(\\mathbf{{x}_{C}},\\mathbf{{y}_{C}},\\mathbf{{z}_{C}} \\right)} \\frac{\\partial}{\\partial \\mathbf{{x}_{C}}} f{\\left(\\mathbf{{x}_{C}},\\mathbf{{y}_{C}},\\mathbf{{z}_{C}} \\right)} + v_{2}{\\left(\\mathbf{{x}_{C}},\\mathbf{{y}_{C}},\\mathbf{{z}_{C}} \\right)} \\frac{\\partial}{\\partial \\mathbf{{y}_{C}}} f{\\left(\\mathbf{{x}_{C}},\\mathbf{{y}_{C}},\\mathbf{{z}_{C}} \\right)} + v_{3}{\\left(\\mathbf{{x}_{C}},\\mathbf{{y}_{C}},\\mathbf{{z}_{C}} \\right)} \\frac{\\partial}{\\partial \\mathbf{{z}_{C}}} f{\\left(\\mathbf{{x}_{C}},\\mathbf{{y}_{C}},\\mathbf{{z}_{C}} \\right)}$"
      ],
      "text/plain": [
       "f(C.x, C.y, C.z)*Derivative(v1(C.x, C.y, C.z), C.x) + f(C.x, C.y, C.z)*Derivative(v2(C.x, C.y, C.z), C.y) + f(C.x, C.y, C.z)*Derivative(v3(C.x, C.y, C.z), C.z) + v1(C.x, C.y, C.z)*Derivative(f(C.x, C.y, C.z), C.x) + v2(C.x, C.y, C.z)*Derivative(f(C.x, C.y, C.z), C.y) + v3(C.x, C.y, C.z)*Derivative(f(C.x, C.y, C.z), C.z)"
      ]
     },
     "execution_count": 33,
     "metadata": {},
     "output_type": "execute_result"
    }
   ],
   "source": [
    "rhs.expand().simplify()"
   ]
  },
  {
   "cell_type": "code",
   "execution_count": null,
   "metadata": {},
   "outputs": [],
   "source": []
  },
  {
   "cell_type": "markdown",
   "metadata": {},
   "source": [
    "向量积分的应用\n",
    "要求标量场或者矢量场在某一个区域的积分，首先需要定义一个区域。SymPy可以通过参数方程、隐函数、几何模型对象来定义区域。\n",
    "\n",
    "首先导入一些必要的常量和函数："
   ]
  },
  {
   "cell_type": "code",
   "execution_count": 34,
   "metadata": {},
   "outputs": [],
   "source": [
    "from sympy import sin, cos, exp, pi, symbols\n",
    "from sympy.vector import CoordSys3D, ParametricRegion, ImplicitRegion, vector_integrate\n",
    "from sympy.abc import r, x, y, z, theta, phi\n",
    "C = CoordSys3D('C')"
   ]
  },
  {
   "cell_type": "markdown",
   "metadata": {},
   "source": [
    "用到的主要函数：vector_integrate(field, *region) ，field是标量或矢量场，*region是积分区域。"
   ]
  },
  {
   "cell_type": "markdown",
   "metadata": {},
   "source": [
    "计算周长、表面积、体积\n",
    "为计算圆的周长，首先需要定义这个圆的边界曲线。可以用参数方程定义："
   ]
  },
  {
   "cell_type": "code",
   "execution_count": 36,
   "metadata": {},
   "outputs": [],
   "source": [
    "param_circle = ParametricRegion((4*cos(theta), 4*sin(theta)), (theta, 0, 2*pi))"
   ]
  },
  {
   "cell_type": "code",
   "execution_count": 37,
   "metadata": {},
   "outputs": [
    {
     "data": {
      "text/latex": [
       "$\\displaystyle \\operatorname{ParametricRegion}\\left(\\left( 4 \\cos{\\left(\\theta \\right)}, \\  4 \\sin{\\left(\\theta \\right)}\\right), \\left( \\theta, \\  0, \\  2 \\pi\\right)\\right)$"
      ],
      "text/plain": [
       "ParametricRegion((4*cos(theta), 4*sin(theta)), (theta, 0, 2*pi))"
      ]
     },
     "execution_count": 37,
     "metadata": {},
     "output_type": "execute_result"
    }
   ],
   "source": [
    "param_circle "
   ]
  },
  {
   "cell_type": "markdown",
   "metadata": {},
   "source": [
    "也可以用用隐函数来定义："
   ]
  },
  {
   "cell_type": "code",
   "execution_count": 43,
   "metadata": {},
   "outputs": [],
   "source": [
    "implicit_circle = ImplicitRegion((x, y), x**2 + y**2 - 4)"
   ]
  },
  {
   "cell_type": "code",
   "execution_count": 44,
   "metadata": {},
   "outputs": [
    {
     "data": {
      "text/latex": [
       "$\\displaystyle \\operatorname{ImplicitRegion}\\left(\\left( x, \\  y\\right), x^{2} + y^{2} - 4\\right)$"
      ],
      "text/plain": [
       "ImplicitRegion((x, y), x**2 + y**2 - 4)"
      ]
     },
     "execution_count": 44,
     "metadata": {},
     "output_type": "execute_result"
    }
   ],
   "source": [
    "implicit_circle\n"
   ]
  },
  {
   "cell_type": "markdown",
   "metadata": {},
   "source": [
    "定义的区域为圆的边界曲线，计算曲线的周长，即单位标量场的曲线积分的绝对值"
   ]
  },
  {
   "cell_type": "code",
   "execution_count": 41,
   "metadata": {},
   "outputs": [
    {
     "data": {
      "text/latex": [
       "$\\displaystyle 8 \\pi$"
      ],
      "text/plain": [
       "8*pi"
      ]
     },
     "execution_count": 41,
     "metadata": {},
     "output_type": "execute_result"
    }
   ],
   "source": [
    "vector_integrate(1, param_circle)"
   ]
  },
  {
   "cell_type": "code",
   "execution_count": 45,
   "metadata": {},
   "outputs": [
    {
     "data": {
      "text/latex": [
       "$\\displaystyle 4 \\pi$"
      ],
      "text/plain": [
       "4*pi"
      ]
     },
     "execution_count": 45,
     "metadata": {},
     "output_type": "execute_result"
    }
   ],
   "source": [
    "vector_integrate(1, implicit_circle)"
   ]
  },
  {
   "cell_type": "markdown",
   "metadata": {},
   "source": [
    "定义一个实心球区域，并求体积："
   ]
  },
  {
   "cell_type": "code",
   "execution_count": 53,
   "metadata": {},
   "outputs": [
    {
     "data": {
      "text/latex": [
       "$\\displaystyle \\frac{256 \\pi}{3}$"
      ],
      "text/plain": [
       "256*pi/3"
      ]
     },
     "execution_count": 53,
     "metadata": {},
     "output_type": "execute_result"
    }
   ],
   "source": [
    "solidsphere = ParametricRegion((r*sin(phi)*cos(theta), r*sin(phi)*sin(theta), r*cos(phi)),\n",
    "\t(phi, 0, pi), (theta, 0, 2*pi), (r, 0, 4))\n",
    "vector_integrate(1, solidsphere)"
   ]
  },
  {
   "cell_type": "markdown",
   "metadata": {},
   "source": [
    "计算物体质量"
   ]
  },
  {
   "cell_type": "markdown",
   "metadata": {},
   "source": [
    "有一个三角形区域，顶点为( 0 , 0 ) (0,0)(0,0)，( 0 , 5 ) (0,5)(0,5)，( 5 , 0 ) (5,0)(5,0)，密度分布ρ ( x , y ) = x y ( k g / m 2 ) \\rho(x, y) = xy (\\mathrm{kg/m^2})ρ(x,y)=xy(kg/m \n",
    "2\n",
    " )，求总质量："
   ]
  },
  {
   "cell_type": "code",
   "execution_count": 54,
   "metadata": {},
   "outputs": [
    {
     "data": {
      "text/latex": [
       "$\\displaystyle \\frac{625}{24}$"
      ],
      "text/plain": [
       "625/24"
      ]
     },
     "execution_count": 54,
     "metadata": {},
     "output_type": "execute_result"
    }
   ],
   "source": [
    "triangle = ParametricRegion((x, y), (x, 0, 5), (y, 0, 5 - x))\n",
    "vector_integrate(C.x*C.y, triangle)\n",
    "# 625/24"
   ]
  },
  {
   "cell_type": "markdown",
   "metadata": {},
   "source": [
    "有一个圆柱区域，以z为轴，高h，半径a，密度分布ρ ( x , y ) = x 2 + y 2 ( k g / m 2 ) \\rho(x, y) = x^2 + y^2 (\\mathrm{kg / m^2})ρ(x,y)=x \n",
    "2\n",
    " +y \n",
    "2\n",
    " (kg/m \n",
    "2\n",
    " )，求总质量："
   ]
  },
  {
   "cell_type": "code",
   "execution_count": 55,
   "metadata": {},
   "outputs": [
    {
     "data": {
      "text/latex": [
       "$\\displaystyle \\frac{\\pi a^{4} h}{2}$"
      ],
      "text/plain": [
       "pi*a**4*h/2"
      ]
     },
     "execution_count": 55,
     "metadata": {},
     "output_type": "execute_result"
    }
   ],
   "source": [
    "a, h = symbols('a h', positive=True)\n",
    "cylinder = ParametricRegion((r*cos(theta), r*sin(theta), z),\n",
    "\t\t\t(theta, 0, 2*pi), (z, 0, h), (r, 0, a))\n",
    "vector_integrate(C.x**2 + C.y**2, cylinder)\n",
    "# pi*a**4*h/2"
   ]
  },
  {
   "cell_type": "markdown",
   "metadata": {},
   "source": [
    "计算通量流量\n",
    "假设有一个区域上存在常数向量场E ( x , y , z ) = a k ^ E(x,y,z)=a\\hat{\\mathbf k}E(x,y,z)=a \n",
    "k\n",
    "^\n",
    "  ，有一个以r rr为半径的半球落在x − y x-yx−y平面，求通量："
   ]
  },
  {
   "cell_type": "markdown",
   "metadata": {},
   "source": []
  },
  {
   "cell_type": "code",
   "execution_count": 56,
   "metadata": {},
   "outputs": [
    {
     "data": {
      "text/latex": [
       "$\\displaystyle \\pi a r^{2}$"
      ],
      "text/plain": [
       "pi*a*r**2"
      ]
     },
     "execution_count": 56,
     "metadata": {},
     "output_type": "execute_result"
    }
   ],
   "source": [
    "semisphere = ParametricRegion((r*sin(phi)*cos(theta), r*sin(phi)*sin(theta), r*cos(phi)),\n",
    "\t\t(phi, 0, pi/2), (theta, 0, 2*pi))\n",
    "flux = vector_integrate(a*C.k, semisphere)\n",
    "flux\n",
    "# pi*a*r**2"
   ]
  },
  {
   "cell_type": "markdown",
   "metadata": {},
   "source": [
    "假设有一个区域上存在向量场\n",
    "$ E(x,y,z)=x^2\\hat{\\mathbf k}$\n",
    "\n",
    "在(x-y)平面上方，(不是x-y=0的平面)\n",
    "\n",
    "向量场 $E(x, y, z) = y^2 \\hat{\\mathbf k}$\n",
    "\n",
    "\n",
    "{场形态约为Y轴/X轴对称，指向Z方向场，x,y越大场强越大，}\n",
    "\n",
    "\n",
    "求通过边长L LL、中心在原点的立方体的向量场的通量："
   ]
  },
  {
   "cell_type": "code",
   "execution_count": 57,
   "metadata": {},
   "outputs": [
    {
     "data": {
      "text/latex": [
       "$\\displaystyle \\frac{L^{4}}{6}$"
      ],
      "text/plain": [
       "L**4/6"
      ]
     },
     "execution_count": 57,
     "metadata": {},
     "output_type": "execute_result"
    }
   ],
   "source": [
    "L = symbols('L', positive=True)\n",
    "top_face = ParametricRegion((x, y, L/2), (x, -L/2, L/2), (y, -L/2, L/2))\n",
    "bottom_face = ParametricRegion((x, y, -L/2), (x, -L/2, L/2), (y, -L/2, L/2))\n",
    "flux = vector_integrate(C.x**2*C.k, top_face) + vector_integrate(C.y**2*C.k, bottom_face)\n",
    "flux"
   ]
  },
  {
   "cell_type": "code",
   "execution_count": null,
   "metadata": {},
   "outputs": [],
   "source": []
  },
  {
   "cell_type": "markdown",
   "metadata": {},
   "source": [
    "证明Stokes定理"
   ]
  },
  {
   "cell_type": "code",
   "execution_count": 60,
   "metadata": {},
   "outputs": [],
   "source": [
    "from sympy.vector import curl\n",
    "curve = ParametricRegion((cos(theta), sin(theta)), (theta, 0, pi/2))\n",
    "surface = ParametricRegion((r*cos(theta), r*sin(theta)), (r, 0, 1),(theta, 0, pi/2))\n",
    "F = C.y*C.i + C.z*C.k + C.x*C.k\n",
    "vector_integrate(F, curve)\n",
    "# -pi/4\n",
    "vector_integrate(curl(F), surface)\n",
    "# -pi/4\n",
    "circle = ParametricRegion((cos(theta), sin(theta), 1), (theta, 0,2*pi))\n"
   ]
  },
  {
   "cell_type": "code",
   "execution_count": 61,
   "metadata": {},
   "outputs": [
    {
     "data": {
      "text/latex": [
       "$\\displaystyle \\operatorname{ParametricRegion}\\left(\\left( \\cos{\\left(\\theta \\right)}, \\  \\sin{\\left(\\theta \\right)}, \\  1\\right), \\left( \\theta, \\  0, \\  2 \\pi\\right)\\right)$"
      ],
      "text/plain": [
       "ParametricRegion((cos(theta), sin(theta), 1), (theta, 0, 2*pi))"
      ]
     },
     "execution_count": 61,
     "metadata": {},
     "output_type": "execute_result"
    }
   ],
   "source": [
    "circle"
   ]
  },
  {
   "cell_type": "code",
   "execution_count": 62,
   "metadata": {},
   "outputs": [
    {
     "data": {
      "text/latex": [
       "$\\displaystyle \\operatorname{ParametricRegion}\\left(\\left( r \\cos{\\left(\\theta \\right)}, \\  r \\sin{\\left(\\theta \\right)}, \\  r\\right), \\left( r, \\  0, \\  1\\right), \\left( \\theta, \\  0, \\  2 \\pi\\right)\\right)$"
      ],
      "text/plain": [
       "ParametricRegion((r*cos(theta), r*sin(theta), r), (r, 0, 1), (theta, 0, 2*pi))"
      ]
     },
     "execution_count": 62,
     "metadata": {},
     "output_type": "execute_result"
    }
   ],
   "source": [
    "cone = ParametricRegion((r*cos(theta), r*sin(theta), r), (r, 0, 1),(theta, 0, 2*pi))\n",
    "cone\n"
   ]
  },
  {
   "cell_type": "code",
   "execution_count": 63,
   "metadata": {},
   "outputs": [
    {
     "data": {
      "text/latex": [
       "$\\displaystyle \\frac{\\pi}{2}$"
      ],
      "text/plain": [
       "pi/2"
      ]
     },
     "execution_count": 63,
     "metadata": {},
     "output_type": "execute_result"
    }
   ],
   "source": [
    "f = (-C.y**3/3 + sin(C.x))*C.i + (C.x**3/3 + cos(C.y))*C.j + C.x*C.y*C.z*C.k\n",
    "vector_integrate(f, circle)\n",
    "# pi/2\n"
   ]
  },
  {
   "cell_type": "code",
   "execution_count": 64,
   "metadata": {},
   "outputs": [
    {
     "data": {
      "text/latex": [
       "$\\displaystyle \\frac{\\pi}{2}$"
      ],
      "text/plain": [
       "pi/2"
      ]
     },
     "execution_count": 64,
     "metadata": {},
     "output_type": "execute_result"
    }
   ],
   "source": [
    "vector_integrate(curl(f), cone)\n",
    "# pi/2"
   ]
  },
  {
   "cell_type": "markdown",
   "metadata": {},
   "source": [
    "证明散度定理"
   ]
  },
  {
   "cell_type": "code",
   "execution_count": 65,
   "metadata": {},
   "outputs": [],
   "source": [
    "from sympy.vector import divergence\n",
    "sphere = ParametricRegion((4*sin(phi)*cos(theta), 4*sin(phi)*sin(theta), 4*cos(phi)),\n",
    " \t\t   \t\t\t\t  (phi, 0, pi), (theta, 0, 2*pi))\n",
    "solidsphere = ParametricRegion((r*sin(phi)*cos(theta), r*sin(phi)*sin(theta), r*cos(phi)),\n",
    "\t\t\t\t\t\t\t   (r, 0, 4),(phi, 0, pi), (theta, 0, 2*pi))"
   ]
  },
  {
   "cell_type": "code",
   "execution_count": 66,
   "metadata": {},
   "outputs": [],
   "source": [
    "field = C.x**3*C.i + C.y**3*C.j + C.z**3*C.k"
   ]
  },
  {
   "cell_type": "code",
   "execution_count": 67,
   "metadata": {},
   "outputs": [
    {
     "data": {
      "text/latex": [
       "$\\displaystyle \\frac{12288 \\pi}{5}$"
      ],
      "text/plain": [
       "12288*pi/5"
      ]
     },
     "execution_count": 67,
     "metadata": {},
     "output_type": "execute_result"
    }
   ],
   "source": [
    "vector_integrate(field, sphere)"
   ]
  },
  {
   "cell_type": "code",
   "execution_count": 68,
   "metadata": {},
   "outputs": [
    {
     "data": {
      "text/latex": [
       "$\\displaystyle \\frac{12288 \\pi}{5}$"
      ],
      "text/plain": [
       "12288*pi/5"
      ]
     },
     "execution_count": 68,
     "metadata": {},
     "output_type": "execute_result"
    }
   ],
   "source": [
    "vector_integrate(divergence(field), solidsphere)"
   ]
  },
  {
   "cell_type": "markdown",
   "metadata": {},
   "source": []
  }
 ],
 "metadata": {
  "kernelspec": {
   "display_name": "base",
   "language": "python",
   "name": "python3"
  },
  "language_info": {
   "codemirror_mode": {
    "name": "ipython",
    "version": 3
   },
   "file_extension": ".py",
   "mimetype": "text/x-python",
   "name": "python",
   "nbconvert_exporter": "python",
   "pygments_lexer": "ipython3",
   "version": "3.11.5"
  }
 },
 "nbformat": 4,
 "nbformat_minor": 2
}
